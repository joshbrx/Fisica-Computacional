{
 "cells": [
  {
   "cell_type": "markdown",
   "metadata": {},
   "source": [
    "# For - in"
   ]
  },
  {
   "cell_type": "markdown",
   "metadata": {},
   "source": [
    "Hay otro tipo de bucle en Python, el bucle *for*, que se puede interpretar como *para todo elemento de una serie, hacer una acción*."
   ]
  },
  {
   "cell_type": "code",
   "execution_count": 1,
   "metadata": {},
   "outputs": [
    {
     "name": "stdout",
     "output_type": "stream",
     "text": [
      "Da un número3\n",
      "3 elevado a 2 es 9\n",
      "3 elevado a 3 es 27\n",
      "3 elevado a 4 es 81\n",
      "3 elevado a 5 es 243\n"
     ]
    }
   ],
   "source": [
    "numero=int(input(\"Da un número\"))\n",
    "print(\"%d elevado a %d es %d\" % (numero, 2, numero**2))\n",
    "print(\"%d elevado a %d es %d\" % (numero, 3, numero**3))\n",
    "print(\"%d elevado a %d es %d\" % (numero, 4, numero**4))\n",
    "print(\"%d elevado a %d es %d\" % (numero, 5, numero**5))"
   ]
  },
  {
   "cell_type": "code",
   "execution_count": 2,
   "metadata": {},
   "outputs": [
    {
     "name": "stdout",
     "output_type": "stream",
     "text": [
      "Da un entero3\n",
      "3 elevado a 2 es 9\n",
      "3 elevado a 3 es 27\n",
      "3 elevado a 4 es 81\n",
      "3 elevado a 5 es 243\n"
     ]
    }
   ],
   "source": [
    "numero=int(input(\"Da un entero\"))\n",
    "for potencia in [2,3,4,5]:\n",
    "    print(\"%d elevado a %d es %d\" %(numero, potencia, numero**potencia))"
   ]
  },
  {
   "cell_type": "code",
   "execution_count": 15,
   "metadata": {},
   "outputs": [
    {
     "name": "stdout",
     "output_type": "stream",
     "text": [
      "[0, 1, 2, 3, 4, 5, 6, 7, 8, 9]\n"
     ]
    }
   ],
   "source": [
    "lista=range(0,10,1) #variable rango \n",
    "print(list(lista)) "
   ]
  },
  {
   "cell_type": "code",
   "execution_count": 19,
   "metadata": {},
   "outputs": [
    {
     "data": {
      "text/plain": [
       "[0, 2, 4, 6, 8]"
      ]
     },
     "execution_count": 19,
     "metadata": {},
     "output_type": "execute_result"
    }
   ],
   "source": [
    "list(range(0,10,2))"
   ]
  },
  {
   "cell_type": "code",
   "execution_count": 17,
   "metadata": {},
   "outputs": [
    {
     "data": {
      "text/plain": [
       "[3, 4, 5, 6]"
      ]
     },
     "execution_count": 17,
     "metadata": {},
     "output_type": "execute_result"
    }
   ],
   "source": [
    "list(range(3,7))"
   ]
  },
  {
   "cell_type": "code",
   "execution_count": 22,
   "metadata": {},
   "outputs": [
    {
     "name": "stdout",
     "output_type": "stream",
     "text": [
      "5050\n"
     ]
    }
   ],
   "source": [
    "sumatoria=0 #valor inicial\n",
    "for i in range(0,101):\n",
    "    sumatoria+=i\n",
    "print(sumatoria)"
   ]
  },
  {
   "cell_type": "markdown",
   "metadata": {},
   "source": [
    "$$\n",
    "\\Pi_{i=1}^{n}=i\n",
    "$$"
   ]
  },
  {
   "cell_type": "code",
   "execution_count": 24,
   "metadata": {},
   "outputs": [
    {
     "name": "stdout",
     "output_type": "stream",
     "text": [
      "93326215443944152681699238856266700490715968264381621468592963895217599993229915608941463976156518286253697920827223758251185210916864000000000000000000000000\n"
     ]
    }
   ],
   "source": [
    "mult=1 #valor inicial\n",
    "for i in range(1,101):\n",
    "    mult*=i\n",
    "print(mult)"
   ]
  },
  {
   "cell_type": "code",
   "execution_count": null,
   "metadata": {},
   "outputs": [],
   "source": []
  },
  {
   "cell_type": "code",
   "execution_count": null,
   "metadata": {},
   "outputs": [],
   "source": []
  }
 ],
 "metadata": {
  "kernelspec": {
   "display_name": "Python 3",
   "language": "python",
   "name": "python3"
  },
  "language_info": {
   "codemirror_mode": {
    "name": "ipython",
    "version": 3
   },
   "file_extension": ".py",
   "mimetype": "text/x-python",
   "name": "python",
   "nbconvert_exporter": "python",
   "pygments_lexer": "ipython3",
   "version": "3.8.3"
  }
 },
 "nbformat": 4,
 "nbformat_minor": 4
}
