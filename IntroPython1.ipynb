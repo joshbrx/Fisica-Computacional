{
 "cells": [
  {
   "cell_type": "markdown",
   "metadata": {},
   "source": [
    "# Introducción a Python"
   ]
  },
  {
   "cell_type": "markdown",
   "metadata": {},
   "source": [
    "Python es un lenguaje de programación de alto nivel, orientado a objetos. Desarrollado a finales de los años 80's por Guido Van Rossum (Van Rossum se hace llamar BDFL \"Benevolent Dictator for Life\" siguiendo la broma de Monty Python). Es uno de los lenguajes más usados en el ámbito científico: Fortran, C, Matematica, Python, Matlab, Julia,  (http://flow.byu.edu/posts/sci-prog-lang, https://www.quora.com/Which-programming-language-should-I-learn-for-scientific-computing). También es uno de los lenguajes de programación más solicitados en el ámbito laboral (https://www.codingdojo.com/blog/7-most-in-demand-programming-languages-of-2018/, https://stackify.com/popular-programming-languages-2018/)\n",
    "\n",
    "Características:\n",
    "\n",
    "1. No se compila a lenguaje máquina, se ejecuta en un intérprete.\n",
    "    \n",
    "2. Genera códigos más cortos y limpios que otros lenguajes de programación. Es un buen lenguaje para empezar a programar.\n",
    "\n",
    "3. Es software libre. Cumple con las 4 libertades: (i) Libertad de ser usado. (ii) Libertad de ser modificado. (iii) Libertad de ser compartido. (iv) Libertad de ser modificado y compartido.\n",
    "\n",
    "4. Es multiplataformas. Hay editores de Python para Windows, Linux, Mac y Android. Además de que puede ser ejecutado en línea.\n",
    "\n",
    "5. Fácil de Instalar.\n",
    "\n",
    "6. Hereda características de C y Matlab."
   ]
  },
  {
   "cell_type": "markdown",
   "metadata": {},
   "source": [
    "Compilador versus intérprete: \n",
    "    \n",
    "Compilador: \"Traduce un lenguaje a otro lenguaje\" e.g. Fortran --> lenguaje máquina --> ejecuta\n",
    "\n",
    "Intérprete: \"Traduce un lenguaje a binario de la máquina\" e.g. Python --> ejecuta"
   ]
  },
  {
   "cell_type": "markdown",
   "metadata": {},
   "source": [
    "Actualmente, Python es muy usado Google, Yahoo, CERN, Nasa y en todo lo que es Ciencia de Datos. Esto se debe a que tiene una curva de aprendizaje pequeña"
   ]
  },
  {
   "cell_type": "markdown",
   "metadata": {},
   "source": [
    "## Operaciones Binarias\n",
    "\n",
    "1. +,\n",
    "2. -, \n",
    "3. *, \n",
    "4. /, \n",
    "5. // (División de piso: división que resulta en un número entero ajustado a la izquierda en la recta numérica), \n",
    "6. % (regresa el residuo de la división), **"
   ]
  },
  {
   "cell_type": "markdown",
   "metadata": {},
   "source": [
    "##    Variables"
   ]
  },
  {
   "cell_type": "markdown",
   "metadata": {},
   "source": [
    "En todos los lenguajes de programación, el nombre de las variables representan un valor dado alojado en la memoria. El valor puede cambiar, pero no el tipo de variable. Sin embargo, esto no pasa en Python ya que las variables son dinámicas."
   ]
  },
  {
   "cell_type": "code",
   "execution_count": 33,
   "metadata": {},
   "outputs": [],
   "source": [
    "b=2  #variable entera"
   ]
  },
  {
   "cell_type": "code",
   "execution_count": 34,
   "metadata": {},
   "outputs": [
    {
     "data": {
      "text/plain": [
       "int"
      ]
     },
     "execution_count": 34,
     "metadata": {},
     "output_type": "execute_result"
    }
   ],
   "source": [
    "type(b) #la función type nos dice de que tipo es la variable b"
   ]
  },
  {
   "cell_type": "code",
   "execution_count": 35,
   "metadata": {},
   "outputs": [],
   "source": [
    "b=b*2.0 #cambiamos dinámicamente el valor de la variable y el tipo"
   ]
  },
  {
   "cell_type": "code",
   "execution_count": 36,
   "metadata": {},
   "outputs": [
    {
     "data": {
      "text/plain": [
       "float"
      ]
     },
     "execution_count": 36,
     "metadata": {},
     "output_type": "execute_result"
    }
   ],
   "source": [
    "type(b)"
   ]
  },
  {
   "cell_type": "markdown",
   "metadata": {},
   "source": [
    "Tipo de variables:\n",
    "\n",
    "-Enteras \"Integer\" --- int( )\n",
    "\n",
    "-Flotantes \"Float\" --- float ( )\n",
    "\n",
    "-Cadena de Caracteres \"String\" --- str( )\n",
    "\n",
    "-Booleanas:  True; False"
   ]
  },
  {
   "cell_type": "markdown",
   "metadata": {},
   "source": [
    "Con = asignamos el valor a una variable (Creamos en la memoria la variable), con == hacemos la comparación de dos cosas (idéntico a ). Nótese que = no es una operación simétrica. No existe 5=x"
   ]
  },
  {
   "cell_type": "code",
   "execution_count": 57,
   "metadata": {},
   "outputs": [
    {
     "name": "stdout",
     "output_type": "stream",
     "text": [
      "3.3333333333333335 0.3 3 0\n"
     ]
    }
   ],
   "source": [
    "print(10/3,3/10,10//3,3//10) #//parte entera de la división"
   ]
  },
  {
   "cell_type": "code",
   "execution_count": 58,
   "metadata": {},
   "outputs": [
    {
     "name": "stdout",
     "output_type": "stream",
     "text": [
      "1 3\n"
     ]
    }
   ],
   "source": [
    "print(10%3,3%10) #el residuo de la operación"
   ]
  },
  {
   "cell_type": "markdown",
   "metadata": {},
   "source": [
    "### Asignación de múltiples variables simultáneas"
   ]
  },
  {
   "cell_type": "code",
   "execution_count": 37,
   "metadata": {},
   "outputs": [],
   "source": [
    "x,y,z=1,2,3.0"
   ]
  },
  {
   "cell_type": "code",
   "execution_count": 38,
   "metadata": {},
   "outputs": [
    {
     "name": "stdout",
     "output_type": "stream",
     "text": [
      "1\n",
      "2\n",
      "3.0\n"
     ]
    }
   ],
   "source": [
    "print(x)\n",
    "print(y)\n",
    "print(z)"
   ]
  },
  {
   "cell_type": "markdown",
   "metadata": {},
   "source": [
    "### Identificadores (Identifiers):"
   ]
  },
  {
   "cell_type": "markdown",
   "metadata": {},
   "source": [
    "Secuencia de letras idéntificadas por Python para llevar a cabo una función. No se pueden usar como nombre de variables (e.g. and, or, for, while, del, append, ...)"
   ]
  },
  {
   "cell_type": "markdown",
   "metadata": {},
   "source": [
    "Python distingue entre mayúsculas y minúsculas"
   ]
  },
  {
   "cell_type": "code",
   "execution_count": 7,
   "metadata": {},
   "outputs": [
    {
     "name": "stdout",
     "output_type": "stream",
     "text": [
      "3.141592653589793\n",
      "3.141592653589793115997963468544185161590576171875\n"
     ]
    }
   ],
   "source": [
    "from math import pi #desde math importa la variable pi\n",
    "print(pi)\n",
    "#Si queremos más valores de pi, importamos el módulo decimal\n",
    "from decimal import Decimal\n",
    "print(Decimal(pi))"
   ]
  },
  {
   "cell_type": "markdown",
   "metadata": {},
   "source": [
    "### Notación Cientifica"
   ]
  },
  {
   "cell_type": "code",
   "execution_count": 14,
   "metadata": {},
   "outputs": [
    {
     "name": "stdout",
     "output_type": "stream",
     "text": [
      "El numero de avogadro es 6.022e+23\n",
      "Velocidad de la Luz = 299800000.0\n"
     ]
    }
   ],
   "source": [
    "numero_avogadro = 6.022e23\n",
    "c = 2.998e8\n",
    "print(\"El numero de avogadro es\", numero_avogadro)\n",
    "print(\"Velocidad de la Luz =\", c)"
   ]
  },
  {
   "cell_type": "markdown",
   "metadata": {},
   "source": [
    "###     Cadena de Caracteres (String) "
   ]
  },
  {
   "cell_type": "markdown",
   "metadata": {},
   "source": [
    "Las cadenas son secuencias de caracteres que están entre dos comillas o una comilla."
   ]
  },
  {
   "cell_type": "code",
   "execution_count": 14,
   "metadata": {},
   "outputs": [],
   "source": [
    "cadena1='Hola '"
   ]
  },
  {
   "cell_type": "code",
   "execution_count": 15,
   "metadata": {},
   "outputs": [],
   "source": [
    "cadena2='a todos'"
   ]
  },
  {
   "cell_type": "markdown",
   "metadata": {},
   "source": [
    "Con estas dos cadenas hacemos la acción de concaternar (Pegar el inicio de una cadena al final de la otra)."
   ]
  },
  {
   "cell_type": "code",
   "execution_count": 16,
   "metadata": {},
   "outputs": [
    {
     "name": "stdout",
     "output_type": "stream",
     "text": [
      "Hola a todos\n"
     ]
    }
   ],
   "source": [
    "print(cadena1+cadena2)"
   ]
  },
  {
   "cell_type": "markdown",
   "metadata": {},
   "source": [
    "Puedo seleccionar lo que quiero que aparezca (cortar selectivamente)"
   ]
  },
  {
   "cell_type": "code",
   "execution_count": 19,
   "metadata": {},
   "outputs": [
    {
     "name": "stdout",
     "output_type": "stream",
     "text": [
      "a t\n"
     ]
    }
   ],
   "source": [
    "print(cadena2[0:3])"
   ]
  },
  {
   "cell_type": "markdown",
   "metadata": {},
   "source": [
    "Las cadenas son inmutables"
   ]
  },
  {
   "cell_type": "code",
   "execution_count": 17,
   "metadata": {},
   "outputs": [
    {
     "name": "stdout",
     "output_type": "stream",
     "text": [
      "3\n"
     ]
    }
   ],
   "source": [
    "a=3\n",
    "print(a)"
   ]
  },
  {
   "cell_type": "code",
   "execution_count": 18,
   "metadata": {},
   "outputs": [
    {
     "name": "stdout",
     "output_type": "stream",
     "text": [
      "4\n"
     ]
    }
   ],
   "source": [
    "a=4\n",
    "print(a)"
   ]
  },
  {
   "cell_type": "code",
   "execution_count": 47,
   "metadata": {},
   "outputs": [
    {
     "data": {
      "text/plain": [
       "'Hola'"
      ]
     },
     "execution_count": 47,
     "metadata": {},
     "output_type": "execute_result"
    }
   ],
   "source": [
    "s='hola'\n",
    "s.capitalize()"
   ]
  },
  {
   "cell_type": "code",
   "execution_count": 48,
   "metadata": {},
   "outputs": [
    {
     "data": {
      "text/plain": [
       "'python'"
      ]
     },
     "execution_count": 48,
     "metadata": {},
     "output_type": "execute_result"
    }
   ],
   "source": [
    "\"Python\".lower()"
   ]
  },
  {
   "cell_type": "code",
   "execution_count": 49,
   "metadata": {},
   "outputs": [
    {
     "data": {
      "text/plain": [
       "'PYTHON'"
      ]
     },
     "execution_count": 49,
     "metadata": {},
     "output_type": "execute_result"
    }
   ],
   "source": [
    "\"python\".upper()"
   ]
  },
  {
   "cell_type": "code",
   "execution_count": 19,
   "metadata": {},
   "outputs": [
    {
     "data": {
      "text/plain": [
       "'Mi clasede la Facultad de Ciencias'"
      ]
     },
     "execution_count": 19,
     "metadata": {},
     "output_type": "execute_result"
    }
   ],
   "source": [
    "\"Mi clase\" + \"de\" +\" \"+ \"la Facultad de Ciencias\""
   ]
  },
  {
   "cell_type": "code",
   "execution_count": 20,
   "metadata": {},
   "outputs": [
    {
     "data": {
      "text/plain": [
       "'Facultad de Ciencias Facultad de Ciencias Facultad de Ciencias '"
      ]
     },
     "execution_count": 20,
     "metadata": {},
     "output_type": "execute_result"
    }
   ],
   "source": [
    "3*(\"Facultad de Ciencias\"+\" \")"
   ]
  },
  {
   "cell_type": "code",
   "execution_count": null,
   "metadata": {},
   "outputs": [],
   "source": []
  }
 ],
 "metadata": {
  "kernelspec": {
   "display_name": "Python 3",
   "language": "python",
   "name": "python3"
  },
  "language_info": {
   "codemirror_mode": {
    "name": "ipython",
    "version": 3
   },
   "file_extension": ".py",
   "mimetype": "text/x-python",
   "name": "python",
   "nbconvert_exporter": "python",
   "pygments_lexer": "ipython3",
   "version": "3.8.3"
  }
 },
 "nbformat": 4,
 "nbformat_minor": 2
}
