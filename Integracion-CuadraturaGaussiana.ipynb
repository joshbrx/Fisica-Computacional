{
 "cells": [
  {
   "cell_type": "markdown",
   "metadata": {},
   "source": [
    "# Integración Continuación Cuadratura Gaussiana y rangos infinitos"
   ]
  },
  {
   "cell_type": "code",
   "execution_count": 1,
   "metadata": {},
   "outputs": [],
   "source": [
    "## Cuadratura Gaussiana"
   ]
  },
  {
   "cell_type": "code",
   "execution_count": 2,
   "metadata": {},
   "outputs": [],
   "source": [
    "from numpy import ones,copy,cos,tan,pi,linspace\n",
    "\n",
    "def gaussxw(N):\n",
    "\n",
    "    #Aproximación inicial de las raíces de los polinomios de Legendre\n",
    "    a = linspace(3,4*N-1,N)/(4*N+2)\n",
    "    x = cos(pi*a+1/(8*N*N*tan(a)))\n",
    "\n",
    "        # Encontramos ceros de Legendre con Newton-Raphson\n",
    "    epsilon = 1e-15\n",
    "    delta = 1.0\n",
    "    while delta>epsilon:\n",
    "        p0 = ones(N,float)\n",
    "        p1 = copy(x)\n",
    "        for k in range(1,N):\n",
    "            p0,p1 = p1,((2*k+1)*x*p1-k*p0)/(k+1)\n",
    "        dp = (N+1)*(p0-x*p1)/(1-x*x)\n",
    "        dx = p1/dp\n",
    "        x -= dx\n",
    "        delta = max(abs(dx))\n",
    "\n",
    "    # Calculando los pesos\n",
    "    w = 2*(N+1)*(N+1)/(N*N*(1-x*x)*dp*dp)\n",
    "    return x,w\n",
    "\n",
    "def gaussxwab(N,a,b):\n",
    "    x,w = gaussxw(N)\n",
    "    return 0.5*(b-a)*x+0.5*(b+a),0.5*(b-a)*w"
   ]
  },
  {
   "cell_type": "code",
   "execution_count": 3,
   "metadata": {},
   "outputs": [
    {
     "name": "stdout",
     "output_type": "stream",
     "text": [
      "4.4000000000000075\n"
     ]
    }
   ],
   "source": [
    "def f(x):\n",
    "    return x**4 - 2*x + 1\n",
    "\n",
    "N = 3\n",
    "a = 0.0\n",
    "b = 2.0\n",
    "\n",
    "x,w = gaussxw(N)\n",
    "xp = 0.5*(b-a)*x + 0.5*(b+a)\n",
    "wp = 0.5*(b-a)*w\n",
    "\n",
    "# Hacemos la integral\n",
    "s = 0.0\n",
    "for k in range(N):\n",
    "    s += wp[k]*f(xp[k])\n",
    "\n",
    "print(s)"
   ]
  },
  {
   "cell_type": "markdown",
   "metadata": {},
   "source": [
    "### Ejemplo: Capacidad calorífica de un Sólido"
   ]
  },
  {
   "cell_type": "markdown",
   "metadata": {},
   "source": [
    "La teoría de Debye de solidos dice que la capacidad calorífica de un sólido a temperatura T es:\n",
    "    $$C_v=9V \\rho k_B\\left( \\frac{T}{\\theta_D} \\right)^3 \\int_0^{\\theta_D/T} \\frac{x^4e^x}{(e^x-1)^2}dx$$\n",
    "donde $V$ es el volumen del sólido, $\\rho$ es la densidad numérica de lo átomos, $k_B$ es la constante de Boltzmann, y $\\theta_D$ es la temperatura de Debye, una propiedad de los sólidos que solo depende de la densidad y la velocidad del sonido.\n",
    "\n",
    "Escribamos una función $c_V(T)$ que calcule la capacidad calorífica de una temperatura dada, para una muestra de aluminio de 100 cm$^3$ con $\\rho$ = 6.022 $\\times$ 10$^{28}$ m$^{-3}$ y $\\theta_D$=428 K. Usa cuadratura gaussiana para evaluar la integral con $N=50$. Luego grafica tu función $c_V(T)$ para un rango de temperatura de T=5 K a T= 500 K\n"
   ]
  },
  {
   "cell_type": "code",
   "execution_count": 4,
   "metadata": {},
   "outputs": [
    {
     "data": {
      "text/plain": [
       "Text(0,0.5,'C_v')"
      ]
     },
     "execution_count": 4,
     "metadata": {},
     "output_type": "execute_result"
    }
   ],
   "source": [
    "from pylab import *\n",
    "\n",
    "N = 10\n",
    "x,w = gaussxw(N)\n",
    "\n",
    "\n",
    "f = lambda x: x**4*exp(x)/(exp(x)-1)**2\n",
    "\n",
    "T = 5\n",
    "tetaD = 428 #K\n",
    "ro = 6.022e28 #m^-3\n",
    "V = 1000\n",
    "kb = 1.38e-23\n",
    "\n",
    "def cv(T):\n",
    "    a = 0\n",
    "    b = tetaD/T \n",
    "    xp = 0.5*(b-a)*x + 0.5*(b+a)\n",
    "    wp = 0.5*(b-a)*w\n",
    "    s = sum(f(xp)*wp)\n",
    "    return s\n",
    "\n",
    "T = linspace(5,500,100)\n",
    "C = [cv(Ti) for Ti in T]\n",
    "plot(T,C)\n",
    "xlabel('Temperature, K')\n",
    "ylabel('C_v')"
   ]
  },
  {
   "cell_type": "markdown",
   "metadata": {},
   "source": [
    "## Integración sobre rangos infinitos"
   ]
  },
  {
   "cell_type": "code",
   "execution_count": 11,
   "metadata": {},
   "outputs": [
    {
     "name": "stdout",
     "output_type": "stream",
     "text": [
      "La solucion analitica es 0.8862269254527579 y la solucion numerica 0.8862269254528349\n"
     ]
    }
   ],
   "source": [
    "#from gaussxw import gaussxwab\n",
    "from math import exp,sqrt,pi\n",
    "\n",
    "def f(z):\n",
    "    return exp(-z**2/(1-z)**2)/(1-z)**2\n",
    "\n",
    "N=50\n",
    "a=0.0\n",
    "b=1.0\n",
    "x,w=gaussxwab(N,a,b)\n",
    "s=0.0\n",
    "for k in range(N):\n",
    "    s+=w[k]*f(x[k])\n",
    "print('La solucion analitica es %s y la solucion numerica %s'%(0.5*sqrt(pi),s))\n",
    "#La solución analitica es 0.5\\sqrt(\\pi)"
   ]
  }
 ],
 "metadata": {
  "kernelspec": {
   "display_name": "Python 3",
   "language": "python",
   "name": "python3"
  },
  "language_info": {
   "codemirror_mode": {
    "name": "ipython",
    "version": 3
   },
   "file_extension": ".py",
   "mimetype": "text/x-python",
   "name": "python",
   "nbconvert_exporter": "python",
   "pygments_lexer": "ipython3",
   "version": "3.7.1"
  }
 },
 "nbformat": 4,
 "nbformat_minor": 2
}
