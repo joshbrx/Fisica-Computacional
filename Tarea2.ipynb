{
 "cells": [
  {
   "cell_type": "markdown",
   "metadata": {},
   "source": [
    "# __Física Computacional:__ _Tarea 2_\n",
    "\n",
    "### Joshua Briones Andrade\n",
    "#### Fecha de entrega: _6 de Noviembre_\n",
    "_______________"
   ]
  },
  {
   "cell_type": "markdown",
   "metadata": {},
   "source": [
    "# Velocidad y Exactitud"
   ]
  },
  {
   "cell_type": "markdown",
   "metadata": {},
   "source": [
    "Para nosotros, la programación con Python es una herramienta útil para trabajar con calculo numérico, álgebra lineal, visualizacion, estadistica, simulaciones, etc. Pero no hemos considerado las limitaciones de este lenguaje dentro de estas áreas puesto que las computadoras tienen limitaciones.\n",
    "\n",
    "Dentro de Python existe un límite del número más grande y pequeño que se puede guardar en memoria, pero en la práctica son lo suficientemente amplios para desarrollar análisis, simulaciones y otros proyectos dentro de la física.\n"
   ]
  },
  {
   "cell_type": "code",
   "execution_count": 1,
   "metadata": {},
   "outputs": [
    {
     "name": "stdout",
     "output_type": "stream",
     "text": [
      "inf\n"
     ]
    }
   ],
   "source": [
    "# Por ejemplo, definimos x con el valor máximo dentro de Python para números flotantes\n",
    "\n",
    "x = 10**308\n",
    "y = 10.0 * x\n",
    "print(y)"
   ]
  },
  {
   "cell_type": "markdown",
   "metadata": {},
   "source": [
    "En el caso de los números flotantes, podemos ver que para un orden de magnitud mayor a $1\\times10^{308}$ te da un valor \"inf\" que simboliza el infinito ya que se tiene un valor sumamente grande como para guardarlo en memoria.\n",
    "\n",
    "Por otro lado, para los números enteros, vemos que no hay algo tal como un número entero límite y lo guarda en memoria con _precisión arbitraria,_ solamente se aclara que con valores más grandes, las operaciones se tardan mucho más operaciones aritméticas."
   ]
  },
  {
   "cell_type": "code",
   "execution_count": 3,
   "metadata": {
    "scrolled": true
   },
   "outputs": [
    {
     "name": "stdout",
     "output_type": "stream",
     "text": [
      "10000000000000000000000000000000000000000000000000000000000000000000000000000000000000000000000000000000000000000000000000000000000000000000000000000000000000000000000000000000000000000000000000000000000000000000000000000000000000000000000000000000000000000000000000000000000000000000000000000000000000000000000000000000000000000000000000000000000000000000000000000000000000000000000000000000000000000000000000000000000000000000000000000000000000000000000000000000000000000000000000000000000000000000000000000000000000000000000000000000000000000000000000000000000000000000000000000000000000000000000000000000000000000000000000000000000000000000000000000000000000000000000000000000000000000000000000000000000000000000000000000000000000000000000000000000000000000000000000000000000000000000000000000000000000000000000000000000000000000000000000000000000000000000000000000000000000000000000000000000000000000000000000000000000000000000000000000000000000000000000000000000000000000000000000000000000000000000000000000000000000000000000000000000000000000000000000000000000000000000000000000000000000000000000000000000000000000000000000000000000000000000000000000000000000000000000000000000000000000000000000000000000000000000000000000000000000000000000000000000000000000000000000000000000000000000000000000000000000000000000000000000000000000000000000000000000000000000000000000000000000000000000000000000000000000000000000000000000000000000000000000000000000000000000000000000000000000000000000000000000000000000000000000000000000000000000000000000000000000000000000000000000000000000000000000000000000000000000000000000000000000000000000000000000000000000000000000000000000000000000000000000000000000000000000000000000000000000000000000000000000000000000000000000000000000000000000000000000000000000000000000000000000000000000000000000000000000000000000000000000000000000000000000000000000000000000000000000000000000000000000000000000000000000000000000000000000000000000000000000000000000000000000000000000000000000000000000000000000000000000000000000000000000000000000000000000000000000000000000000000000000000000000000000000000000000000000000000000000000000000000000000000000000000000000000000000000000000000000000000000000000000000000000000000000000000000000000000000000000000000000000000000000000000000000000000000000000000000000000000000000000000000000000000000000000000000000000000000000000000000000000000000000000000000000000000000000000000000000000000000000000000000000000000000000000000000000000000000000000000000000000000000000000000000000000000000000000000000000000000000000000000000000000000000000000000000000000000000000000000000000000000000000000000000000000000000000000000000000000000000000000000000000000000000000000000000000000000000000000000000000000000000000000000000000000000000000000000000000000000000000000000000000000000000000000000000000000000000000000000000000000000000000000000000000000000000000000000000000000000000000000000000000000000000000000000000000000000000000000000000000000000000000000000000000000000000000000000000000000000000000000000000000000000000000000000000000000000000000000000000000000000000000000000000000000000000000000000000000000000000000000000000000000000000000000000000000000000000000000000000000000000000000000000000000000000000000000000000000000000000000000000000000000000000000000000000000000000000000000000000000000000000000000000000000000000000000000000000000000000000000000000000000000000000000000000000000000000000000000000000000000000000000000000000000000000000000000000000000000000000000000000000000000000000000000000000000000000000000000000000000000000000000000000000000000000000000000000000000000000000000000000000000000000000000000000000000000000000000000000000000000000000000000000000000000000000000000000000000000000000000000000000000000000000000000000000000000000000000000000000000000000000000000000000000000000000000000000000000000000000000000000000000000000000000000000000000000000000000000000000000000000000000000000000000000000000000000000000000000000000000000000000000000000000000000000000000000000000000000000000000000000000000000000000000000000000000000000000000000000000000000000000000000000000000000000000000000000000000000000000000000000000000000000000000000000000000000000000000000000000000000000000000000000000000000000000000000000000000000000000000000000000000000000000000000000000000000000000000000000000000000000000000000000000000000000000000000000000000000000000000000000000000000000000000000000000000000000000000000000000000000000000000000000000000000000000000000000000000000000000000000000000000000000000000000000000000000000000000000000000000000000000000000000000000000000000000000000000000000000000000000000000000000000000000000000000000000000000000000000000000000000000000000000000000000000000000000000000000000000000000000000000000000000000000000000000000000000000000000000000000000000000000000000000000000000000000000000000000000000000000000000000000000000000000000000000000000000000000000000000000000000000000000000000000000000000000000000000000000000000000000000000000000000000000000000000000000000000000000000000000000000000000000000000000000000000000000000000000000000000000000000000000000000000000000000000000000000000000000000000000000000000000000000000000000000000000000000000000000000000000000000000000000000000000000000000000000000000000000000000000000000000000000000000000000000000000000000000000000000000000000000000000000000000000000000000000000000000000000000000000000000000000000000000000000000000000000000000000000000000000000000000000000000000000000000000000000000000000000000000000000000000000000000000000000000000000000000000000000000000000000000000000000000000000000000000000000000000000000000000000000000000000000000000000000000000000000000000000000000000000000000000000000000000000000000000000000000000000000000000000000000000000000000000000000000000000000000000000000000000000000000000000000000000000000000000000000000000000000000000000000000000000000000000000000000000000000000000000000000000000000000000000000000000000000000000000000000000000000000000000000000000000000000000000000000000000000000000000000000000000000000000000000000000000000000000000000000000000000000000000000000000000000000000000000000000000000000000000000000000000000000000000000000000000000000000000000000000000000000000000000000000000000000000000000000000000000000000000000000000000000000000000000000000000000000000000000000000000000000000000000000000000000000000000000000000000000000000000000000000000000000000000000000000000000000000000000000000000000000000000000000000000000000000000000000000000000000000000000000000000000000000000000000000000000000000000000000000000000000000000000000000000000000000000000000000000000000000000000000000000000000000000000000000000000000000000000000000000000000000000000000000000000000000000000000000000000000000000000000000000000000000000000000000000000000000000000000000000000000000000000000000000000000000000000000000000000000000000000000000000000000000000000000000000000000000000000000000000000000000000000000000000000000000000000000000000000000000000000000000000000000000000000000000000000000000000000000000000000000000000000000000000000000000000000000000000000000000000000000000000000000000000000000000000000000000000000000000000000000000000000000000000000000000000000000000000000000000000000000000000000000000000000000000000000000000000000000000000000000000000000000000000000000000000000000000000000000000000000000000000000000000000000000000000000000000000000000000000000000000000000000000000000000000000000000000000000000000000000000000000000000000000000000000000000000000000000000000000000000000000000000000000000000000000000000000000000000000000000000000000000000000000000000000000000000000000000000000000000000000000000000000000000000000000000000000000000000000000000000000000000000000000000000000000000000000000000000000000000000000000000000000000000000000000000000000000000000000000000000000000000000000000000000000000000000000000000000000000000000000000000000000000000000000000000000000000000000000000000000000000000000000000000000000000000000000000000000000000000000000000000000000000000000000000000000000000000000000000000000000000000000000000000000000000000000000000000000000000000000000000000000000000000000000000000000000000000000000000000000000000000000000000000000000000000000000000000000000000000000000000000000000000000000000000000000000000000000000000000000000000000000000000000000000000000000000000000000000000000000000000000000000000000000000000000000000000000000000000000000000000000000000000000000000000000000000000000000000000000000000000000000000000000000000000000000000000000000000000000000000000000000000000000000000000000000000000000000000000000000000000000000000000000000000000000000000000000000000000000000000000000000000000000000000000000000000000000000000000000000000000000000000000000000000000000000000000000000000000000000000000000000000000000000000000000000000000000000000000000000000000000000000000000000000000000000000000000000000000000000000000000000000000000000000000000000000000000000000000000000000000000000000000000000000000000000000000000000000000000000000000000000000000000000000000000000000000000000000000000000000000000000000000000000000000000000000000000000000000000000000000000000000000000000000000000000000000000000000000000000000000000000000000000000000000000000000000000000000000000000000000000000000000000000000000000000000000000000000000000000000000000000000000000000000000000000000000000000000000000000000000000000000000000000000000000000000000000000000000000000000000000000000000000000000000000000000000000000000000000000000000000000000000000000000000000000000000000000000000000000000000000000000000000000000000000000000000000000000000000000000000000000000000000000000000000000000000000000000000000000000000000000000000000000000000000000000000000000000000000000000000000000000000000000000000000000000000000000000000000000000000000000000000000000000000000000000000000000000000000000000000000000000000000000000000000000000000000\n"
     ]
    }
   ],
   "source": [
    "# Por ejemplo, definimos x con el valor máximo dentro de Python para números flotantes\n",
    "\n",
    "x = 10**10000\n",
    "print(x)"
   ]
  },
  {
   "cell_type": "markdown",
   "metadata": {},
   "source": [
    "### Ejercicio 1\n",
    "\n",
    "Escribe un programa para calcular e imprimir el factorial de un número dado por el usuario (número entero). Después calcula el factorial de 200 e intentalo una vez más utilizando números flotantes"
   ]
  },
  {
   "cell_type": "code",
   "execution_count": 23,
   "metadata": {},
   "outputs": [
    {
     "name": "stdout",
     "output_type": "stream",
     "text": [
      "Factorial de 200 utilizando enteros: \n",
      "788657867364790503552363213932185062295135977687173263294742533244359449963403342920304284011984623904177212138919638830257642790242637105061926624952829931113462857270763317237396988943922445621451664240254033291864131227428294853277524242407573903240321257405579568660226031904170324062351700858796178922222789623703897374720000000000000000000000000000000000000000000000000\n",
      "\n",
      "Factorial de 200 utilizando flotantes: inf\n"
     ]
    }
   ],
   "source": [
    "def fact1(n):\n",
    "    if n == 1 or n == 0:\n",
    "        return 1\n",
    "    else:\n",
    "        return n * fact1(n-1)\n",
    "    \n",
    "print(f\"Factorial de 200 utilizando enteros: \\n{fact1(200)}\\n\")\n",
    "print(f\"Factorial de 200 utilizando flotantes: {fact1(200.0)}\")"
   ]
  },
  {
   "cell_type": "markdown",
   "metadata": {},
   "source": [
    "Esto es porque no hay límite para números enteros para guardar en memoria y en el caso de los números flotates, sí. Se tiene un valor mayor al límite que se puede guardar en memoria y lo interpreta como un valor \"infinito\"."
   ]
  },
  {
   "cell_type": "markdown",
   "metadata": {},
   "source": [
    "### Ejercicio 2: \n",
    "#### Ecuaciones cuadráticas\n",
    "\n",
    "__a)__ Escribe un programa que tome 3 variables, a, b y c, y te regrese las dos soluciones para la ecuación cuadrática $ax^2+bx+c=0$ usando la formula\n",
    "\n",
    "\\begin{equation*}\n",
    "x_{1,2}=\\frac{-b\\pm\\sqrt{b^2-4ac}}{2a}\n",
    "\\end{equation*}\n",
    "\n",
    "Utiliza tu programa para dar soluciones a la ecuación $(0.001)x^2 + (1000)x + (0.001) = 0$."
   ]
  },
  {
   "cell_type": "code",
   "execution_count": 26,
   "metadata": {},
   "outputs": [
    {
     "data": {
      "text/plain": [
       "(-9.999894245993346e-07, -999999.999999)"
      ]
     },
     "execution_count": 26,
     "metadata": {},
     "output_type": "execute_result"
    }
   ],
   "source": [
    "import numpy as np\n",
    "\n",
    "def eqn1(a,b,c):\n",
    "    x1 = (-b + np.sqrt(b**2 - 4*a*c))/(2*a)\n",
    "    x2 = (-b - np.sqrt(b**2 - 4*a*c))/(2*a)\n",
    "    return (x1, x2)\n",
    "\n",
    "eqn1(0.001, 1000, 0.001)"
   ]
  },
  {
   "cell_type": "markdown",
   "metadata": {},
   "source": [
    "__b)__ Existe otra forma de escribir las soluciones para una ecuacion cuadrática. Multiplicando arriba y abajo de la solución por $-b\\mp \\sqrt{b^2-4ac}$, muestra que las soluciones también pueden ser escritas como\n",
    "\n",
    "\\begin{equation*}\n",
    "x_{1,2}=\\frac{2c}{-b\\mp \\sqrt{b^2-4ac}}\n",
    "\\end{equation*}\n",
    "\n",
    "Escribe el codigo para que tu código de las soluciones a la ecuación $(0.001)x^2 + (1000)x + (0.001) = 0$. ¿Qué sucede? y ¿cómo lo explicas?"
   ]
  },
  {
   "cell_type": "code",
   "execution_count": 27,
   "metadata": {},
   "outputs": [
    {
     "data": {
      "text/plain": [
       "(-1.000000000001e-06, -1000010.5755125057)"
      ]
     },
     "execution_count": 27,
     "metadata": {},
     "output_type": "execute_result"
    }
   ],
   "source": [
    "def eqn2(a,b,c):\n",
    "    x1 = (2*c)/(-b - np.sqrt(b**2 - 4*a*c))\n",
    "    x2 = (2*c)/(-b + np.sqrt(b**2 - 4*a*c))\n",
    "    return (x1, x2)\n",
    "\n",
    "eqn2(0.001, 1000, 0.001)"
   ]
  },
  {
   "cell_type": "markdown",
   "metadata": {},
   "source": [
    "En este caso tenemos que las soluciones dadas por la primer fórmula te dan una aproximación por debajo de la solución analítica y se tiene un valor más precisa en $x_2$ (valores grandes) por la manera en que Python redondea los valores. \n",
    "\n",
    "Y las soluciones de la segunda formula estan por encima de la solución analítica por la propagación de errores por el quebrado y se tiene un valor más preciso en $x_1$ (valores pequeños). "
   ]
  },
  {
   "cell_type": "markdown",
   "metadata": {},
   "source": [
    "__c)__ Usando lo que aprendiste, escribe un programa que calcule ambas raices de una ecuación cuadrática en todos los casos."
   ]
  },
  {
   "cell_type": "code",
   "execution_count": 36,
   "metadata": {},
   "outputs": [
    {
     "data": {
      "text/plain": [
       "(-1.000000000001e-06, -999999.999999)"
      ]
     },
     "execution_count": 36,
     "metadata": {},
     "output_type": "execute_result"
    }
   ],
   "source": [
    "def eqn3(a,b,c):\n",
    "    x1 = []; x2 = []; err1 = []; err2 = [];\n",
    "    \n",
    "    x1.append((-b + np.sqrt(b**2 - 4*a*c))/(2*a))   # Guardamos los valores para x1 por ambos métodos\n",
    "    x1.append((2*c)/(-b - np.sqrt(b**2 - 4*a*c)))\n",
    "\n",
    "    x2.append((-b - np.sqrt(b**2 - 4*a*c))/(2*a))   # De igual manera para x2 \n",
    "    x2.append((2*c)/(-b + np.sqrt(b**2 - 4*a*c)))\n",
    "    \n",
    "    for i in range(len(x1)):                        # Guarda el error absoluto obtenido de ambos métodos para x1 y x2 \n",
    "        err1.append(abs(a*x1[i]**2 + b*x1[i] + c))\n",
    "        err2.append(abs(a*x2[i]**2 + b*x2[i] + c))\n",
    "    \n",
    "    i = np.argmin(err1); j = np.argmin(err2)        # Guarda el indice del error más pequeño para x1 y x2 de ambos metodos\n",
    "    \n",
    "    return (x1[i], x2[j])             # Regresa los valores con el menor error para x1 y x2 \n",
    "\n",
    "eqn3(0.001, 1000, 0.001)"
   ]
  },
  {
   "cell_type": "markdown",
   "metadata": {},
   "source": [
    "### Ejercicio 3: \n",
    "#### Calculando derivadas\n",
    "\n",
    "Supón que tenemos una función $f(x)$ y queremos calcular su derivada en $x$. Usualmente se puede calcular de manera analítica si conocemos la función, o también lo podemos hacer con la computadora haciendo uso de la definición de la derivada\n",
    "\n",
    "\\begin{equation*}\n",
    "\\frac{df}{dx}=\\lim_{\\delta\\to 0}\\frac{f(x+\\delta)-f(x)}{\\delta}\n",
    "\\end{equation*}\n",
    "\n",
    "en la práctica, no podemos calcular el límite cuando $\\delta\\to0$, pero podemos hacer una aproximación razonablemente buena simplemente al dar un valor para $\\delta$ lo suficientemente pequeño.\n",
    "\n",
    "__a)__ Escribe un programa que defina una función $f(x)$ regresando el valor $x(1-x)$, y luego calcule la derivada de la función en el punto $x=1$ usando la formula anterior con $\\delta=10^{-2}$. Calcula el verdadero valor de la derivada en el punto de manera analítica y compara resultados."
   ]
  },
  {
   "cell_type": "code",
   "execution_count": 48,
   "metadata": {},
   "outputs": [
    {
     "name": "stdout",
     "output_type": "stream",
     "text": [
      "Aproximación numérica con h=1e-2:\n",
      "f'(1)=-1.010000000000001\n",
      "\n",
      "Resultado analítico:\n",
      "f'(1)=-1\n"
     ]
    }
   ],
   "source": [
    "# Derivada por métodos numéricos\n",
    "f = lambda x: x*(1-x);\n",
    "\n",
    "def D(f, x, h = 10**-2):\n",
    "    diff = f(x + h) - f(x)\n",
    "    return diff/h\n",
    "\n",
    "# Derivada analítica\n",
    "df = lambda x: 1-2*x;\n",
    "\n",
    "print(f\"Aproximación numérica con h=1e-2:\\nf'(1)={D(f, 1)}\\n\")\n",
    "print(f\"Resultado analítico:\\nf'(1)={df(1)}\")"
   ]
  },
  {
   "cell_type": "markdown",
   "metadata": {},
   "source": [
    "Podemos ver que la aproximación numérica se acerca bastante bien al resultado analítico pero dado que no tenemos precisión infinita para $\\delta$ (o $h$), siempre hay un termino de error asociado a este calculo. "
   ]
  },
  {
   "cell_type": "markdown",
   "metadata": {},
   "source": [
    "__b)__ Repite el calculo para $\\delta=10^{-4}$, $10^{-6}$, $10^{-8}$, $10^{-10}$, $10^{-12}$ y $10^{-14}$. Deberías notar que la precisión del calculo inicial mejora pero eventualmente vuelve a empeorar. ¿Por qué es esto?"
   ]
  },
  {
   "cell_type": "code",
   "execution_count": 50,
   "metadata": {},
   "outputs": [
    {
     "name": "stdout",
     "output_type": "stream",
     "text": [
      "Aproximación numérica con h=1e-4:   f'(1)=-1.0000999999998899\n",
      "\n",
      "Aproximación numérica con h=1e-6:   f'(1)=-1.0000009999177333\n",
      "\n",
      "Aproximación numérica con h=1e-8:   f'(1)=-1.0000000039225287\n",
      "\n",
      "Aproximación numérica con h=1e-10:   f'(1)=-1.000000082840371\n",
      "\n",
      "Aproximación numérica con h=1e-12:   f'(1)=-1.0000889005833413\n",
      "\n",
      "Aproximación numérica con h=1e-14:   f'(1)=-0.9992007221626509\n",
      "\n"
     ]
    }
   ],
   "source": [
    "exponentes = [-4, -6, -8, -10, -12, -14];\n",
    "\n",
    "for i in exponentes:\n",
    "    print(f\"Aproximación numérica con h=1e{i}:   f'(1)={D(f, 1, h=10**i)}\\n\")\n"
   ]
  },
  {
   "cell_type": "markdown",
   "metadata": {},
   "source": [
    "Esto es causado por errores redondeo para valores de $h$ pequeños, dado que cuando $h\\to0$ se tienen una cantidad cercana a cero en el numerador y al dividirlo entre $h$ ocurre un error de redondeo por la precisión con la que trabajan los valores numéricos en Python. Para esto se recomienda usar flotantes de doble precisión o simplemente escojer el mejor valor para $h$ de manera arbitraria."
   ]
  },
  {
   "cell_type": "markdown",
   "metadata": {},
   "source": [
    "### Ejercicio 4: \n",
    "#### Calculando integrales\n",
    "\n",
    "Supón que tenemos que calcular el valor de la integral\n",
    "\n",
    "\\begin{equation*}\n",
    "I = \\int_{-1}^{1}\\sqrt{1-x^2}dx\n",
    "\\end{equation*}\n",
    "\n",
    "La región a integrar es el semicírculo de radio 1: \n",
    "\n",
    "<img src=\"https://github.com/joshbrx/MiNube/blob/master/semicirculo.jpg?raw=true\">\n",
    "\n",
    "por lo tanto el valor de la integral es (área bajo la curva) es igual a $\\pi/2=1.57079632679\\dots$\n",
    "\n",
    "De manera alternativa podemos evaluar en la computadora dividiendo el dominio de integración en un número grande de $N$ partes de ancho $2/N$ cada uno y despues utilizando la definición de Riemann de la integral:\n",
    "\n",
    "\\begin{equation*}\n",
    "I=\\lim_{N\\to\\infty}\\sum_{k=1}^N hy_k,\n",
    "\\end{equation*}\n",
    "\n",
    "donde \n",
    "\n",
    "\\begin{equation*}\n",
    "y_k=\\sqrt{1-x_k^2}\\qquad\\text{y}\\qquad\\,x_k=-1+hk \n",
    "\\end{equation*}"
   ]
  },
  {
   "cell_type": "markdown",
   "metadata": {},
   "source": [
    "En la práctica no podemos evaluar el límite cuando $N\\to\\infty$, pero podemos aproximarlo al tomar valores grandes para $N$.\n",
    "\n",
    "__a)__ Escribe un programa que evalue la integral por arriba con $N=100$ y compare el valor obtenido con el valor exacto. Ambos valores serán muy dispares dado que $N=100$ no es lo suficientemente grande."
   ]
  },
  {
   "cell_type": "code",
   "execution_count": 59,
   "metadata": {},
   "outputs": [
    {
     "name": "stdout",
     "output_type": "stream",
     "text": [
      "Valor exacto de la integral:\n",
      "I = 1.5707963267948966\n",
      "\n",
      "Valor aproximado de la integral con N=100:\n",
      "I = 1.5691342555492505\n"
     ]
    }
   ],
   "source": [
    "I = np.pi/2\n",
    "\n",
    "def semicirc(N):\n",
    "    s = 0;\n",
    "    h = 2/N;\n",
    "    for k in range(1,N+1):\n",
    "        x = -1 + h*k\n",
    "        y = np.sqrt(1-x**2)\n",
    "        s += h*y\n",
    "    return s\n",
    "        \n",
    "        \n",
    "print(f\"Valor exacto de la integral:\\nI = {I}\\n\")\n",
    "print(f\"Valor aproximado de la integral con N=100:\\nI = {semicirc(100)}\")"
   ]
  },
  {
   "cell_type": "markdown",
   "metadata": {},
   "source": [
    "Podemos ver que en la segunda cifra significativa difieren como se nos menciono en el ejercicio."
   ]
  },
  {
   "cell_type": "markdown",
   "metadata": {},
   "source": [
    "__b)__ Aumente el valor de $N$ para tener un resultado más preciso para la integral. Si requiere que el programa corra pro aproximadamente un segundo o menos, que tan preciso es el resultado que se puede obtener."
   ]
  },
  {
   "cell_type": "code",
   "execution_count": 65,
   "metadata": {},
   "outputs": [
    {
     "name": "stdout",
     "output_type": "stream",
     "text": [
      "Valor aproximado de la integral con N=100:\n",
      "I = 1.5691342555492505\n",
      "\n",
      "Valor aproximado de la integral con N=1000:\n",
      "I = 1.570743738501071\n",
      "\n",
      "Valor aproximado de la integral con N=10000:\n",
      "I = 1.570794663715291\n",
      "\n",
      "Valor aproximado de la integral con N=100000:\n",
      "I = 1.5707962742034223\n",
      "\n",
      "Valor exacto de la integral:\n",
      "I = 1.5707963267948966\n",
      "\n",
      "Error absoluto para N=100000:\n",
      "I_err=|I-I(100000)|=5.2591474286600715e-08\n"
     ]
    }
   ],
   "source": [
    "N = [2, 3, 4, 5];\n",
    "\n",
    "for n in N:\n",
    "    print(f\"Valor aproximado de la integral con N={10**n}:\\nI = {semicirc(10**n)}\\n\")\n",
    "    \n",
    "print(f\"Valor exacto de la integral:\\nI = {I}\\n\")\n",
    "\n",
    "print(f\"Error absoluto para N=100000:\\nI_err=|I-I(100000)|={I-semicirc(10**5)}\")"
   ]
  },
  {
   "cell_type": "markdown",
   "metadata": {},
   "source": [
    "En el mejor caso se tiene un valor aproximado con un error del orden de magnitud de $10^{-7}$, es decir, la aproximación numérica difiere en su septima cifra significativa con el valor real."
   ]
  },
  {
   "cell_type": "code",
   "execution_count": null,
   "metadata": {},
   "outputs": [],
   "source": []
  }
 ],
 "metadata": {
  "kernelspec": {
   "display_name": "Python 3",
   "language": "python",
   "name": "python3"
  },
  "language_info": {
   "codemirror_mode": {
    "name": "ipython",
    "version": 3
   },
   "file_extension": ".py",
   "mimetype": "text/x-python",
   "name": "python",
   "nbconvert_exporter": "python",
   "pygments_lexer": "ipython3",
   "version": "3.8.3"
  },
  "latex_envs": {
   "LaTeX_envs_menu_present": true,
   "autoclose": false,
   "autocomplete": true,
   "bibliofile": "biblio.bib",
   "cite_by": "apalike",
   "current_citInitial": 1,
   "eqLabelWithNumbers": false,
   "eqNumInitial": 1,
   "hotkeys": {
    "equation": "Ctrl-E",
    "itemize": "Ctrl-I"
   },
   "labels_anchors": false,
   "latex_user_defs": false,
   "report_style_numbering": false,
   "user_envs_cfg": true
  }
 },
 "nbformat": 4,
 "nbformat_minor": 4
}
