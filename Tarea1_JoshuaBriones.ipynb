{
 "cells": [
  {
   "cell_type": "markdown",
   "metadata": {},
   "source": [
    "\n",
    "# __Física Computacional:__ _Tarea 1_\n",
    "\n",
    "### Joshua Briones Andrade\n",
    "#### Fecha de entrega: _9 de Octubre_\n",
    "----"
   ]
  },
  {
   "cell_type": "markdown",
   "metadata": {},
   "source": [
    "### Ejercicio 1\n",
    "\n",
    "Escribir un programa que almacene en una **lista** los números del $1$ al $10$ y los muestre en pantalla en orden inverso separados por comas."
   ]
  },
  {
   "cell_type": "code",
   "execution_count": 19,
   "metadata": {},
   "outputs": [
    {
     "name": "stdout",
     "output_type": "stream",
     "text": [
      "[10, 9, 8, 7, 6, 5, 4, 3, 2, 1]\n"
     ]
    }
   ],
   "source": [
    "# Primero creamos una lista vacia llamada \"list1\"\n",
    "list1 = []\n",
    "\n",
    "# Ahora usando un ciclo \"for\", agregamos los valores de 1 a 10 con el método \"append\"\n",
    "for i in range(10):   \n",
    "    list1.append(i+1)\n",
    "\n",
    "# También se puede hacer en una linea usando \"list comprehensions\"\n",
    "list2 = [k + 1 for k in range(10)]\n",
    "\n",
    "# Aprovechando un truco de \"slicing\" sobre las listas, cambiamos el orden de \"list1\" y lo imprimimos con \"print()\"\n",
    "print(list1[::-1])"
   ]
  },
  {
   "cell_type": "markdown",
   "metadata": {},
   "source": [
    "### Ejercicio 2\n",
    "Escribir un programa que almacene el abecedario en una lista, elimine de la lista las letras que ocupen posiciones múltiplos de 3, y muestre por pantalla la lista resultante."
   ]
  },
  {
   "cell_type": "code",
   "execution_count": 70,
   "metadata": {},
   "outputs": [
    {
     "name": "stdout",
     "output_type": "stream",
     "text": [
      "La lista \"abc\" tiene los siguientes elementos:\n",
      "['a', 'b', 'c', 'd', 'e', 'f', 'g', 'h', 'i', 'j', 'k', 'l', 'm', 'n', 'o', 'p', 'q', 'r', 's', 't', 'u', 'v', 'w', 'x', 'y', 'z'] \n",
      "\n",
      "La cantidad de elementos en la lista \"abc\" es: 26\n"
     ]
    }
   ],
   "source": [
    "# Guardamos las letras del abecedario en la lista \"abc\"\n",
    "abc = [\"a\",\"b\",\"c\",\"d\",\"e\",\"f\",\"g\",\"h\",\"i\",\"j\",\"k\",\"l\",\"m\",\"n\",\"o\",\"p\",\"q\",\"r\",\"s\",\"t\",\"u\",\"v\",\"w\",\"x\",\"y\",\"z\"]\n",
    "print(\"La lista \\\"abc\\\" tiene los siguientes elementos:\")\n",
    "print(abc,\"\\n\")\n",
    "\n",
    "# Para asegurarnos que sean 26 letras, imprimimos la cantidad de elementos de \"abc\"\n",
    "print(\"La cantidad de elementos en la lista \\\"abc\\\" es:\", len(abc))"
   ]
  },
  {
   "cell_type": "code",
   "execution_count": 71,
   "metadata": {},
   "outputs": [
    {
     "data": {
      "text/plain": [
       "[0, 3, 6, 9, 12, 15, 18, 21, 24]"
      ]
     },
     "execution_count": 71,
     "metadata": {},
     "output_type": "execute_result"
    }
   ],
   "source": [
    "# Definimos una list temporal \"temp\" para guardar los índices que vamos a borrar\n",
    "temp = []\n",
    "for i in range(len(abc)):   # Es con la suposición de que \"0\" SÍ es multiplo de 3\n",
    "    if i % 3 == 0:\n",
    "        temp.append(i)\n",
    "temp"
   ]
  },
  {
   "cell_type": "markdown",
   "metadata": {},
   "source": [
    "Finalmente corremos un ciclo \"for\" sobre los elementos de \"temp\" con un orden invertido porque cada que se hace \"pop\" en la lista de manera ascendente, el orden de los elementos cambia pero al hacerlo al revés no representa ningún problema."
   ]
  },
  {
   "cell_type": "code",
   "execution_count": 72,
   "metadata": {},
   "outputs": [
    {
     "name": "stdout",
     "output_type": "stream",
     "text": [
      "La lista resutante es: ['b', 'c', 'e', 'f', 'h', 'i', 'k', 'l', 'n', 'o', 'q', 'r', 't', 'u', 'w', 'x', 'z']\n"
     ]
    }
   ],
   "source": [
    "for i in temp[::-1]:\n",
    "    abc.pop(i)\n",
    "    \n",
    "print(\"La lista resutante es:\", abc)"
   ]
  },
  {
   "cell_type": "markdown",
   "metadata": {},
   "source": [
    "### Ejercicio 3\n",
    "Escribir un programa que pida al usuario una palabra y muestre por pantalla si es un\n",
    "palíndromo"
   ]
  },
  {
   "cell_type": "code",
   "execution_count": 92,
   "metadata": {},
   "outputs": [
    {
     "name": "stdout",
     "output_type": "stream",
     "text": [
      "Dame una palabra, camarada: mamamamam\n",
      "¡Wow!, la palabra \"mamamamam\" SÍ es un palíndromo c:\n"
     ]
    }
   ],
   "source": [
    "palabra = input(\"Dame una palabra, camarada: \")\n",
    "n = len(palabra); s = True\n",
    "\n",
    "for i in range(n):\n",
    "    if palabra[i] != palabra[(n-1)-i]:\n",
    "        s = False\n",
    "        \n",
    "if s == False:\n",
    "    print(f\"La palabra \\\"{palabra}\\\" NO es un palíndromo :c\")\n",
    "else:\n",
    "    print(f\"¡Wow!, la palabra \\\"{palabra}\\\" SÍ es un palíndromo c:\")\n",
    "        "
   ]
  },
  {
   "cell_type": "markdown",
   "metadata": {},
   "source": [
    "### Ejercicio 4\n",
    "Pide números y mételos en una lista, cuando el usuario meta un 0 ya dejaremos de\n",
    "insertar. Por último, muestra los números ordenados de menor a mayor."
   ]
  },
  {
   "cell_type": "code",
   "execution_count": 106,
   "metadata": {},
   "outputs": [
    {
     "name": "stdout",
     "output_type": "stream",
     "text": [
      "Dame un número. Si es un \"0\", me detengo: 3\n",
      "Dame un número. Si es un \"0\", me detengo: 2\n",
      "Dame un número. Si es un \"0\", me detengo: 1\n",
      "Dame un número. Si es un \"0\", me detengo: 0\n",
      "\n",
      "Historial de números:  [1.0, 2.0, 3.0]\n"
     ]
    }
   ],
   "source": [
    "def pedir_numeros(hist = None):\n",
    "    if hist == None:\n",
    "        hist = []\n",
    "    numero = input(\"Dame un número. Si es un \\\"0\\\", me detengo: \")\n",
    "    if float(numero) == 0: \n",
    "        hist.sort(reverse=False)\n",
    "        print(\"\\nHistorial de números: \", hist)\n",
    "    else:\n",
    "        hist.append(float(numero))\n",
    "        pedir_numeros(hist=hist)\n",
    "        \n",
    "pedir_numeros()"
   ]
  },
  {
   "cell_type": "markdown",
   "metadata": {},
   "source": [
    "### Ejercicio 5\n",
    "Escribir un programa que pida al usuario una palabra y muestre por pantalla el número de veces que contiene cada vocal."
   ]
  },
  {
   "cell_type": "code",
   "execution_count": 116,
   "metadata": {},
   "outputs": [
    {
     "name": "stdout",
     "output_type": "stream",
     "text": [
      "Deme una palabra, por favor humano: chicheñol\n"
     ]
    },
    {
     "data": {
      "text/plain": [
       "{'c': 2, 'h': 2, 'i': 1, 'e': 1, 'ñ': 1, 'o': 1, 'l': 1}"
      ]
     },
     "execution_count": 116,
     "metadata": {},
     "output_type": "execute_result"
    }
   ],
   "source": [
    "human_word = input(\"Deme una palabra, por favor humano: \")\n",
    "human_dict = {}\n",
    "\n",
    "for i in range(len( human_word )):\n",
    "    human_dict[human_word[i]]=human_dict.get(human_word[i],0)+1\n",
    "\n",
    "human_dict"
   ]
  },
  {
   "cell_type": "markdown",
   "metadata": {},
   "source": [
    "### Ejercicio 6\n",
    "Pide una cadena por teclado, mete los caracteres en una lista sin espacios."
   ]
  },
  {
   "cell_type": "code",
   "execution_count": 119,
   "metadata": {},
   "outputs": [
    {
     "name": "stdout",
     "output_type": "stream",
     "text": [
      "Amo Bruce, permitame su cadena de texto por favor: \n",
      "Claro que sí, Alfred\n",
      "['C', 'l', 'a', 'r', 'o', 'q', 'u', 'e', 's', 'í', ',', 'A', 'l', 'f', 'r', 'e', 'd']\n"
     ]
    }
   ],
   "source": [
    "cadena = input(\"Amo Bruce, permitame su cadena de texto por favor: \\n\")\n",
    "cadena = cadena.replace(\" \",\"\")\n",
    "listaa = [i for i in cadena]\n",
    "print(listaa)"
   ]
  },
  {
   "cell_type": "markdown",
   "metadata": {},
   "source": [
    "### Ejercicio 7\n",
    "Haz un programa que pida el nombre de una persona y lo muestre en pantalla repetido 1000 veces, pero dejando un espacio de separación entre cada copia del nombre."
   ]
  },
  {
   "cell_type": "code",
   "execution_count": 128,
   "metadata": {
    "scrolled": true
   },
   "outputs": [
    {
     "name": "stdout",
     "output_type": "stream",
     "text": [
      "Oye, ¿cómo se llama esa persona cuyo nombre se tiene que decir 1000 veces?: Voldemort\n",
      "\n",
      "Voldemort Voldemort Voldemort Voldemort Voldemort Voldemort Voldemort Voldemort Voldemort Voldemort Voldemort Voldemort Voldemort Voldemort Voldemort Voldemort Voldemort Voldemort Voldemort Voldemort Voldemort Voldemort Voldemort Voldemort Voldemort Voldemort Voldemort Voldemort Voldemort Voldemort Voldemort Voldemort Voldemort Voldemort Voldemort Voldemort Voldemort Voldemort Voldemort Voldemort Voldemort Voldemort Voldemort Voldemort Voldemort Voldemort Voldemort Voldemort Voldemort Voldemort Voldemort Voldemort Voldemort Voldemort Voldemort Voldemort Voldemort Voldemort Voldemort Voldemort Voldemort Voldemort Voldemort Voldemort Voldemort Voldemort Voldemort Voldemort Voldemort Voldemort Voldemort Voldemort Voldemort Voldemort Voldemort Voldemort Voldemort Voldemort Voldemort Voldemort Voldemort Voldemort Voldemort Voldemort Voldemort Voldemort Voldemort Voldemort Voldemort Voldemort Voldemort Voldemort Voldemort Voldemort Voldemort Voldemort Voldemort Voldemort Voldemort Voldemort Voldemort Voldemort Voldemort Voldemort Voldemort Voldemort Voldemort Voldemort Voldemort Voldemort Voldemort Voldemort Voldemort Voldemort Voldemort Voldemort Voldemort Voldemort Voldemort Voldemort Voldemort Voldemort Voldemort Voldemort Voldemort Voldemort Voldemort Voldemort Voldemort Voldemort Voldemort Voldemort Voldemort Voldemort Voldemort Voldemort Voldemort Voldemort Voldemort Voldemort Voldemort Voldemort Voldemort Voldemort Voldemort Voldemort Voldemort Voldemort Voldemort Voldemort Voldemort Voldemort Voldemort Voldemort Voldemort Voldemort Voldemort Voldemort Voldemort Voldemort Voldemort Voldemort Voldemort Voldemort Voldemort Voldemort Voldemort Voldemort Voldemort Voldemort Voldemort Voldemort Voldemort Voldemort Voldemort Voldemort Voldemort Voldemort Voldemort Voldemort Voldemort Voldemort Voldemort Voldemort Voldemort Voldemort Voldemort Voldemort Voldemort Voldemort Voldemort Voldemort Voldemort Voldemort Voldemort Voldemort Voldemort Voldemort Voldemort Voldemort Voldemort Voldemort Voldemort Voldemort Voldemort Voldemort Voldemort Voldemort Voldemort Voldemort Voldemort Voldemort Voldemort Voldemort Voldemort Voldemort Voldemort Voldemort Voldemort Voldemort Voldemort Voldemort Voldemort Voldemort Voldemort Voldemort Voldemort Voldemort Voldemort Voldemort Voldemort Voldemort Voldemort Voldemort Voldemort Voldemort Voldemort Voldemort Voldemort Voldemort Voldemort Voldemort Voldemort Voldemort Voldemort Voldemort Voldemort Voldemort Voldemort Voldemort Voldemort Voldemort Voldemort Voldemort Voldemort Voldemort Voldemort Voldemort Voldemort Voldemort Voldemort Voldemort Voldemort Voldemort Voldemort Voldemort Voldemort Voldemort Voldemort Voldemort Voldemort Voldemort Voldemort Voldemort Voldemort Voldemort Voldemort Voldemort Voldemort Voldemort Voldemort Voldemort Voldemort Voldemort Voldemort Voldemort Voldemort Voldemort Voldemort Voldemort Voldemort Voldemort Voldemort Voldemort Voldemort Voldemort Voldemort Voldemort Voldemort Voldemort Voldemort Voldemort Voldemort Voldemort Voldemort Voldemort Voldemort Voldemort Voldemort Voldemort Voldemort Voldemort Voldemort Voldemort Voldemort Voldemort Voldemort Voldemort Voldemort Voldemort Voldemort Voldemort Voldemort Voldemort Voldemort Voldemort Voldemort Voldemort Voldemort Voldemort Voldemort Voldemort Voldemort Voldemort Voldemort Voldemort Voldemort Voldemort Voldemort Voldemort Voldemort Voldemort Voldemort Voldemort Voldemort Voldemort Voldemort Voldemort Voldemort Voldemort Voldemort Voldemort Voldemort Voldemort Voldemort Voldemort Voldemort Voldemort Voldemort Voldemort Voldemort Voldemort Voldemort Voldemort Voldemort Voldemort Voldemort Voldemort Voldemort Voldemort Voldemort Voldemort Voldemort Voldemort Voldemort Voldemort Voldemort Voldemort Voldemort Voldemort Voldemort Voldemort Voldemort Voldemort Voldemort Voldemort Voldemort Voldemort Voldemort Voldemort Voldemort Voldemort Voldemort Voldemort Voldemort Voldemort Voldemort Voldemort Voldemort Voldemort Voldemort Voldemort Voldemort Voldemort Voldemort Voldemort Voldemort Voldemort Voldemort Voldemort Voldemort Voldemort Voldemort Voldemort Voldemort Voldemort Voldemort Voldemort Voldemort Voldemort Voldemort Voldemort Voldemort Voldemort Voldemort Voldemort Voldemort Voldemort Voldemort Voldemort Voldemort Voldemort Voldemort Voldemort Voldemort Voldemort Voldemort Voldemort Voldemort Voldemort Voldemort Voldemort Voldemort Voldemort Voldemort Voldemort Voldemort Voldemort Voldemort Voldemort Voldemort Voldemort Voldemort Voldemort Voldemort Voldemort Voldemort Voldemort Voldemort Voldemort Voldemort Voldemort Voldemort Voldemort Voldemort Voldemort Voldemort Voldemort Voldemort Voldemort Voldemort Voldemort Voldemort Voldemort Voldemort Voldemort Voldemort Voldemort Voldemort Voldemort Voldemort Voldemort Voldemort Voldemort Voldemort Voldemort Voldemort Voldemort Voldemort Voldemort Voldemort Voldemort Voldemort Voldemort Voldemort Voldemort Voldemort Voldemort Voldemort Voldemort Voldemort Voldemort Voldemort Voldemort Voldemort Voldemort Voldemort Voldemort Voldemort Voldemort Voldemort Voldemort Voldemort Voldemort Voldemort Voldemort Voldemort Voldemort Voldemort Voldemort Voldemort Voldemort Voldemort Voldemort Voldemort Voldemort Voldemort Voldemort Voldemort Voldemort Voldemort Voldemort Voldemort Voldemort Voldemort Voldemort Voldemort Voldemort Voldemort Voldemort Voldemort Voldemort Voldemort Voldemort Voldemort Voldemort Voldemort Voldemort Voldemort Voldemort Voldemort Voldemort Voldemort Voldemort Voldemort Voldemort Voldemort Voldemort Voldemort Voldemort Voldemort Voldemort Voldemort Voldemort Voldemort Voldemort Voldemort Voldemort Voldemort Voldemort Voldemort Voldemort Voldemort Voldemort Voldemort Voldemort Voldemort Voldemort Voldemort Voldemort Voldemort Voldemort Voldemort Voldemort Voldemort Voldemort Voldemort Voldemort Voldemort Voldemort Voldemort Voldemort Voldemort Voldemort Voldemort Voldemort Voldemort Voldemort Voldemort Voldemort Voldemort Voldemort Voldemort Voldemort Voldemort Voldemort Voldemort Voldemort Voldemort Voldemort Voldemort Voldemort Voldemort Voldemort Voldemort Voldemort Voldemort Voldemort Voldemort Voldemort Voldemort Voldemort Voldemort Voldemort Voldemort Voldemort Voldemort Voldemort Voldemort Voldemort Voldemort Voldemort Voldemort Voldemort Voldemort Voldemort Voldemort Voldemort Voldemort Voldemort Voldemort Voldemort Voldemort Voldemort Voldemort Voldemort Voldemort Voldemort Voldemort Voldemort Voldemort Voldemort Voldemort Voldemort Voldemort Voldemort Voldemort Voldemort Voldemort Voldemort Voldemort Voldemort Voldemort Voldemort Voldemort Voldemort Voldemort Voldemort Voldemort Voldemort Voldemort Voldemort Voldemort Voldemort Voldemort Voldemort Voldemort Voldemort Voldemort Voldemort Voldemort Voldemort Voldemort Voldemort Voldemort Voldemort Voldemort Voldemort Voldemort Voldemort Voldemort Voldemort Voldemort Voldemort Voldemort Voldemort Voldemort Voldemort Voldemort Voldemort Voldemort Voldemort Voldemort Voldemort Voldemort Voldemort Voldemort Voldemort Voldemort Voldemort Voldemort Voldemort Voldemort Voldemort Voldemort Voldemort Voldemort Voldemort Voldemort Voldemort Voldemort Voldemort Voldemort Voldemort Voldemort Voldemort Voldemort Voldemort Voldemort Voldemort Voldemort Voldemort Voldemort Voldemort Voldemort Voldemort Voldemort Voldemort Voldemort Voldemort Voldemort Voldemort Voldemort Voldemort Voldemort Voldemort Voldemort Voldemort Voldemort Voldemort Voldemort Voldemort Voldemort Voldemort Voldemort Voldemort Voldemort Voldemort Voldemort Voldemort Voldemort Voldemort Voldemort Voldemort Voldemort Voldemort Voldemort Voldemort Voldemort Voldemort Voldemort Voldemort Voldemort Voldemort Voldemort Voldemort Voldemort Voldemort Voldemort Voldemort Voldemort Voldemort Voldemort Voldemort Voldemort Voldemort Voldemort Voldemort Voldemort Voldemort Voldemort Voldemort Voldemort Voldemort Voldemort Voldemort Voldemort Voldemort Voldemort Voldemort Voldemort Voldemort Voldemort Voldemort Voldemort Voldemort Voldemort Voldemort Voldemort Voldemort Voldemort Voldemort Voldemort Voldemort Voldemort Voldemort Voldemort Voldemort Voldemort Voldemort Voldemort Voldemort Voldemort Voldemort Voldemort Voldemort Voldemort Voldemort Voldemort Voldemort Voldemort Voldemort Voldemort Voldemort Voldemort Voldemort Voldemort Voldemort Voldemort Voldemort Voldemort Voldemort Voldemort Voldemort Voldemort Voldemort Voldemort Voldemort Voldemort Voldemort Voldemort Voldemort Voldemort Voldemort Voldemort Voldemort Voldemort Voldemort Voldemort Voldemort Voldemort Voldemort Voldemort Voldemort Voldemort Voldemort Voldemort Voldemort Voldemort Voldemort Voldemort Voldemort Voldemort Voldemort Voldemort Voldemort Voldemort Voldemort Voldemort Voldemort Voldemort Voldemort Voldemort Voldemort Voldemort Voldemort Voldemort Voldemort Voldemort Voldemort Voldemort Voldemort Voldemort Voldemort Voldemort Voldemort Voldemort Voldemort Voldemort Voldemort Voldemort Voldemort Voldemort Voldemort Voldemort Voldemort Voldemort Voldemort Voldemort Voldemort Voldemort Voldemort Voldemort Voldemort Voldemort Voldemort Voldemort Voldemort Voldemort Voldemort Voldemort Voldemort Voldemort Voldemort Voldemort Voldemort Voldemort Voldemort Voldemort Voldemort Voldemort Voldemort Voldemort Voldemort Voldemort Voldemort Voldemort Voldemort Voldemort Voldemort Voldemort Voldemort Voldemort Voldemort Voldemort Voldemort Voldemort Voldemort Voldemort Voldemort Voldemort Voldemort Voldemort Voldemort Voldemort Voldemort Voldemort Voldemort Voldemort Voldemort Voldemort Voldemort Voldemort Voldemort Voldemort Voldemort Voldemort Voldemort Voldemort Voldemort Voldemort Voldemort Voldemort Voldemort Voldemort Voldemort Voldemort Voldemort Voldemort Voldemort Voldemort Voldemort Voldemort Voldemort Voldemort Voldemort Voldemort Voldemort Voldemort Voldemort Voldemort Voldemort Voldemort Voldemort Voldemort Voldemort Voldemort Voldemort Voldemort Voldemort \n"
     ]
    }
   ],
   "source": [
    "supername = input(\"Oye, ¿cómo se llama esa persona cuyo nombre se tiene que decir 1000 veces?: \")\n",
    "superlist = (supername + \" \")*1000\n",
    "\n",
    "print()\n",
    "print(superlist)"
   ]
  },
  {
   "cell_type": "markdown",
   "metadata": {},
   "source": [
    "### Ejercicio 8\n",
    "Escribir un programa que guarde en una variable el diccionario \"Euro\": 25.82, \"Dolar\":\n",
    "24.113, \"Yen\": 0.2189, \"Dolar Canadiense\": 16.7842 y le pregunte al usuario por una divisa y muestre su valor de cambio o un mensaje de aviso si la divisa no está en el diccionario. \n",
    "\n",
    "Completa con todas las divisas que puedas."
   ]
  },
  {
   "cell_type": "code",
   "execution_count": 131,
   "metadata": {},
   "outputs": [
    {
     "name": "stdout",
     "output_type": "stream",
     "text": [
      "¿En qué divisa esta interesado? Tenemos \"Euro\", \"Dolar\", \"Yen\" y \"Dolar Canadiense\": \n",
      "Euro\n",
      "El valor de cambio del Euro, es de 25.82 en la moneda local.\n",
      "\n",
      "¿En qué divisa esta interesado? Tenemos \"Euro\", \"Dolar\", \"Yen\" y \"Dolar Canadiense\": \n",
      "Chelín\n",
      "Lo sentimos, no tenemos esa divisa en nuestro diccionario\n"
     ]
    }
   ],
   "source": [
    "divisas = {\"Euro\": 25.82, \"Dolar\": 24.113, \"Yen\": 0.2189, \"Dolar Canadiense\": 16.7842}\n",
    "\n",
    "def preguntar_divisa():\n",
    "    divisa = input(\"¿En qué divisa esta interesado? Tenemos \\\"Euro\\\", \\\"Dolar\\\", \\\"Yen\\\" y \\\"Dolar Canadiense\\\": \\n\")\n",
    "    valor = divisas.get(divisa, 0)\n",
    "    if valor == 0:\n",
    "        print(\"Lo sentimos, no tenemos esa divisa en nuestro diccionario\")\n",
    "    else:\n",
    "        print(f\"El valor de cambio del {divisa}, es de {valor} en la moneda local.\\n\")      \n",
    "\n",
    "preguntar_divisa()\n",
    "preguntar_divisa()"
   ]
  },
  {
   "cell_type": "markdown",
   "metadata": {},
   "source": [
    "### Ejercicio 9\n",
    "Escribir un programa que almacene el diccionario con las calificaciones de las asignaturas de un semestre \"Algebra\": 10, \"Física\": 9, \"Calculo\": 8, \"Computacion\": 10, \"Geometria\": 9, y después muestre por pantalla las calificaciones de cada asignatura en el formato asignatura tiene calificacion , donde asignatura es cada una de las asignaturas del curso, y calificacion son sus calificaciones. \n",
    "\n",
    "Al final debe mostrar también el número promedio del curso."
   ]
  },
  {
   "cell_type": "code",
   "execution_count": 150,
   "metadata": {},
   "outputs": [
    {
     "name": "stdout",
     "output_type": "stream",
     "text": [
      "En \"Algebra\" tiene de calificación: 10\n",
      "En \"Física\" tiene de calificación: 9\n",
      "En \"Calculo\" tiene de calificación: 8\n",
      "En \"Computacion\" tiene de calificación: 10\n",
      "En \"Geometria\" tiene de calificación: 9\n",
      "\n",
      "El promedio de calificaciones es 9.2\n"
     ]
    }
   ],
   "source": [
    "calif = {\"Algebra\": 10, \"Física\": 9, \"Calculo\": 8, \"Computacion\": 10, \"Geometria\": 9}\n",
    "s = 0\n",
    "\n",
    "for key in calif.items():\n",
    "    print(f\"En \\\"{key[0]}\\\" tiene de calificación: {key[1]}\")\n",
    "    s += key[1]\n",
    "    \n",
    "print(f\"\\nEl promedio de calificaciones es {s/5}\")\n",
    "    \n"
   ]
  },
  {
   "cell_type": "markdown",
   "metadata": {},
   "source": [
    "### Ejercicio 10\n",
    "Un satélite se encuentra en una órbita circular alrededor de la Tierra, tal que completa un círculo en $T$ segundos, $T$ es el periodo de la órbita:\n",
    "\n",
    "1. Muestra que la altitud $h$ sobre la superficie de la Tierra será:\n",
    "\n",
    "\n",
    "$$h=\\left(\\frac{GMT^2}{4\\pi^2}\\right)^{1/3}-R$$\n",
    "\n",
    "\n",
    "donde $G$ es la constante de gravitación universal con valor $G = 6.67\\times 10^{−11}\\ m^3kg^{-1}s^{-2}$, $M$ es la masa de la Tierra $M = 5.97 \\times 10^{24}\\ kg$ y $R$ es el radio de la Tierra $R = 6371\\ kg$.\n",
    "\n",
    "2. Escribe un programa que le pregunte al usuario el periodo que desea tenga su satélite girando alrededor de la Tierra y el programa le regrese la altitud (en metros) que deberá tener.\n",
    "\n",
    "3. ¿Qué altitud deberá tener el satélite su queremos que orbite la Tierra con un periodo de un día (órbita geosíncrona), 90 minutos, 45 minutos? ¿Qué observas?\n",
    "\n",
    "4. En la práctica, una órbita geosíncrona es aquella cuya órbita tiene un periodo de un día sideral, que es de 23.93 horas, no de 24 horas. ¿Por qué es esto? ¿Cuál será la diferencia en altitud entre $T= 23.93$ horas y $T= 24$ horas.\n"
   ]
  },
  {
   "cell_type": "code",
   "execution_count": 153,
   "metadata": {},
   "outputs": [],
   "source": [
    "# 10.2.\n",
    "\n",
    "from math import pi\n",
    "G = 6.67 * 10 **(-11) # m^{3}kg^{-1}s^{-2}\n",
    "M = 5.97 * 10 **(24)  # kg\n",
    "R = 6371 * 10 **(3)   # m \n",
    "\n",
    "def h(T):\n",
    "    frac = (G*M*T**2)/(4*pi**2)\n",
    "    h = frac**(1/3) - R\n",
    "    return h"
   ]
  },
  {
   "cell_type": "code",
   "execution_count": 159,
   "metadata": {},
   "outputs": [
    {
     "data": {
      "text/plain": [
       "(279321.62537285965, -2181559.8978108233)"
      ]
     },
     "execution_count": 159,
     "metadata": {},
     "output_type": "execute_result"
    }
   ],
   "source": [
    "# 10.3.\n",
    "\n",
    "t1 = 90*60\n",
    "t2 = 45*60\n",
    "\n",
    "(h(t1), h(t2))"
   ]
  },
  {
   "cell_type": "code",
   "execution_count": 156,
   "metadata": {},
   "outputs": [
    {
     "data": {
      "text/plain": [
       "(35855910.17617497, 35773762.329895645, 82147.8462793231)"
      ]
     },
     "execution_count": 156,
     "metadata": {},
     "output_type": "execute_result"
    }
   ],
   "source": [
    "# 10.4.\n",
    "\n",
    "h1 = h(23.93*(60*60))\n",
    "h2 = h(24*(60*60))\n",
    "\n",
    "(h2,h1,h2-h1)"
   ]
  },
  {
   "cell_type": "code",
   "execution_count": null,
   "metadata": {},
   "outputs": [],
   "source": []
  }
 ],
 "metadata": {
  "kernelspec": {
   "display_name": "Python 3",
   "language": "python",
   "name": "python3"
  },
  "language_info": {
   "codemirror_mode": {
    "name": "ipython",
    "version": 3
   },
   "file_extension": ".py",
   "mimetype": "text/x-python",
   "name": "python",
   "nbconvert_exporter": "python",
   "pygments_lexer": "ipython3",
   "version": "3.8.3"
  },
  "latex_envs": {
   "LaTeX_envs_menu_present": true,
   "autoclose": false,
   "autocomplete": false,
   "bibliofile": "biblio.bib",
   "cite_by": "apalike",
   "current_citInitial": 1,
   "eqLabelWithNumbers": false,
   "eqNumInitial": 1,
   "hotkeys": {
    "equation": "Ctrl-E",
    "itemize": "Ctrl-I"
   },
   "labels_anchors": false,
   "latex_user_defs": false,
   "report_style_numbering": false,
   "user_envs_cfg": true
  }
 },
 "nbformat": 4,
 "nbformat_minor": 4
}
