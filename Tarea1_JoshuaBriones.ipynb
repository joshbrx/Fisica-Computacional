{
 "cells": [
  {
   "cell_type": "markdown",
   "metadata": {},
   "source": [
    "\n",
    "# __Física Computacional:__ _Tarea 1_\n",
    "\n",
    "### Joshua Briones Andrade\n",
    "#### Fecha de entrega: _9 de Octubre_\n",
    "----"
   ]
  },
  {
   "cell_type": "markdown",
   "metadata": {},
   "source": [
    "### Ejercicio 1\n",
    "\n",
    "Escribir un programa que almacene en una **lista** los números del $1$ al $10$ y los muestre en pantalla en orden inverso separados por comas."
   ]
  },
  {
   "cell_type": "code",
   "execution_count": 2,
   "metadata": {},
   "outputs": [
    {
     "name": "stdout",
     "output_type": "stream",
     "text": [
      "[10, 9, 8, 7, 6, 5, 4, 3, 2, 1]\n"
     ]
    }
   ],
   "source": [
    "# Primero creamos una lista vacia llamada \"list1\"\n",
    "list1 = []\n",
    "\n",
    "# Ahora usando un ciclo \"for\", agregamos los valores de 1 a 10 con el método \"append\"\n",
    "for i in range(10):   \n",
    "    list1.append(i+1)\n",
    "\n",
    "# También se puede hacer en una linea usando \"list comprehensions\"\n",
    "list2 = [k + 1 for k in range(10)]\n",
    "\n",
    "# Aprovechando un truco de \"slicing\" sobre las listas, cambiamos el orden de \"list1\" y lo imprimimos con \"print()\"\n",
    "print(list1[::-1])"
   ]
  },
  {
   "cell_type": "markdown",
   "metadata": {},
   "source": [
    "### Ejercicio 2\n",
    "Escribir un programa que almacene el abecedario en una lista, elimine de la lista las letras que ocupen posiciones múltiplos de 3, y muestre por pantalla la lista resultante."
   ]
  },
  {
   "cell_type": "code",
   "execution_count": 7,
   "metadata": {},
   "outputs": [
    {
     "name": "stdout",
     "output_type": "stream",
     "text": [
      "La lista resutante es: ['b', 'c', 'e', 'f', 'h', 'i', 'k', 'l', 'n', 'o', 'q', 'r', 't', 'u', 'w', 'x', 'z']\n"
     ]
    }
   ],
   "source": [
    "# CORREGIDO\n",
    "\n",
    "abc = [\"a\",\"b\",\"c\",\"d\",\"e\",\"f\",\"g\",\"h\",\"i\",\"j\",\"k\",\"l\",\"m\",\"n\",\"o\",\"p\",\"q\",\"r\",\"s\",\"t\",\"u\",\"v\",\"w\",\"x\",\"y\",\"z\"]\n",
    "\n",
    "def muestra_lista(abc):\n",
    "    temp = []\n",
    "    for i in range(len(abc)):\n",
    "        if i % 3 == 0:\n",
    "            temp.append(i)\n",
    "    for i in temp[::-1]:\n",
    "        abc.pop(i)\n",
    "    print(\"La lista resutante es:\", abc)\n",
    "    \n",
    "muestra_lista(abc)"
   ]
  },
  {
   "cell_type": "markdown",
   "metadata": {},
   "source": [
    "### Ejercicio 3\n",
    "Escribir un programa que pida al usuario una palabra y muestre por pantalla si es un\n",
    "palíndromo"
   ]
  },
  {
   "cell_type": "code",
   "execution_count": 1,
   "metadata": {},
   "outputs": [],
   "source": [
    "# CORREGIDO\n",
    "\n",
    "def palindromo():\n",
    "    frase = input(\"Dame una frase, camarada: \")\n",
    "    string = frase.lower().replace(\" \",\"\").replace(\",\",\"\")\n",
    "    n = len(string); s = True\n",
    "    \n",
    "    for i in range(n):\n",
    "        if string[i] != string[(n-1)-i]:\n",
    "            s = False\n",
    "\n",
    "    if s == False:\n",
    "        print(f\"La frase \\\"{frase}\\\" NO es un palíndromo :c\")\n",
    "    else:\n",
    "        print(f\"¡Wow!, la frase \\\"{frase}\\\" SÍ es un palíndromo c:\")"
   ]
  },
  {
   "cell_type": "code",
   "execution_count": 2,
   "metadata": {},
   "outputs": [
    {
     "name": "stdout",
     "output_type": "stream",
     "text": [
      "Dame una frase, camarada: Oso oso\n",
      "¡Wow!, la frase \"Oso oso\" SÍ es un palíndromo c:\n",
      "Dame una frase, camarada: mic cim\n",
      "¡Wow!, la frase \"mic cim\" SÍ es un palíndromo c:\n"
     ]
    }
   ],
   "source": [
    "palindromo()\n",
    "palindromo()"
   ]
  },
  {
   "cell_type": "markdown",
   "metadata": {},
   "source": [
    "### Ejercicio 4\n",
    "Pide números y mételos en una lista, cuando el usuario meta un 0 ya dejaremos de\n",
    "insertar. Por último, muestra los números ordenados de menor a mayor."
   ]
  },
  {
   "cell_type": "code",
   "execution_count": 14,
   "metadata": {},
   "outputs": [
    {
     "name": "stdout",
     "output_type": "stream",
     "text": [
      "Dame un número. Si es un \"0\", me detengo: 1\n",
      "Dame un número. Si es un \"0\", me detengo: 42\n",
      "Dame un número. Si es un \"0\", me detengo: 27\n",
      "Dame un número. Si es un \"0\", me detengo: 0\n",
      "\n",
      "Historial de números:  [1.0, 27.0, 42.0]\n"
     ]
    }
   ],
   "source": [
    "def pedir_numeros(hist = None):\n",
    "    if hist == None:\n",
    "        hist = []\n",
    "    numero = input(\"Dame un número. Si es un \\\"0\\\", me detengo: \")\n",
    "    if float(numero) == 0: \n",
    "        hist.sort(reverse=False)\n",
    "        print(\"\\nHistorial de números: \", hist)\n",
    "    else:\n",
    "        hist.append(float(numero))\n",
    "        pedir_numeros(hist=hist)\n",
    "        \n",
    "pedir_numeros()"
   ]
  },
  {
   "cell_type": "markdown",
   "metadata": {},
   "source": [
    "### Ejercicio 5\n",
    "Escribir un programa que pida al usuario una palabra y muestre por pantalla el número de veces que contiene cada vocal."
   ]
  },
  {
   "cell_type": "code",
   "execution_count": 59,
   "metadata": {},
   "outputs": [
    {
     "name": "stdout",
     "output_type": "stream",
     "text": [
      "Deme una palabra, por favor humano: Murcielago\n"
     ]
    },
    {
     "data": {
      "text/plain": [
       "{'u': 1, 'i': 1, 'e': 1, 'a': 1, 'o': 1}"
      ]
     },
     "execution_count": 59,
     "metadata": {},
     "output_type": "execute_result"
    }
   ],
   "source": [
    "def cuenta_vocales():\n",
    "    human_word = input(\"Deme una palabra, por favor humano: \").lower()\n",
    "    human_dict = {}\n",
    "\n",
    "    for i in range(len( human_word )):\n",
    "        if human_word[i] in [\"a\",\"e\",\"i\",\"o\",\"u\"]:\n",
    "            human_dict[human_word[i]]=human_dict.get(human_word[i],0)+1\n",
    "        else: pass\n",
    "    return human_dict\n",
    "\n",
    "cuenta_vocales()"
   ]
  },
  {
   "cell_type": "markdown",
   "metadata": {},
   "source": [
    "### Ejercicio 6\n",
    "Pide una cadena por teclado, mete los caracteres en una lista sin espacios."
   ]
  },
  {
   "cell_type": "code",
   "execution_count": 22,
   "metadata": {},
   "outputs": [
    {
     "name": "stdout",
     "output_type": "stream",
     "text": [
      "Amo Bruce, permitame su cadena de texto por favor: \n",
      "Claro que sí, Alfred\n"
     ]
    },
    {
     "data": {
      "text/plain": [
       "['C',\n",
       " 'l',\n",
       " 'a',\n",
       " 'r',\n",
       " 'o',\n",
       " 'q',\n",
       " 'u',\n",
       " 'e',\n",
       " 's',\n",
       " 'í',\n",
       " ',',\n",
       " 'A',\n",
       " 'l',\n",
       " 'f',\n",
       " 'r',\n",
       " 'e',\n",
       " 'd']"
      ]
     },
     "execution_count": 22,
     "metadata": {},
     "output_type": "execute_result"
    }
   ],
   "source": [
    "def string_to_list():\n",
    "    cadena = input(\"Amo Bruce, permitame su cadena de texto por favor: \\n\")\n",
    "    cadena = cadena.replace(\" \",\"\")\n",
    "    listaa = [i for i in cadena]\n",
    "    return listaa\n",
    "\n",
    "string_to_list()"
   ]
  },
  {
   "cell_type": "markdown",
   "metadata": {},
   "source": [
    "### Ejercicio 7\n",
    "Haz un programa que pida el nombre de una persona y lo muestre en pantalla repetido 1000 veces, pero dejando un espacio de separación entre cada copia del nombre."
   ]
  },
  {
   "cell_type": "code",
   "execution_count": 23,
   "metadata": {
    "scrolled": true
   },
   "outputs": [
    {
     "name": "stdout",
     "output_type": "stream",
     "text": [
      "Oye, ¿cómo se llama esa persona cuyo nombre se tiene que decir 1000 veces?: Voldemort\n",
      "\n",
      "Voldemort Voldemort Voldemort Voldemort Voldemort Voldemort Voldemort Voldemort Voldemort Voldemort Voldemort Voldemort Voldemort Voldemort Voldemort Voldemort Voldemort Voldemort Voldemort Voldemort Voldemort Voldemort Voldemort Voldemort Voldemort Voldemort Voldemort Voldemort Voldemort Voldemort Voldemort Voldemort Voldemort Voldemort Voldemort Voldemort Voldemort Voldemort Voldemort Voldemort Voldemort Voldemort Voldemort Voldemort Voldemort Voldemort Voldemort Voldemort Voldemort Voldemort Voldemort Voldemort Voldemort Voldemort Voldemort Voldemort Voldemort Voldemort Voldemort Voldemort Voldemort Voldemort Voldemort Voldemort Voldemort Voldemort Voldemort Voldemort Voldemort Voldemort Voldemort Voldemort Voldemort Voldemort Voldemort Voldemort Voldemort Voldemort Voldemort Voldemort Voldemort Voldemort Voldemort Voldemort Voldemort Voldemort Voldemort Voldemort Voldemort Voldemort Voldemort Voldemort Voldemort Voldemort Voldemort Voldemort Voldemort Voldemort Voldemort Voldemort Voldemort Voldemort Voldemort Voldemort Voldemort Voldemort Voldemort Voldemort Voldemort Voldemort Voldemort Voldemort Voldemort Voldemort Voldemort Voldemort Voldemort Voldemort Voldemort Voldemort Voldemort Voldemort Voldemort Voldemort Voldemort Voldemort Voldemort Voldemort Voldemort Voldemort Voldemort Voldemort Voldemort Voldemort Voldemort Voldemort Voldemort Voldemort Voldemort Voldemort Voldemort Voldemort Voldemort Voldemort Voldemort Voldemort Voldemort Voldemort Voldemort Voldemort Voldemort Voldemort Voldemort Voldemort Voldemort Voldemort Voldemort Voldemort Voldemort Voldemort Voldemort Voldemort Voldemort Voldemort Voldemort Voldemort Voldemort Voldemort Voldemort Voldemort Voldemort Voldemort Voldemort Voldemort Voldemort Voldemort Voldemort Voldemort Voldemort Voldemort Voldemort Voldemort Voldemort Voldemort Voldemort Voldemort Voldemort Voldemort Voldemort Voldemort Voldemort Voldemort Voldemort Voldemort Voldemort Voldemort Voldemort Voldemort Voldemort Voldemort Voldemort Voldemort Voldemort Voldemort Voldemort Voldemort Voldemort Voldemort Voldemort Voldemort Voldemort Voldemort Voldemort Voldemort Voldemort Voldemort Voldemort Voldemort Voldemort Voldemort Voldemort Voldemort Voldemort Voldemort Voldemort Voldemort Voldemort Voldemort Voldemort Voldemort Voldemort Voldemort Voldemort Voldemort Voldemort Voldemort Voldemort Voldemort Voldemort Voldemort Voldemort Voldemort Voldemort Voldemort Voldemort Voldemort Voldemort Voldemort Voldemort Voldemort Voldemort Voldemort Voldemort Voldemort Voldemort Voldemort Voldemort Voldemort Voldemort Voldemort Voldemort Voldemort Voldemort Voldemort Voldemort Voldemort Voldemort Voldemort Voldemort Voldemort Voldemort Voldemort Voldemort Voldemort Voldemort Voldemort Voldemort Voldemort Voldemort Voldemort Voldemort Voldemort Voldemort Voldemort Voldemort Voldemort Voldemort Voldemort Voldemort Voldemort Voldemort Voldemort Voldemort Voldemort Voldemort Voldemort Voldemort Voldemort Voldemort Voldemort Voldemort Voldemort Voldemort Voldemort Voldemort Voldemort Voldemort Voldemort Voldemort Voldemort Voldemort Voldemort Voldemort Voldemort Voldemort Voldemort Voldemort Voldemort Voldemort Voldemort Voldemort Voldemort Voldemort Voldemort Voldemort Voldemort Voldemort Voldemort Voldemort Voldemort Voldemort Voldemort Voldemort Voldemort Voldemort Voldemort Voldemort Voldemort Voldemort Voldemort Voldemort Voldemort Voldemort Voldemort Voldemort Voldemort Voldemort Voldemort Voldemort Voldemort Voldemort Voldemort Voldemort Voldemort Voldemort Voldemort Voldemort Voldemort Voldemort Voldemort Voldemort Voldemort Voldemort Voldemort Voldemort Voldemort Voldemort Voldemort Voldemort Voldemort Voldemort Voldemort Voldemort Voldemort Voldemort Voldemort Voldemort Voldemort Voldemort Voldemort Voldemort Voldemort Voldemort Voldemort Voldemort Voldemort Voldemort Voldemort Voldemort Voldemort Voldemort Voldemort Voldemort Voldemort Voldemort Voldemort Voldemort Voldemort Voldemort Voldemort Voldemort Voldemort Voldemort Voldemort Voldemort Voldemort Voldemort Voldemort Voldemort Voldemort Voldemort Voldemort Voldemort Voldemort Voldemort Voldemort Voldemort Voldemort Voldemort Voldemort Voldemort Voldemort Voldemort Voldemort Voldemort Voldemort Voldemort Voldemort Voldemort Voldemort Voldemort Voldemort Voldemort Voldemort Voldemort Voldemort Voldemort Voldemort Voldemort Voldemort Voldemort Voldemort Voldemort Voldemort Voldemort Voldemort Voldemort Voldemort Voldemort Voldemort Voldemort Voldemort Voldemort Voldemort Voldemort Voldemort Voldemort Voldemort Voldemort Voldemort Voldemort Voldemort Voldemort Voldemort Voldemort Voldemort Voldemort Voldemort Voldemort Voldemort Voldemort Voldemort Voldemort Voldemort Voldemort Voldemort Voldemort Voldemort Voldemort Voldemort Voldemort Voldemort Voldemort Voldemort Voldemort Voldemort Voldemort Voldemort Voldemort Voldemort Voldemort Voldemort Voldemort Voldemort Voldemort Voldemort Voldemort Voldemort Voldemort Voldemort Voldemort Voldemort Voldemort Voldemort Voldemort Voldemort Voldemort Voldemort Voldemort Voldemort Voldemort Voldemort Voldemort Voldemort Voldemort Voldemort Voldemort Voldemort Voldemort Voldemort Voldemort Voldemort Voldemort Voldemort Voldemort Voldemort Voldemort Voldemort Voldemort Voldemort Voldemort Voldemort Voldemort Voldemort Voldemort Voldemort Voldemort Voldemort Voldemort Voldemort Voldemort Voldemort Voldemort Voldemort Voldemort Voldemort Voldemort Voldemort Voldemort Voldemort Voldemort Voldemort Voldemort Voldemort Voldemort Voldemort Voldemort Voldemort Voldemort Voldemort Voldemort Voldemort Voldemort Voldemort Voldemort Voldemort Voldemort Voldemort Voldemort Voldemort Voldemort Voldemort Voldemort Voldemort Voldemort Voldemort Voldemort Voldemort Voldemort Voldemort Voldemort Voldemort Voldemort Voldemort Voldemort Voldemort Voldemort Voldemort Voldemort Voldemort Voldemort Voldemort Voldemort Voldemort Voldemort Voldemort Voldemort Voldemort Voldemort Voldemort Voldemort Voldemort Voldemort Voldemort Voldemort Voldemort Voldemort Voldemort Voldemort Voldemort Voldemort Voldemort Voldemort Voldemort Voldemort Voldemort Voldemort Voldemort Voldemort Voldemort Voldemort Voldemort Voldemort Voldemort Voldemort Voldemort Voldemort Voldemort Voldemort Voldemort Voldemort Voldemort Voldemort Voldemort Voldemort Voldemort Voldemort Voldemort Voldemort Voldemort Voldemort Voldemort Voldemort Voldemort Voldemort Voldemort Voldemort Voldemort Voldemort Voldemort Voldemort Voldemort Voldemort Voldemort Voldemort Voldemort Voldemort Voldemort Voldemort Voldemort Voldemort Voldemort Voldemort Voldemort Voldemort Voldemort Voldemort Voldemort Voldemort Voldemort Voldemort Voldemort Voldemort Voldemort Voldemort Voldemort Voldemort Voldemort Voldemort Voldemort Voldemort Voldemort Voldemort Voldemort Voldemort Voldemort Voldemort Voldemort Voldemort Voldemort Voldemort Voldemort Voldemort Voldemort Voldemort Voldemort Voldemort Voldemort Voldemort Voldemort Voldemort Voldemort Voldemort Voldemort Voldemort Voldemort Voldemort Voldemort Voldemort Voldemort Voldemort Voldemort Voldemort Voldemort Voldemort Voldemort Voldemort Voldemort Voldemort Voldemort Voldemort Voldemort Voldemort Voldemort Voldemort Voldemort Voldemort Voldemort Voldemort Voldemort Voldemort Voldemort Voldemort Voldemort Voldemort Voldemort Voldemort Voldemort Voldemort Voldemort Voldemort Voldemort Voldemort Voldemort Voldemort Voldemort Voldemort Voldemort Voldemort Voldemort Voldemort Voldemort Voldemort Voldemort Voldemort Voldemort Voldemort Voldemort Voldemort Voldemort Voldemort Voldemort Voldemort Voldemort Voldemort Voldemort Voldemort Voldemort Voldemort Voldemort Voldemort Voldemort Voldemort Voldemort Voldemort Voldemort Voldemort Voldemort Voldemort Voldemort Voldemort Voldemort Voldemort Voldemort Voldemort Voldemort Voldemort Voldemort Voldemort Voldemort Voldemort Voldemort Voldemort Voldemort Voldemort Voldemort Voldemort Voldemort Voldemort Voldemort Voldemort Voldemort Voldemort Voldemort Voldemort Voldemort Voldemort Voldemort Voldemort Voldemort Voldemort Voldemort Voldemort Voldemort Voldemort Voldemort Voldemort Voldemort Voldemort Voldemort Voldemort Voldemort Voldemort Voldemort Voldemort Voldemort Voldemort Voldemort Voldemort Voldemort Voldemort Voldemort Voldemort Voldemort Voldemort Voldemort Voldemort Voldemort Voldemort Voldemort Voldemort Voldemort Voldemort Voldemort Voldemort Voldemort Voldemort Voldemort Voldemort Voldemort Voldemort Voldemort Voldemort Voldemort Voldemort Voldemort Voldemort Voldemort Voldemort Voldemort Voldemort Voldemort Voldemort Voldemort Voldemort Voldemort Voldemort Voldemort Voldemort Voldemort Voldemort Voldemort Voldemort Voldemort Voldemort Voldemort Voldemort Voldemort Voldemort Voldemort Voldemort Voldemort Voldemort Voldemort Voldemort Voldemort Voldemort Voldemort Voldemort Voldemort Voldemort Voldemort Voldemort Voldemort Voldemort Voldemort Voldemort Voldemort Voldemort Voldemort Voldemort Voldemort Voldemort Voldemort Voldemort Voldemort Voldemort Voldemort Voldemort Voldemort Voldemort Voldemort Voldemort Voldemort Voldemort Voldemort Voldemort Voldemort Voldemort Voldemort Voldemort Voldemort Voldemort Voldemort Voldemort Voldemort Voldemort Voldemort Voldemort Voldemort Voldemort Voldemort Voldemort Voldemort Voldemort Voldemort Voldemort Voldemort Voldemort Voldemort Voldemort Voldemort Voldemort Voldemort Voldemort Voldemort Voldemort Voldemort Voldemort Voldemort Voldemort Voldemort Voldemort Voldemort Voldemort Voldemort Voldemort Voldemort Voldemort Voldemort Voldemort Voldemort Voldemort Voldemort Voldemort Voldemort Voldemort Voldemort Voldemort Voldemort Voldemort Voldemort Voldemort Voldemort Voldemort Voldemort Voldemort Voldemort Voldemort Voldemort Voldemort Voldemort Voldemort Voldemort Voldemort Voldemort Voldemort Voldemort Voldemort Voldemort Voldemort Voldemort Voldemort Voldemort Voldemort Voldemort Voldemort Voldemort Voldemort Voldemort \n"
     ]
    }
   ],
   "source": [
    "def repetir_nombre():\n",
    "    supername = input(\"Oye, ¿cómo se llama esa persona cuyo nombre se tiene que decir 1000 veces?: \")\n",
    "    superlist = (supername + \" \")*1000\n",
    "\n",
    "    print()\n",
    "    print(superlist)\n",
    "    \n",
    "repetir_nombre()"
   ]
  },
  {
   "cell_type": "markdown",
   "metadata": {},
   "source": [
    "### Ejercicio 8\n",
    "Escribir un programa que guarde en una variable el diccionario \"Euro\": 25.82, \"Dolar\":\n",
    "24.113, \"Yen\": 0.2189, \"Dolar Canadiense\": 16.7842 y le pregunte al usuario por una divisa y muestre su valor de cambio o un mensaje de aviso si la divisa no está en el diccionario. \n",
    "\n",
    "Completa con todas las divisas que puedas."
   ]
  },
  {
   "cell_type": "code",
   "execution_count": 61,
   "metadata": {},
   "outputs": [
    {
     "name": "stdout",
     "output_type": "stream",
     "text": [
      "¿En qué divisa esta interesado? Tenemos \"Euro\", \"Dolar\", \"Yen\", \"Dolar Canadiense\", \"Bitcoin\" y \"Quetzal\": \n",
      "Bitcoin\n",
      "El valor de cambio del Bitcoin, es de 228167.75 en la moneda local.\n",
      "\n",
      "¿En qué divisa esta interesado? Tenemos \"Euro\", \"Dolar\", \"Yen\", \"Dolar Canadiense\", \"Bitcoin\" y \"Quetzal\": \n",
      "Chelín\n",
      "Lo sentimos, no tenemos esa divisa en nuestro diccionario\n"
     ]
    }
   ],
   "source": [
    "divisas = {\"Euro\": 25.82, \"Dolar\": 24.113, \"Yen\": 0.2189, \"Dolar Canadiense\": 16.7842, \"Bitcoin\": 228167.75, \"Quetzal\": 2.78}\n",
    "\n",
    "def preguntar_divisa():\n",
    "    divisa = input(\"¿En qué divisa esta interesado? Tenemos \\\"Euro\\\", \\\"Dolar\\\", \\\"Yen\\\", \\\"Dolar Canadiense\\\", \\\"Bitcoin\\\" y \\\"Quetzal\\\": \\n\")\n",
    "    valor = divisas.get(divisa, 0)\n",
    "    if valor == 0:\n",
    "        print(\"Lo sentimos, no tenemos esa divisa en nuestro diccionario\")\n",
    "    else:\n",
    "        print(f\"El valor de cambio del {divisa}, es de {valor} en la moneda local.\\n\")      \n",
    "\n",
    "preguntar_divisa()\n",
    "preguntar_divisa()"
   ]
  },
  {
   "cell_type": "markdown",
   "metadata": {},
   "source": [
    "### Ejercicio 9\n",
    "Escribir un programa que almacene el diccionario con las calificaciones de las asignaturas de un semestre \"Algebra\": 10, \"Física\": 9, \"Calculo\": 8, \"Computacion\": 10, \"Geometria\": 9, y después muestre por pantalla las calificaciones de cada asignatura en el formato asignatura tiene calificacion , donde asignatura es cada una de las asignaturas del curso, y calificacion son sus calificaciones. \n",
    "\n",
    "Al final debe mostrar también el número promedio del curso."
   ]
  },
  {
   "cell_type": "code",
   "execution_count": 26,
   "metadata": {},
   "outputs": [
    {
     "name": "stdout",
     "output_type": "stream",
     "text": [
      "En \"Algebra\" tiene de calificación: 10\n",
      "En \"Física\" tiene de calificación: 9\n",
      "En \"Calculo\" tiene de calificación: 8\n",
      "En \"Computacion\" tiene de calificación: 10\n",
      "En \"Geometria\" tiene de calificación: 9\n",
      "\n",
      "El promedio de calificaciones es 9.2\n"
     ]
    }
   ],
   "source": [
    "calif = {\"Algebra\": 10, \"Física\": 9, \"Calculo\": 8, \"Computacion\": 10, \"Geometria\": 9}\n",
    "\n",
    "def leer_calificaciones(calif):\n",
    "    s = 0\n",
    "    for key in calif.items():\n",
    "        print(f\"En \\\"{key[0]}\\\" tiene de calificación: {key[1]}\")\n",
    "        s += key[1]\n",
    "    print(f\"\\nEl promedio de calificaciones es {s/5}\")\n",
    "    \n",
    "leer_calificaciones(calif)"
   ]
  },
  {
   "cell_type": "markdown",
   "metadata": {},
   "source": [
    "### Ejercicio 10\n",
    "Un satélite se encuentra en una órbita circular alrededor de la Tierra, tal que completa un círculo en $T$ segundos, $T$ es el periodo de la órbita:\n",
    "\n",
    "1. Muestra que la altitud $h$ sobre la superficie de la Tierra será:\n",
    "\n",
    "\n",
    "$$h=\\left(\\frac{GMT^2}{4\\pi^2}\\right)^{1/3}-R$$\n",
    "\n",
    "\n",
    "donde $G$ es la constante de gravitación universal con valor $G = 6.67\\times 10^{−11}\\ m^3kg^{-1}s^{-2}$, $M$ es la masa de la Tierra $M = 5.97 \\times 10^{24}\\ kg$ y $R$ es el radio de la Tierra $R = 6371\\ km$.\n",
    "\n",
    "2. Escribe un programa que le pregunte al usuario el periodo que desea tenga su satélite girando alrededor de la Tierra y el programa le regrese la altitud (en metros) que deberá tener.\n",
    "\n",
    "3. ¿Qué altitud deberá tener el satélite su queremos que orbite la Tierra con un periodo de un día (órbita geosíncrona), 90 minutos, 45 minutos? ¿Qué observas?\n",
    "\n",
    "4. En la práctica, una órbita geosíncrona es aquella cuya órbita tiene un periodo de un día sideral, que es de 23.93 horas, no de 24 horas. ¿Por qué es esto? ¿Cuál será la diferencia en altitud entre $T= 23.93$ horas y $T= 24$ horas.\n"
   ]
  },
  {
   "cell_type": "markdown",
   "metadata": {},
   "source": [
    "Para este problema, primero nos enfocamos en la fuerza que experimenta el satélite (en el eje radial)\n",
    "\n",
    "$$F_T=F_C$$\n",
    "\n",
    "donde $F_G$ es la fuerza gravitatoria entre Tierra-satélite, y $F_C$ la fuerza centrifuga del satélite. Con esto dicho podemos hacer el siguiente despeje.\n",
    "\n",
    "$$G\\frac{Mm}{r^2}=m\\frac{v^2}{r}$$\n",
    "\n",
    "donde $M$ es la masa de la Tierra, $m$ la masa del satélite, $v$ la velocidad radial del satélite y $r$ la distancia del centro de la Tierra al satélite. Simplificamos esta expresión.\n",
    "\n",
    "\\begin{equation*}\n",
    "G\\frac{Mm}{r^2}=m\\frac{v^2}{r}\\quad\\Rightarrow\n",
    "G\\frac{M}{r}=v^2\n",
    "\\end{equation*}\n"
   ]
  },
  {
   "cell_type": "markdown",
   "metadata": {},
   "source": [
    "Y como la velocidad radial esta definida como $v=\\omega\\cdot r=\\left(\\frac{2\\pi}{T}\\right)\\cdot r$, sustituyendo en la ecuación, despejamos $r$\n",
    "\n",
    "\\begin{equation*}\n",
    "G\\frac{M}{r}=\\left(\\frac{2\\pi}{T}\\cdot r\\right)^2=\\frac{4\\pi^2}{T^2}\\cdot r^2\\quad\\Rightarrow \n",
    "r^3=\\frac{GMT^2}{4\\pi^2}\\quad\\Rightarrow r=\\left(\\frac{GMT^2}{4\\pi^2}\\right)^{1/3}\n",
    "\\end{equation*}"
   ]
  },
  {
   "cell_type": "markdown",
   "metadata": {},
   "source": [
    "Dado que $r$ es la distancia del centro de la Tierra al satélite, se deduce que $r=R+h$, donde $R$ es el radio de la Tierra y $h$ es la distancia de la Tierra al satélite.\n",
    "\n",
    "Por lo tanto, al resolver para $h$, se tiene la siguiente expresión.\n",
    "\n",
    "$$\\boxed{h=\\left(\\frac{GMT^2}{4\\pi^2}\\right)^{1/3}-R}$$"
   ]
  },
  {
   "cell_type": "code",
   "execution_count": 28,
   "metadata": {},
   "outputs": [
    {
     "data": {
      "text/plain": [
       "37020881.55756288"
      ]
     },
     "execution_count": 28,
     "metadata": {},
     "output_type": "execute_result"
    }
   ],
   "source": [
    "\"\"\" \n",
    "10.2. Para este problema tenemos que agregar las constantes previamente para no crear variables\n",
    "cada que llamemos a la función, entonces simplemente es cuestión de aplicar la formula anterior\n",
    "\"\"\"\n",
    "\n",
    "from math import pi\n",
    "G = 6.67 * 10 **(-11) # m^{3}kg^{-1}s^{-2}\n",
    "M = 5.97 * 10 **(24)  # kg\n",
    "R = 6371 * 10 **(3)   # m \n",
    "\n",
    "def h(T):\n",
    "    \"\"\"\n",
    "    T debe estar en segundos [s] y el resultado esta en metros [m]\n",
    "    \"\"\"\n",
    "    frac = (G*M*T**2)/(4*pi**2)\n",
    "    h = frac**(1/3) - R\n",
    "    return h\n",
    "\n",
    "h(25*60*60)  # Altura de un satélite con un periodo de 25 horas"
   ]
  },
  {
   "cell_type": "code",
   "execution_count": 46,
   "metadata": {},
   "outputs": [
    {
     "name": "stdout",
     "output_type": "stream",
     "text": [
      "Órbita de 90 minutos: 279.32 km de altura \n",
      "Órbita de 45 minutos: -2181.56 km de altura\n"
     ]
    }
   ],
   "source": [
    "\"\"\"\n",
    "10.3. Calculamos la altura para una órbita de t1=90 minutos y t2=45 minutos.\n",
    "\"\"\"\n",
    "\n",
    "t1 = 90   # minutos\n",
    "t2 = 45   # minutos\n",
    "\n",
    "print(f\"Órbita de {t1} minutos: {round(h(t1*60)/1000,2)} km de altura \\nÓrbita de {t2} minutos: {round(h(t2*60)/1000,2)} km de altura\")"
   ]
  },
  {
   "cell_type": "markdown",
   "metadata": {},
   "source": [
    "Para el problema **10.3.** podemos ver que la órbita de **90 minutos** si es posible pero es a apenas **280 km** de altura y para la órbita de **45 minutos**, se tiene una **altura negativa** (-2182 km), por lo que no es posible realizar dicha órbita porque chocaría con la Tierra."
   ]
  },
  {
   "cell_type": "code",
   "execution_count": 52,
   "metadata": {},
   "outputs": [
    {
     "data": {
      "text/plain": [
       "'La diferencia de alturas entre una órbita de 24 y 23.93 horas es 821.48 km'"
      ]
     },
     "execution_count": 52,
     "metadata": {},
     "output_type": "execute_result"
    }
   ],
   "source": [
    "\"\"\"\n",
    "10.4. Para la parte de código, calculamos simplemente la diferencia de alturas entre estos dos periodos.\n",
    "\"\"\"\n",
    "\n",
    "h1 = h(23.93*(60*60))\n",
    "h2 = h(24*(60*60))\n",
    "\n",
    "(f\"La diferencia de alturas entre una órbita de 24 y 23.93 horas es {round((h2-h1)/100,2)} km\")"
   ]
  },
  {
   "cell_type": "markdown",
   "metadata": {},
   "source": [
    "La razón del porqué las órbitas geoestacionarias son de $23.93$ horas es debido estan ligadas a los días siderales que no son 24 horas.\n",
    "\n",
    "Según Wikipedia, un <a src=\"https://es.wikipedia.org/wiki/D%C3%ADa_sid%C3%A9reo\">día sideral</a> es el lapso transcurrido entre dos culminaciones (o tránsitos) sucesivos del Primer punto de Aries. [...] El día sidéreo es unos 4 minutos más corto que el día solar medio."
   ]
  },
  {
   "cell_type": "markdown",
   "metadata": {},
   "source": [
    "#### Órbita geoestacionaria:\n",
    "<img src=\"https://upload.wikimedia.org/wikipedia/commons/thumb/4/49/Geostat.gif/250px-Geostat.gif\">\n",
    "\n",
    "Son de gran importancia para telecomunicaciones ya que permanecen en un solo punto en el cielo respecto a los observadores en la Tierra por lo que están ligados necesariamente a un periodo de un día sideral."
   ]
  },
  {
   "cell_type": "code",
   "execution_count": null,
   "metadata": {},
   "outputs": [],
   "source": []
  }
 ],
 "metadata": {
  "kernelspec": {
   "display_name": "Python 3",
   "language": "python",
   "name": "python3"
  },
  "language_info": {
   "codemirror_mode": {
    "name": "ipython",
    "version": 3
   },
   "file_extension": ".py",
   "mimetype": "text/x-python",
   "name": "python",
   "nbconvert_exporter": "python",
   "pygments_lexer": "ipython3",
   "version": "3.8.3"
  },
  "latex_envs": {
   "LaTeX_envs_menu_present": true,
   "autoclose": false,
   "autocomplete": false,
   "bibliofile": "biblio.bib",
   "cite_by": "apalike",
   "current_citInitial": 1,
   "eqLabelWithNumbers": false,
   "eqNumInitial": 1,
   "hotkeys": {
    "equation": "Ctrl-E",
    "itemize": "Ctrl-I"
   },
   "labels_anchors": false,
   "latex_user_defs": false,
   "report_style_numbering": false,
   "user_envs_cfg": true
  }
 },
 "nbformat": 4,
 "nbformat_minor": 4
}
