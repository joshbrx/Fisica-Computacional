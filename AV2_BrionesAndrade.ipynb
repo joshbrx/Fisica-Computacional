{
  "nbformat": 4,
  "nbformat_minor": 0,
  "metadata": {
    "colab": {
      "name": "Aula Virtual 2.ipynb",
      "provenance": [],
      "collapsed_sections": []
    },
    "kernelspec": {
      "name": "python3",
      "display_name": "Python 3"
    }
  },
  "cells": [
    {
      "cell_type": "markdown",
      "metadata": {
        "id": "aZ24__GcdDY-"
      },
      "source": [
        "# **Física Computacional: _Aula Virtual 2_**\n",
        "#### $\\circ$ Arvizu Velázquez Arturo Alejandro \n",
        "#### $\\circ$ Briones Andrade Joshua\n",
        "\n",
        "##### **Fecha de entrega: _4 de diciembre_**\n",
        "-------"
      ]
    },
    {
      "cell_type": "code",
      "metadata": {
        "id": "OqZN7UtLb2Y-"
      },
      "source": [
        "# Primero importamos las librerias necesarias\n",
        "import numpy as np\n",
        "import matplotlib.pyplot as plt\n",
        "from math import *\n",
        "import pandas as pd\n",
        "pd.options.display.float_format = '{:.14f}'.format"
      ],
      "execution_count": null,
      "outputs": []
    },
    {
      "cell_type": "markdown",
      "metadata": {
        "id": "v7DTG4GJXbaL"
      },
      "source": [
        "Importamos todos los métodos que conocemos: Incremental Search, Biseccion, Newton-Rapson, Secante y Ridders."
      ]
    },
    {
      "cell_type": "code",
      "metadata": {
        "id": "vBRm889QXz8Q"
      },
      "source": [
        "def incremental(f,a,b,dx):\n",
        "    x0=a;f0=f(x0) \n",
        "    x1=x0+dx;f1=f(x1) \n",
        "    contador=0.0 \n",
        "    while f0*f1>0.0:\n",
        "        if x1>=b: break\n",
        "        x0=x1;f0=f1\n",
        "        x1=x0+dx;f1=f(x1)\n",
        "        contador=contador+1\n",
        "    return [x1,contador] "
      ],
      "execution_count": null,
      "outputs": []
    },
    {
      "cell_type": "code",
      "metadata": {
        "id": "wq7gh2l4X4Z0"
      },
      "source": [
        "def biseccion(f,a,b,epsilon):\n",
        "    contador=0\n",
        "    dx=abs(b-a)\n",
        "    while dx>epsilon:\n",
        "        x=(a+b)/2.0\n",
        "        if (f(a)*f(x))<0:\n",
        "            b=x \n",
        "        else:\n",
        "            a=x \n",
        "        dx=abs(b-a) \n",
        "        contador=contador+1\n",
        "    return [x, contador]"
      ],
      "execution_count": null,
      "outputs": []
    },
    {
      "cell_type": "code",
      "metadata": {
        "id": "EGtMOnvSX8tM"
      },
      "source": [
        "def newton(f,df,a,b,epsilon):\n",
        "    dx=2*epsilon\n",
        "    contador = 0\n",
        "    x=0.5*(a+b)\n",
        "    while dx> epsilon and contador<1000:\n",
        "        x1=x-f(x)/df(x)\n",
        "        dx=abs(x-x1)\n",
        "        x=x1\n",
        "        contador=contador+1\n",
        "    return [x,contador]"
      ],
      "execution_count": null,
      "outputs": []
    },
    {
      "cell_type": "code",
      "metadata": {
        "id": "0psdR-l9X_z1"
      },
      "source": [
        "def secante(f, x0, x1, delta):\n",
        "    f0 = f(x0)\n",
        "    f1 = f(x1)\n",
        "    contador = 0\n",
        "    res = [[x0, f(x0), np.nan], \n",
        "           [x1, f(x1), x1 - x0],]\n",
        "    while True:\n",
        "        x2 = x1 - f1 * (x1 - x0) / (f1 - f0)\n",
        "        f2 = f(x2)\n",
        "        res.append([x2, f2, x2-x1])\n",
        "        if abs(f2) < delta:\n",
        "            break \n",
        "        f0 = f1\n",
        "        f1 = f2\n",
        "        x0 = x1\n",
        "        x1 = x2\n",
        "        contador=contador+1\n",
        "    return [x0,contador]"
      ],
      "execution_count": null,
      "outputs": []
    },
    {
      "cell_type": "code",
      "metadata": {
        "id": "-OTO5FtLYHs0"
      },
      "source": [
        "def ridders(f,x1,x2,tol):\n",
        "    n=0\n",
        "    f1=f(x1)\n",
        "    if f1==0: return x1\n",
        "    f2=f(x2)\n",
        "    if f2==0: return x2\n",
        "   # if f1*f2>0.0: return np.nan #intervalos correctos\n",
        "    while abs(x1-x2)> tol:\n",
        "        x3=0.5*(x1+x2);f3=f(x3)\n",
        "        raiz=sqrt(abs(3**2.-f1*f2))\n",
        "        if raiz==0:return None\n",
        "        fraccion=(x3-x1)*f3/raiz\n",
        "        if (f1-f2)<0.0: fraccion=-fraccion\n",
        "        x4=x3+fraccion; f4=f(x4)\n",
        "        if (f3*f4)>0.0:\n",
        "            if f1*f4>0.0:x1=x3;f1=f3\n",
        "            else: x2=x3;f2=f3\n",
        "        else:             \n",
        "            x1=x3;x2=x4;f1=f3;f2=f4\n",
        "        n+=1\n",
        "    return [x4,n]"
      ],
      "execution_count": null,
      "outputs": []
    },
    {
      "cell_type": "markdown",
      "metadata": {
        "id": "LzwTTyY8eplN"
      },
      "source": [
        "### **1. Evaluando nuestros métodos**\n",
        "\n",
        "Encuentra las raíces de los siguientes polinomios con todos los métodos que conocemos.\n",
        "Para cada caso, explica cual es el mejor método y cuál es el peor.\n",
        "\n",
        "Entonces, para hacer este proceso justo y ver qué metodo conviene más, consideramos la misma tolerancia(o parámetros análogos) para todos los metodos y juzgamos apartir de cuántos pasos tuvieron que computarse para llegar a un resultado y la diferencia porcentual entre el valor computado y el valor obtenido.\n",
        "\n"
      ]
    },
    {
      "cell_type": "markdown",
      "metadata": {
        "id": "QZQCl0TdBDOF"
      },
      "source": [
        "i) Encuentra las dos raíces de $f(x)=2x^5+5x-3=0$"
      ]
    },
    {
      "cell_type": "code",
      "metadata": {
        "colab": {
          "base_uri": "https://localhost:8080/",
          "height": 374
        },
        "id": "UwM28U9Eef3k",
        "outputId": "31517087-7aa4-4ab1-8d34-8b6a44210cee"
      },
      "source": [
        "# Gráficamos para poder ver el comportamiento de la función\n",
        "x = np.linspace(-1.5,1.5); f = lambda x: 2*x**5 + 5*x-3\n",
        "y = f(x)\n",
        "plt.figure(figsize=(10,6)); plt.grid()\n",
        "plt.plot(x,y, label=\"$f(x)=2x^5 + 5x-3$\"); plt.plot(x,y*0, \"r--\", label=\"$g(x)=0$\")\n",
        "plt.legend()\n",
        "plt.show()"
      ],
      "execution_count": null,
      "outputs": [
        {
          "output_type": "display_data",
          "data": {
            "image/png": "[encoded data removed]",
            "text/plain": [
              "<Figure size 720x432 with 1 Axes>"
            ]
          },
          "metadata": {
            "tags": [],
            "needs_background": "light"
          }
        }
      ]
    },
    {
      "cell_type": "markdown",
      "metadata": {
        "id": "XtWKcChEEd_c"
      },
      "source": [
        "Debido a que $f(x)=2x^5-+5x-3$ tiene cinco raíces diferentes por ser un polinomio de grado 5, al calcularlas en Mathematica se tiene que \n",
        "\n",
        "$$x_1= 0.574883,\\quad x_2=-1.01137-(0.906579)i,\\quad x_3=-1.01137+(0.906579)i,$$\n",
        "$$x_4 =0.723933\\,-(0.943565) i,\\quad x_5=0.723933\\, +(0.943565) i$$\n",
        "\n",
        "entonces solo podemos aproximar a la raiz $x_1$ dado que estamos trabajando en el dominio de los reales con estos métodos. Además, siguiendo la gráfica podemos trabajar dentro del intervalo $[0,1]$ para determinar más fácilmente el valor de la raíz."
      ]
    },
    {
      "cell_type": "code",
      "metadata": {
        "colab": {
          "base_uri": "https://localhost:8080/",
          "height": 204
        },
        "id": "rY7-EqRDEcQ-",
        "outputId": "6b455b11-23c9-46d1-b4b1-5302da2fc0b0"
      },
      "source": [
        "f1 = lambda x: 2*x**5 + 5*x-3\n",
        "df1= lambda x: 10*x**4 + 5\n",
        "\n",
        "#Para la raíz en [0,1]\n",
        "rm1=[incremental(f1,0.0,1.0,1e-4)[0],biseccion(f1,0.0,1.0,1e-4)[0],newton(f1,df1,0.0,1.0,1e-4)[0],secante(f1,0.0,1.0,1e-4)[0],ridders(f1,0.0,1.0,1e-4)[0]]\n",
        "rm2=[incremental(f1,0.0,1.0,1e-4)[1],biseccion(f1,0.0,1.0,1e-4)[1],newton(f1,df1,0.0,1.0,1e-4)[1],secante(f1,0.0,1.0,1e-4)[1],ridders(f1,0.0,1.0,1e-4)[1]]\n",
        "nm=['incremental','biseccion','newton','secante','ridders']\n",
        "\n",
        "lista_incremental=[]\n",
        "valor_real= 0.57488349568386\n",
        "for i in range(len(rm1)):\n",
        "  error=abs((valor_real-rm1[i])/valor_real)*100\n",
        "  lista_incremental.append([rm1[i],int(rm2[i]),error])\n",
        "cols = [\"Raiz\",\"Pasos\",\"error %\"]\n",
        "pd.DataFrame(lista_incremental, index=nm, columns=cols)"
      ],
      "execution_count": null,
      "outputs": [
        {
          "output_type": "execute_result",
          "data": {
            "text/html": [
              "<div>\n",
              "<style scoped>\n",
              "    .dataframe tbody tr th:only-of-type {\n",
              "        vertical-align: middle;\n",
              "    }\n",
              "\n",
              "    .dataframe tbody tr th {\n",
              "        vertical-align: top;\n",
              "    }\n",
              "\n",
              "    .dataframe thead th {\n",
              "        text-align: right;\n",
              "    }\n",
              "</style>\n",
              "<table border=\"1\" class=\"dataframe\">\n",
              "  <thead>\n",
              "    <tr style=\"text-align: right;\">\n",
              "      <th></th>\n",
              "      <th>Raiz</th>\n",
              "      <th>Pasos</th>\n",
              "      <th>error %</th>\n",
              "    </tr>\n",
              "  </thead>\n",
              "  <tbody>\n",
              "    <tr>\n",
              "      <th>incremental</th>\n",
              "      <td>0.57489999999995</td>\n",
              "      <td>5748</td>\n",
              "      <td>0.00287089753262</td>\n",
              "    </tr>\n",
              "    <tr>\n",
              "      <th>biseccion</th>\n",
              "      <td>0.57489013671875</td>\n",
              "      <td>14</td>\n",
              "      <td>0.00115519665112</td>\n",
              "    </tr>\n",
              "    <tr>\n",
              "      <th>newton</th>\n",
              "      <td>0.57488349570111</td>\n",
              "      <td>3</td>\n",
              "      <td>0.00000000300068</td>\n",
              "    </tr>\n",
              "    <tr>\n",
              "      <th>secante</th>\n",
              "      <td>0.57830870980949</td>\n",
              "      <td>4</td>\n",
              "      <td>0.59581013393966</td>\n",
              "    </tr>\n",
              "    <tr>\n",
              "      <th>ridders</th>\n",
              "      <td>0.57489013589561</td>\n",
              "      <td>14</td>\n",
              "      <td>0.00115505346737</td>\n",
              "    </tr>\n",
              "  </tbody>\n",
              "</table>\n",
              "</div>"
            ],
            "text/plain": [
              "                        Raiz  Pasos          error %\n",
              "incremental 0.57489999999995   5748 0.00287089753262\n",
              "biseccion   0.57489013671875     14 0.00115519665112\n",
              "newton      0.57488349570111      3 0.00000000300068\n",
              "secante     0.57830870980949      4 0.59581013393966\n",
              "ridders     0.57489013589561     14 0.00115505346737"
            ]
          },
          "metadata": {
            "tags": []
          },
          "execution_count": 45
        }
      ]
    },
    {
      "cell_type": "markdown",
      "metadata": {
        "id": "DsxdUZ-wLsVq"
      },
      "source": [
        "En este caso el **mejor método** es **Newton** con un error de $3\\times 10^{-9}$ y solo en tres pasos. Esto es porque los polinomios son derivables, suaves y continuos en todas sus partes.\n",
        "\n",
        "El **peor método** sería **Incremental** ya que necesita 5748 pasos para tener un error de $2.87\\times 10^{-3}$, lo cual es bastante costoso en términos de tiempo de computo comparado con los otros métodos."
      ]
    },
    {
      "cell_type": "markdown",
      "metadata": {
        "id": "TS3616cjS0D8"
      },
      "source": [
        "ii) $f(x)=\\cos(x)+(1+x^2)^{-1}$\n"
      ]
    },
    {
      "cell_type": "code",
      "metadata": {
        "colab": {
          "base_uri": "https://localhost:8080/",
          "height": 374
        },
        "id": "n5ARgO-gTSPB",
        "outputId": "80caa6d1-a71f-47b3-fba1-73e63f12de61"
      },
      "source": [
        "x = np.linspace(-5.0,5.0,1000); f2 = lambda x: np.cos(x)+(1+x**2)**(-1)\n",
        "y = f2(x)\n",
        "plt.figure(figsize=(10,6)); plt.grid()\n",
        "plt.plot(x,y, label=\"$cos(x)+(1+x^2)^{-1}$\"); plt.plot(x,y*0, \"r--\", label=\"$g(x)=0$\")\n",
        "plt.legend()\n",
        "plt.show()"
      ],
      "execution_count": null,
      "outputs": [
        {
          "output_type": "display_data",
          "data": {
            "image/png": "[encoded data removed]",
            "text/plain": [
              "<Figure size 720x432 with 1 Axes>"
            ]
          },
          "metadata": {
            "tags": [],
            "needs_background": "light"
          }
        }
      ]
    },
    {
      "cell_type": "markdown",
      "metadata": {
        "id": "QK3pvFyCoQzp"
      },
      "source": [
        "Como $f(x)=\\cos(x)+(1+x^2)^{-1}$ tiene un numero infinito de raíces, solo escogeremos las dos primeras raíces más cercanas al origen, ubicadas en los intervalos [-2.0,-1.0] y [1.0,2.0].\n",
        "\n",
        "Y de acuerdo con Wolfram Alpha, la ecuación, para los intervalos mencionados, tiene soluciones: $x_{\\pm}=\\pm 1.80737537918248$"
      ]
    },
    {
      "cell_type": "code",
      "metadata": {
        "colab": {
          "base_uri": "https://localhost:8080/",
          "height": 204
        },
        "id": "yPTohyV9mSf3",
        "outputId": "efa39d38-4d63-4f06-c18b-3b901678b773"
      },
      "source": [
        "f2 = lambda x: np.cos(x)+(1+x**2)**(-1)\n",
        "df2= lambda x: -np.sin(x)-(2*x)*(1+x**2)**(-1)\n",
        "\n",
        "#Para la raíz en [-2.0,-1.0]\n",
        "rm1=[incremental(f2,-2.0,-1.7,1e-4)[0],biseccion(f2,-2.0,-1.7,1e-4)[0],newton(f2,df2,-2.0,-1.7,1e-4)[0],secante(f2,-2.0,-1.6,1e-4)[0],ridders(f2,-2.0,-1.7,1e-4)[0]]\n",
        "rm2=[incremental(f2,-2.0,-1.7,1e-4)[1],biseccion(f2,-2.0,-1.7,1e-4)[1],newton(f2,df2,-2.0,-1.7,1e-4)[1],secante(f2,-2.0,-1.6,1e-4)[1],ridders(f2,-2.0,-1.7,1e-4)[1]]\n",
        "nm=['incremental','biseccion','newton','secante','ridders']\n",
        "\n",
        "lista_incremental=[]\n",
        "valor_real= -1.80737537918248 \n",
        "for i in range(len(rm1)):\n",
        "  error=abs((valor_real-rm1[i])/valor_real)*100\n",
        "  lista_incremental.append([rm1[i],int(rm2[i]),error])\n",
        "cols = [\"Raiz\",\"Pasos\",\"error %\"]\n",
        "pd.DataFrame(lista_incremental, index=nm, columns=cols)\n",
        "\n"
      ],
      "execution_count": null,
      "outputs": [
        {
          "output_type": "execute_result",
          "data": {
            "text/html": [
              "<div>\n",
              "<style scoped>\n",
              "    .dataframe tbody tr th:only-of-type {\n",
              "        vertical-align: middle;\n",
              "    }\n",
              "\n",
              "    .dataframe tbody tr th {\n",
              "        vertical-align: top;\n",
              "    }\n",
              "\n",
              "    .dataframe thead th {\n",
              "        text-align: right;\n",
              "    }\n",
              "</style>\n",
              "<table border=\"1\" class=\"dataframe\">\n",
              "  <thead>\n",
              "    <tr style=\"text-align: right;\">\n",
              "      <th></th>\n",
              "      <th>Raiz</th>\n",
              "      <th>Pasos</th>\n",
              "      <th>error %</th>\n",
              "    </tr>\n",
              "  </thead>\n",
              "  <tbody>\n",
              "    <tr>\n",
              "      <th>incremental</th>\n",
              "      <td>-1.80730000000002</td>\n",
              "      <td>1926</td>\n",
              "      <td>0.00417064342732</td>\n",
              "    </tr>\n",
              "    <tr>\n",
              "      <th>biseccion</th>\n",
              "      <td>-1.80744628906250</td>\n",
              "      <td>12</td>\n",
              "      <td>0.00392336206616</td>\n",
              "    </tr>\n",
              "    <tr>\n",
              "      <th>newton</th>\n",
              "      <td>-1.80740631228198</td>\n",
              "      <td>7</td>\n",
              "      <td>0.00171149280076</td>\n",
              "    </tr>\n",
              "    <tr>\n",
              "      <th>secante</th>\n",
              "      <td>-1.81519837855541</td>\n",
              "      <td>2</td>\n",
              "      <td>0.43283755345130</td>\n",
              "    </tr>\n",
              "    <tr>\n",
              "      <th>ridders</th>\n",
              "      <td>-1.80744628703579</td>\n",
              "      <td>12</td>\n",
              "      <td>0.00392324993052</td>\n",
              "    </tr>\n",
              "  </tbody>\n",
              "</table>\n",
              "</div>"
            ],
            "text/plain": [
              "                         Raiz  Pasos          error %\n",
              "incremental -1.80730000000002   1926 0.00417064342732\n",
              "biseccion   -1.80744628906250     12 0.00392336206616\n",
              "newton      -1.80740631228198      7 0.00171149280076\n",
              "secante     -1.81519837855541      2 0.43283755345130\n",
              "ridders     -1.80744628703579     12 0.00392324993052"
            ]
          },
          "metadata": {
            "tags": []
          },
          "execution_count": 47
        }
      ]
    },
    {
      "cell_type": "code",
      "metadata": {
        "colab": {
          "base_uri": "https://localhost:8080/",
          "height": 204
        },
        "id": "_bqQLRKhQpLS",
        "outputId": "e8dea6fa-39fb-470f-a208-03a5924c8363"
      },
      "source": [
        "f2 = lambda x: np.cos(x)+(1+x**2)**(-1)\n",
        "df2= lambda x: -np.sin(x)-(2*x)*(1+x**2)**(-1)\n",
        "\n",
        "#Para la raíz en [1.0,2.0]\n",
        "\n",
        "rm1=[incremental(f2,1.5,1.9,1e-4)[0],biseccion(f2,1.5,1.9,1e-4)[0],newton(f2,df2,1.5,1.9,1e-4)[0],secante(f2,1.5,1.9,1e-4)[0],ridders(f2,1.5,1.9,1e-4)[0]]\n",
        "rm2=[incremental(f2,1.5,1.9,1e-4)[1],biseccion(f2,1.5,1.9,1e-4)[1],newton(f2,df2,1.5,1.9,1e-4)[1],secante(f2,1.5,1.9,1e-4)[1],ridders(f2,1.5,1.9,1e-4)[1]]\n",
        "nm=['incremental','biseccion','newton','secante','ridders']\n",
        "\n",
        "lista_incremental=[]\n",
        "valor_real= 1.80737537918248 \n",
        "for i in range(len(rm1)):\n",
        "  error=abs((valor_real-rm1[i])/valor_real)*100\n",
        "  lista_incremental.append([rm1[i],int(rm2[i]),error])\n",
        "cols = [\"Raiz\",\"Pasos\",\"error %\"]\n",
        "pd.DataFrame(lista_incremental, index=nm, columns=cols)"
      ],
      "execution_count": null,
      "outputs": [
        {
          "output_type": "execute_result",
          "data": {
            "text/html": [
              "<div>\n",
              "<style scoped>\n",
              "    .dataframe tbody tr th:only-of-type {\n",
              "        vertical-align: middle;\n",
              "    }\n",
              "\n",
              "    .dataframe tbody tr th {\n",
              "        vertical-align: top;\n",
              "    }\n",
              "\n",
              "    .dataframe thead th {\n",
              "        text-align: right;\n",
              "    }\n",
              "</style>\n",
              "<table border=\"1\" class=\"dataframe\">\n",
              "  <thead>\n",
              "    <tr style=\"text-align: right;\">\n",
              "      <th></th>\n",
              "      <th>Raiz</th>\n",
              "      <th>Pasos</th>\n",
              "      <th>error %</th>\n",
              "    </tr>\n",
              "  </thead>\n",
              "  <tbody>\n",
              "    <tr>\n",
              "      <th>incremental</th>\n",
              "      <td>1.80739999999997</td>\n",
              "      <td>3073</td>\n",
              "      <td>0.00136224150056</td>\n",
              "    </tr>\n",
              "    <tr>\n",
              "      <th>biseccion</th>\n",
              "      <td>1.80732421875000</td>\n",
              "      <td>12</td>\n",
              "      <td>0.00283064785929</td>\n",
              "    </tr>\n",
              "    <tr>\n",
              "      <th>newton</th>\n",
              "      <td>1.80734688528058</td>\n",
              "      <td>8</td>\n",
              "      <td>0.00157653480459</td>\n",
              "    </tr>\n",
              "    <tr>\n",
              "      <th>secante</th>\n",
              "      <td>1.81223599608930</td>\n",
              "      <td>2</td>\n",
              "      <td>0.26893234038753</td>\n",
              "    </tr>\n",
              "    <tr>\n",
              "      <th>ridders</th>\n",
              "      <td>1.80732422069970</td>\n",
              "      <td>12</td>\n",
              "      <td>0.00283053998442</td>\n",
              "    </tr>\n",
              "  </tbody>\n",
              "</table>\n",
              "</div>"
            ],
            "text/plain": [
              "                        Raiz  Pasos          error %\n",
              "incremental 1.80739999999997   3073 0.00136224150056\n",
              "biseccion   1.80732421875000     12 0.00283064785929\n",
              "newton      1.80734688528058      8 0.00157653480459\n",
              "secante     1.81223599608930      2 0.26893234038753\n",
              "ridders     1.80732422069970     12 0.00283053998442"
            ]
          },
          "metadata": {
            "tags": []
          },
          "execution_count": 48
        }
      ]
    },
    {
      "cell_type": "markdown",
      "metadata": {
        "id": "eY1J1qNa2KFT"
      },
      "source": [
        "Realizaremos el análisis comparativo en terminos de dos cosas, numero de pasos y error.\n",
        "\n",
        "En términos de **numero de pasos** el mejor método fue el de la **secante** pues en solamente dos iteraciones, nos presenta un resultado con un error relativamente bajo y el peor método fue el metodo **incremental**, pues aunque presenta un error muy, pero muy pequeño, llega a este en 1926 pasos, haciéndolo muy caro en términos computacionales.\n",
        "\n",
        "En términos de **error** notamos que el mejor método fue el de **Newton-Rapson** pues presenta el error más pequeño de todos en un numero también, pequeño de iteraciones, haciéndolo eficiente y con buenos resultados y el peor método fue el método de la **secante** pues presenta un el error más grande de todos, aunque solo convergió a dicho resultado en solamente dos pasos.\n",
        "\n",
        "Concluyo que para la función $f(x)=\\cos(x)+(1+x^2)^{-1}$, el mejor método fue el de **Newton** por su relativo bajo costo computacional y error decente."
      ]
    },
    {
      "cell_type": "markdown",
      "metadata": {
        "id": "0U3nsDe2h05e"
      },
      "source": [
        "iii) $f(x)=(x-2)^2-\\ln(x)$"
      ]
    },
    {
      "cell_type": "code",
      "metadata": {
        "colab": {
          "base_uri": "https://localhost:8080/",
          "height": 442
        },
        "id": "JSKur4EJjzd8",
        "outputId": "c8c9632f-4685-4c13-d771-3d2e364d53b4"
      },
      "source": [
        "# Gráficamos para ver el comportamiento de la función\n",
        "x = np.linspace(0,4); f = lambda x: (x-2)**2 - np.log(x)\n",
        "y = f(x)\n",
        "plt.figure(figsize=(10,6)); plt.grid()\n",
        "plt.plot(x,y, label=\"$f(x)=(x-2)^2 - ln(x)$\"); plt.plot(x,y*0, \"r--\", label=\"$g(x)=0$\")\n",
        "plt.legend()\n",
        "plt.show()"
      ],
      "execution_count": null,
      "outputs": [
        {
          "output_type": "stream",
          "text": [
            "/usr/local/lib/python3.6/dist-packages/ipykernel_launcher.py:2: RuntimeWarning: divide by zero encountered in log\n",
            "  \n",
            "/usr/local/lib/python3.6/dist-packages/ipykernel_launcher.py:5: RuntimeWarning: invalid value encountered in multiply\n",
            "  \"\"\"\n"
          ],
          "name": "stderr"
        },
        {
          "output_type": "display_data",
          "data": {
            "image/png": "[encoded data removed]",
            "text/plain": [
              "<Figure size 720x432 with 1 Axes>"
            ]
          },
          "metadata": {
            "tags": [],
            "needs_background": "light"
          }
        }
      ]
    },
    {
      "cell_type": "markdown",
      "metadata": {
        "id": "l1wivY3vNak-"
      },
      "source": [
        "Debido a que $f(x)=(x-2)^2-\\ln(x)$ tiene dos raice en el intervalo $[1,3.5]$, según Mathematica los valores de estas raices son: \n",
        "\n",
        "$$x_1= 1.41239117202388,\\quad x_2=3.05710354999473$$"
      ]
    },
    {
      "cell_type": "code",
      "metadata": {
        "colab": {
          "base_uri": "https://localhost:8080/",
          "height": 204
        },
        "id": "qSpaBbeINZ42",
        "outputId": "16ea7904-e747-4a6c-a5c2-3480251c31b9"
      },
      "source": [
        "f3 = lambda x: (x-2)**2 - np.log(x)\n",
        "df3= lambda x: 2*(x-2) - 1/x\n",
        "\n",
        "#Para la raíz en [1,1.5]\n",
        "rm1=[incremental(f3,1.0,1.5,1e-4)[0],biseccion(f3,1.0,1.5,1e-4)[0],newton(f3,df3,1.0,1.5,1e-4)[0],secante(f3,1.0,1.5,1e-4)[0],ridders(f3,1.0,1.5,1e-4)[0]]\n",
        "rm2=[incremental(f3,1.0,1.5,1e-4)[1],biseccion(f3,1.0,1.5,1e-4)[1],newton(f3,df3,1.0,1.5,1e-4)[1],secante(f3,1.0,1.5,1e-4)[1],ridders(f3,1.0,1.5,1e-4)[1]]\n",
        "nm=['incremental','biseccion','newton','secante','ridders']\n",
        "\n",
        "lista_incremental=[]\n",
        "valor_real= 1.41239117202388\n",
        "for i in range(len(rm1)):\n",
        "  error=abs((valor_real-rm1[i])/valor_real)*100\n",
        "  lista_incremental.append([rm1[i],int(rm2[i]),error])\n",
        "cols = [\"Raiz\",\"Pasos\",\"error %\"]\n",
        "pd.DataFrame(lista_incremental, index=nm, columns=cols)"
      ],
      "execution_count": null,
      "outputs": [
        {
          "output_type": "execute_result",
          "data": {
            "text/html": [
              "<div>\n",
              "<style scoped>\n",
              "    .dataframe tbody tr th:only-of-type {\n",
              "        vertical-align: middle;\n",
              "    }\n",
              "\n",
              "    .dataframe tbody tr th {\n",
              "        vertical-align: top;\n",
              "    }\n",
              "\n",
              "    .dataframe thead th {\n",
              "        text-align: right;\n",
              "    }\n",
              "</style>\n",
              "<table border=\"1\" class=\"dataframe\">\n",
              "  <thead>\n",
              "    <tr style=\"text-align: right;\">\n",
              "      <th></th>\n",
              "      <th>Raiz</th>\n",
              "      <th>Pasos</th>\n",
              "      <th>error %</th>\n",
              "    </tr>\n",
              "  </thead>\n",
              "  <tbody>\n",
              "    <tr>\n",
              "      <th>incremental</th>\n",
              "      <td>1.41239999999995</td>\n",
              "      <td>4123</td>\n",
              "      <td>0.00062503761348</td>\n",
              "    </tr>\n",
              "    <tr>\n",
              "      <th>biseccion</th>\n",
              "      <td>1.41241455078125</td>\n",
              "      <td>13</td>\n",
              "      <td>0.00165526079694</td>\n",
              "    </tr>\n",
              "    <tr>\n",
              "      <th>newton</th>\n",
              "      <td>1.41239117202388</td>\n",
              "      <td>4</td>\n",
              "      <td>0.00000000000031</td>\n",
              "    </tr>\n",
              "    <tr>\n",
              "      <th>secante</th>\n",
              "      <td>1.43272617796192</td>\n",
              "      <td>2</td>\n",
              "      <td>1.43975736614798</td>\n",
              "    </tr>\n",
              "    <tr>\n",
              "      <th>ridders</th>\n",
              "      <td>1.41241454988552</td>\n",
              "      <td>13</td>\n",
              "      <td>0.00165519737736</td>\n",
              "    </tr>\n",
              "  </tbody>\n",
              "</table>\n",
              "</div>"
            ],
            "text/plain": [
              "                        Raiz  Pasos          error %\n",
              "incremental 1.41239999999995   4123 0.00062503761348\n",
              "biseccion   1.41241455078125     13 0.00165526079694\n",
              "newton      1.41239117202388      4 0.00000000000031\n",
              "secante     1.43272617796192      2 1.43975736614798\n",
              "ridders     1.41241454988552     13 0.00165519737736"
            ]
          },
          "metadata": {
            "tags": []
          },
          "execution_count": 50
        }
      ]
    },
    {
      "cell_type": "code",
      "metadata": {
        "colab": {
          "base_uri": "https://localhost:8080/",
          "height": 204
        },
        "id": "9m3UhB3CRvEB",
        "outputId": "0c967921-d706-4398-86a9-e08aee1e0222"
      },
      "source": [
        "#Para la raíz en [3,3.5]\n",
        "rm1=[incremental(f3,3.0,3.5,1e-4)[0],biseccion(f3,3.0,3.5,1e-4)[0],newton(f3,df3,3.0,3.5,1e-4)[0],secante(f3,3.0,3.5,1e-4)[0],ridders(f3,3.0,3.5,1e-4)[0]]\n",
        "rm2=[incremental(f3,3.0,3.5,1e-4)[1],biseccion(f3,3.0,3.5,1e-4)[1],newton(f3,df3,3.0,3.5,1e-4)[1],secante(f3,3.0,3.5,1e-4)[1],ridders(f3,3.0,3.5,1e-4)[1]]\n",
        "nm=['incremental','biseccion','newton','secante','ridders']\n",
        "\n",
        "lista_incremental=[]\n",
        "valor_real= 3.05710354999473\n",
        "for i in range(len(rm1)):\n",
        "  error=abs((valor_real-rm1[i])/valor_real)*100\n",
        "  lista_incremental.append([rm1[i],int(rm2[i]),error])\n",
        "cols = [\"Raiz\",\"Pasos\",\"error %\"]\n",
        "pd.DataFrame(lista_incremental, index=nm, columns=cols)"
      ],
      "execution_count": null,
      "outputs": [
        {
          "output_type": "execute_result",
          "data": {
            "text/html": [
              "<div>\n",
              "<style scoped>\n",
              "    .dataframe tbody tr th:only-of-type {\n",
              "        vertical-align: middle;\n",
              "    }\n",
              "\n",
              "    .dataframe tbody tr th {\n",
              "        vertical-align: top;\n",
              "    }\n",
              "\n",
              "    .dataframe thead th {\n",
              "        text-align: right;\n",
              "    }\n",
              "</style>\n",
              "<table border=\"1\" class=\"dataframe\">\n",
              "  <thead>\n",
              "    <tr style=\"text-align: right;\">\n",
              "      <th></th>\n",
              "      <th>Raiz</th>\n",
              "      <th>Pasos</th>\n",
              "      <th>error %</th>\n",
              "    </tr>\n",
              "  </thead>\n",
              "  <tbody>\n",
              "    <tr>\n",
              "      <th>incremental</th>\n",
              "      <td>3.05720000000012</td>\n",
              "      <td>571</td>\n",
              "      <td>0.00315494728306</td>\n",
              "    </tr>\n",
              "    <tr>\n",
              "      <th>biseccion</th>\n",
              "      <td>3.05706787109375</td>\n",
              "      <td>13</td>\n",
              "      <td>0.00116708186021</td>\n",
              "    </tr>\n",
              "    <tr>\n",
              "      <th>newton</th>\n",
              "      <td>3.05710354999474</td>\n",
              "      <td>4</td>\n",
              "      <td>0.00000000000028</td>\n",
              "    </tr>\n",
              "    <tr>\n",
              "      <th>secante</th>\n",
              "      <td>3.04499354375315</td>\n",
              "      <td>2</td>\n",
              "      <td>0.39612679268251</td>\n",
              "    </tr>\n",
              "    <tr>\n",
              "      <th>ridders</th>\n",
              "      <td>3.05706787239096</td>\n",
              "      <td>13</td>\n",
              "      <td>0.00116703942760</td>\n",
              "    </tr>\n",
              "  </tbody>\n",
              "</table>\n",
              "</div>"
            ],
            "text/plain": [
              "                        Raiz  Pasos          error %\n",
              "incremental 3.05720000000012    571 0.00315494728306\n",
              "biseccion   3.05706787109375     13 0.00116708186021\n",
              "newton      3.05710354999474      4 0.00000000000028\n",
              "secante     3.04499354375315      2 0.39612679268251\n",
              "ridders     3.05706787239096     13 0.00116703942760"
            ]
          },
          "metadata": {
            "tags": []
          },
          "execution_count": 51
        }
      ]
    },
    {
      "cell_type": "markdown",
      "metadata": {
        "id": "y2a9RnCrSPQN"
      },
      "source": [
        "En este caso el **mejor método** es **Newton** con un error de $3.1×10^{−13}$ y $2.8×10^{−13}$ en solo en cuatro pasos. Esto es porque esta función es derivable y continua justo en los intervalos de las raices, sin embargo no esta definida en valores negativos y el cero.\n",
        "\n",
        "El **peor método** sería **Incremental** ya que necesita 571 pasos para un error de $3.15×10^{−3}$ en el mejor caso, lo cual es bastante costoso en términos de tiempo de computo."
      ]
    },
    {
      "cell_type": "markdown",
      "metadata": {
        "id": "XISfnS5wT7xx"
      },
      "source": [
        "iv) $f(x)=x^{3}-3x+2$"
      ]
    },
    {
      "cell_type": "code",
      "metadata": {
        "colab": {
          "base_uri": "https://localhost:8080/",
          "height": 374
        },
        "id": "7iuBfzZbUGgK",
        "outputId": "1de72e18-037d-4752-e627-0434e4f61b76"
      },
      "source": [
        "x = np.linspace(-3.0,3.0); f = lambda x: x**3-3*x+2\n",
        "y = f(x)\n",
        "plt.figure(figsize=(10,6)); plt.grid()\n",
        "plt.plot(x,y, label=\"$f(x)=x^{3}-3x+2$\"); plt.plot(x,y*0, \"r--\", label=\"$g(x)=0$\")\n",
        "plt.legend()\n",
        "plt.show()"
      ],
      "execution_count": null,
      "outputs": [
        {
          "output_type": "display_data",
          "data": {
            "image/png": "[encoded data removed]",
            "text/plain": [
              "<Figure size 720x432 with 1 Axes>"
            ]
          },
          "metadata": {
            "tags": [],
            "needs_background": "light"
          }
        }
      ]
    },
    {
      "cell_type": "markdown",
      "metadata": {
        "id": "KnQaSdTz_XY_"
      },
      "source": [
        "$f(x)=x^{3}-3x+2$ analíticamente, tiene solamente dos raíces: $x_1=-2$ y $x_2=1$. \n"
      ]
    },
    {
      "cell_type": "code",
      "metadata": {
        "id": "VRta-Sr5BcuB"
      },
      "source": [
        "f4 = lambda x: x**3-3*x+2\n",
        "df4= lambda x: 3*x**2-3"
      ],
      "execution_count": null,
      "outputs": []
    },
    {
      "cell_type": "code",
      "metadata": {
        "colab": {
          "base_uri": "https://localhost:8080/",
          "height": 204
        },
        "id": "sbcJbM9AB15N",
        "outputId": "247e2a63-6851-45c4-dc0b-7645cf724080"
      },
      "source": [
        "#Para la raíz en [-2.2,-1.9]\n",
        "rm1=[incremental(f4,-2.2,-1.9,1e-4)[0],biseccion(f4,-2.2,-1.9,1e-4)[0],newton(f4,df4,-2.2,-1.9,1e-4)[0],secante(f4,-2.2,-1.9,1e-4)[0],ridders(f4,-2.2,-1.9,1e-4)[0]]\n",
        "rm2=[incremental(f4,-2.2,-1.9,1e-4)[1],biseccion(f4,-2.2,-1.9,1e-4)[1],newton(f4,df4,-2.2,-1.9,1e-4)[1],secante(f4,-2.2,-1.9,1e-4)[1],ridders(f4,-2.2,-1.9,1e-4)[1]]\n",
        "nm=['incremental','biseccion','newton','secante','ridders']\n",
        "\n",
        "lista_incremental=[]\n",
        "valor_real= -2 \n",
        "for i in range(len(rm1)):\n",
        "  error=abs((valor_real-rm1[i])/valor_real)*100\n",
        "  lista_incremental.append([rm1[i],int(rm2[i]),error])\n",
        "cols = [\"Raiz\",\"Pasos\",\"error %\"]\n",
        "pd.DataFrame(lista_incremental, index=nm, columns=cols)"
      ],
      "execution_count": null,
      "outputs": [
        {
          "output_type": "execute_result",
          "data": {
            "text/html": [
              "<div>\n",
              "<style scoped>\n",
              "    .dataframe tbody tr th:only-of-type {\n",
              "        vertical-align: middle;\n",
              "    }\n",
              "\n",
              "    .dataframe tbody tr th {\n",
              "        vertical-align: top;\n",
              "    }\n",
              "\n",
              "    .dataframe thead th {\n",
              "        text-align: right;\n",
              "    }\n",
              "</style>\n",
              "<table border=\"1\" class=\"dataframe\">\n",
              "  <thead>\n",
              "    <tr style=\"text-align: right;\">\n",
              "      <th></th>\n",
              "      <th>Raiz</th>\n",
              "      <th>Pasos</th>\n",
              "      <th>error %</th>\n",
              "    </tr>\n",
              "  </thead>\n",
              "  <tbody>\n",
              "    <tr>\n",
              "      <th>incremental</th>\n",
              "      <td>-1.99999999999958</td>\n",
              "      <td>1999</td>\n",
              "      <td>0.00000000002108</td>\n",
              "    </tr>\n",
              "    <tr>\n",
              "      <th>biseccion</th>\n",
              "      <td>-1.99997558593750</td>\n",
              "      <td>12</td>\n",
              "      <td>0.00122070312500</td>\n",
              "    </tr>\n",
              "    <tr>\n",
              "      <th>newton</th>\n",
              "      <td>-2.00000000000187</td>\n",
              "      <td>3</td>\n",
              "      <td>0.00000000009375</td>\n",
              "    </tr>\n",
              "    <tr>\n",
              "      <th>secante</th>\n",
              "      <td>-1.98733125649013</td>\n",
              "      <td>2</td>\n",
              "      <td>0.63343717549326</td>\n",
              "    </tr>\n",
              "    <tr>\n",
              "      <th>ridders</th>\n",
              "      <td>-1.99997559130183</td>\n",
              "      <td>12</td>\n",
              "      <td>0.00122043490848</td>\n",
              "    </tr>\n",
              "  </tbody>\n",
              "</table>\n",
              "</div>"
            ],
            "text/plain": [
              "                         Raiz  Pasos          error %\n",
              "incremental -1.99999999999958   1999 0.00000000002108\n",
              "biseccion   -1.99997558593750     12 0.00122070312500\n",
              "newton      -2.00000000000187      3 0.00000000009375\n",
              "secante     -1.98733125649013      2 0.63343717549326\n",
              "ridders     -1.99997559130183     12 0.00122043490848"
            ]
          },
          "metadata": {
            "tags": []
          },
          "execution_count": 54
        }
      ]
    },
    {
      "cell_type": "markdown",
      "metadata": {
        "id": "Vey7l5BX59TI"
      },
      "source": [
        "Realizaremos el análisis comparativo en terminos de dos cosas, numero de pasos y error.\n",
        "\n",
        "En términos de **numero de pasos** el mejor método fue el de la **secante** pues en solamente dos iteraciones, nos presenta un resultado con un error relativamente bajo y el peor método fue el metodo **incremental**, pues aunque presenta un error muy, pero muy pequeño, llega a este en 1999 pasos, haciéndolo muy caro en términos computacionales.\n",
        "\n",
        "En términos de **error** notamos que el mejor método fue el **incremental** pues presenta el error más pequeño de todos y el peor método fue el método de la **secante** pues presenta un el error más grande de todos, aunque solo convergió a dicho resultado en solamente dos pasos.\n",
        "\n",
        "Concluyo que para la raíz $x_1=-2$ de la función $f(x)=x^{3}-3x+2$, el mejor método fue el de **Newton** por su relativo bajo costo computacional(solo realiza 3 iteraciones) y error decente."
      ]
    },
    {
      "cell_type": "code",
      "metadata": {
        "colab": {
          "base_uri": "https://localhost:8080/",
          "height": 204
        },
        "id": "pKgdHabmB7Y_",
        "outputId": "5e222c5d-9785-402d-9fff-dc6b5f4fd2ee"
      },
      "source": [
        "#Para la raíz en [0.8,1.1]\n",
        "rm1=[incremental(f4,0.8,1.1,1e-4)[0],biseccion(f4,0.8,1.1,1e-4)[0],newton(f4,df4,0.8,1.1,1e-4)[0],secante(f4,0.8,1.1,1e-4)[0],ridders(f4,0.8,1.1,1e-4)[0]]\n",
        "rm2=[incremental(f4,0.8,1.1,1e-4)[1],biseccion(f4,0.8,1.1,1e-4)[1],newton(f4,df4,0.8,1.1,1e-4)[1],secante(f4,0.8,1.1,1e-4)[1],ridders(f4,0.8,1.1,1e-4)[1]]\n",
        "nm=['incremental','biseccion','newton','secante','ridders']\n",
        "\n",
        "lista_incremental=[]\n",
        "valor_real= 1\n",
        "for i in range(len(rm1)):\n",
        "  error=abs((valor_real-rm1[i])/valor_real)*100\n",
        "  lista_incremental.append([rm1[i],int(rm2[i]),error])\n",
        "cols = [\"Raiz\",\"Pasos\",\"error %\"]\n",
        "pd.DataFrame(lista_incremental, index=nm, columns=cols)"
      ],
      "execution_count": null,
      "outputs": [
        {
          "output_type": "execute_result",
          "data": {
            "text/html": [
              "<div>\n",
              "<style scoped>\n",
              "    .dataframe tbody tr th:only-of-type {\n",
              "        vertical-align: middle;\n",
              "    }\n",
              "\n",
              "    .dataframe tbody tr th {\n",
              "        vertical-align: top;\n",
              "    }\n",
              "\n",
              "    .dataframe thead th {\n",
              "        text-align: right;\n",
              "    }\n",
              "</style>\n",
              "<table border=\"1\" class=\"dataframe\">\n",
              "  <thead>\n",
              "    <tr style=\"text-align: right;\">\n",
              "      <th></th>\n",
              "      <th>Raiz</th>\n",
              "      <th>Pasos</th>\n",
              "      <th>error %</th>\n",
              "    </tr>\n",
              "  </thead>\n",
              "  <tbody>\n",
              "    <tr>\n",
              "      <th>incremental</th>\n",
              "      <td>0.99999999999998</td>\n",
              "      <td>1999</td>\n",
              "      <td>0.00000000000220</td>\n",
              "    </tr>\n",
              "    <tr>\n",
              "      <th>biseccion</th>\n",
              "      <td>1.09992675781250</td>\n",
              "      <td>12</td>\n",
              "      <td>9.99267578125000</td>\n",
              "    </tr>\n",
              "    <tr>\n",
              "      <th>newton</th>\n",
              "      <td>0.99990397752286</td>\n",
              "      <td>9</td>\n",
              "      <td>0.00960224771388</td>\n",
              "    </tr>\n",
              "    <tr>\n",
              "      <th>secante</th>\n",
              "      <td>1.01197215929553</td>\n",
              "      <td>7</td>\n",
              "      <td>1.19721592955335</td>\n",
              "    </tr>\n",
              "    <tr>\n",
              "      <th>ridders</th>\n",
              "      <td>1.09992600206243</td>\n",
              "      <td>12</td>\n",
              "      <td>9.99260020624284</td>\n",
              "    </tr>\n",
              "  </tbody>\n",
              "</table>\n",
              "</div>"
            ],
            "text/plain": [
              "                        Raiz  Pasos          error %\n",
              "incremental 0.99999999999998   1999 0.00000000000220\n",
              "biseccion   1.09992675781250     12 9.99267578125000\n",
              "newton      0.99990397752286      9 0.00960224771388\n",
              "secante     1.01197215929553      7 1.19721592955335\n",
              "ridders     1.09992600206243     12 9.99260020624284"
            ]
          },
          "metadata": {
            "tags": []
          },
          "execution_count": 55
        }
      ]
    },
    {
      "cell_type": "markdown",
      "metadata": {
        "id": "fVUC5fBa5mPX"
      },
      "source": [
        "Realizaremos el análisis comparativo en terminos de dos cosas, numero de pasos y error.\n",
        "\n",
        "En términos de **numero de pasos** el mejor método fue el de la **secante** pues en siete iteraciones, nos presenta un resultado con un error relativamente bajo y el peor método fue el metodo **incremental**, pues aunque presenta un error muy, pero muy pequeño, llega a este en 1999 pasos, haciéndolo muy caro en términos computacionales.\n",
        "\n",
        "En términos de **error** notamos que el mejor método fue el **incremental** pues presenta el error más pequeño de todos y el peor método fue el método de la **Bisección** pues presenta el error más grande de todos.\n",
        "\n",
        "Concluyo que para la raíz $x_2=1$ de la función $f(x)=x^{3}-3x+2$, el mejor método fue el de **Newton** por su relativo bajo costo computacional(solo realiza 9 iteraciones) y presenta un error pequeño."
      ]
    },
    {
      "cell_type": "markdown",
      "metadata": {
        "id": "WiLlbAMRiKTI"
      },
      "source": [
        "v) $f(x)=x^{1/3}$"
      ]
    },
    {
      "cell_type": "code",
      "metadata": {
        "colab": {
          "base_uri": "https://localhost:8080/",
          "height": 374
        },
        "id": "DiUiDHSYksxq",
        "outputId": "534da032-2e58-442f-d7e3-f9f71be151bd"
      },
      "source": [
        "# Gráficamos para ver el comportamiento de la función\n",
        "x = np.linspace(-0,3,1000); f = lambda x: (x)**(1/3)\n",
        "y = f(x)\n",
        "plt.figure(figsize=(10,6)); plt.grid()\n",
        "plt.plot(x,y, label=\"$f(x)=x^{1/3}$\"); plt.plot(x,y*0, \"r--\", label=\"$g(x)=0$\")\n",
        "plt.legend()\n",
        "plt.show()"
      ],
      "execution_count": null,
      "outputs": [
        {
          "output_type": "display_data",
          "data": {
            "image/png": "[encoded data removed]",
            "text/plain": [
              "<Figure size 720x432 with 1 Axes>"
            ]
          },
          "metadata": {
            "tags": [],
            "needs_background": "light"
          }
        }
      ]
    },
    {
      "cell_type": "markdown",
      "metadata": {
        "id": "Z1zISpOUUdg7"
      },
      "source": [
        "$f(x)=x^{1/3}$ tiene una raíz analitica en $0$"
      ]
    },
    {
      "cell_type": "code",
      "metadata": {
        "colab": {
          "base_uri": "https://localhost:8080/",
          "height": 173
        },
        "id": "GhiApXpuULOG",
        "outputId": "6db160fe-73a1-4b0b-e349-7232b29bedfe"
      },
      "source": [
        "f5 = lambda x: (x)**(1/3)\n",
        "df5= lambda x: (1/3)*(x**(-2/3))\n",
        "\n",
        "#Para la raíz en [0,0.5]\n",
        "rm1=[incremental(f5,0.0,0.5,1e-4)[0],biseccion(f5,0.0,0.5,1e-4)[0],newton(f5,df5,0.0,0.5,1e-4)[0],secante(f5,0.0,0.5,1e-4)[0]]\n",
        "rm2=[incremental(f5,0.0,0.5,1e-4)[1],biseccion(f5,0.0,0.5,1e-4)[1],newton(f5,df5,0.0,0.5,1e-4)[1],secante(f5,0.0,0.5,1e-4)[1]]\n",
        "# rm3=[incremental(f4,0.8,1.1,1e-4)[1],biseccion(f4,0.8,1.1,1e-4)[1],newton(f4,df4,0.8,1.1,1e-4)[1],secante(f4,0.8,1.1,1e-4)[1],ridders(f4,0.8,1.1,1e-4)[1]]\n",
        "\n",
        "nm=['incremental','biseccion','newton','secante','ridders']\n",
        "\n",
        "lista_incremental=[]\n",
        "valor_real= 0\n",
        "for i in range(len(rm1)):\n",
        "  error=abs(valor_real-rm1[i])\n",
        "  lista_incremental.append([rm1[i],int(rm2[i]),error])\n",
        "cols = [\"Raiz\",\"Pasos\",\"error %\"]\n",
        "pd.DataFrame(lista_incremental, index=nm[:-1], columns=cols)"
      ],
      "execution_count": null,
      "outputs": [
        {
          "output_type": "execute_result",
          "data": {
            "text/html": [
              "<div>\n",
              "<style scoped>\n",
              "    .dataframe tbody tr th:only-of-type {\n",
              "        vertical-align: middle;\n",
              "    }\n",
              "\n",
              "    .dataframe tbody tr th {\n",
              "        vertical-align: top;\n",
              "    }\n",
              "\n",
              "    .dataframe thead th {\n",
              "        text-align: right;\n",
              "    }\n",
              "</style>\n",
              "<table border=\"1\" class=\"dataframe\">\n",
              "  <thead>\n",
              "    <tr style=\"text-align: right;\">\n",
              "      <th></th>\n",
              "      <th>Raiz</th>\n",
              "      <th>Pasos</th>\n",
              "      <th>error %</th>\n",
              "    </tr>\n",
              "  </thead>\n",
              "  <tbody>\n",
              "    <tr>\n",
              "      <th>incremental</th>\n",
              "      <td>0.00010000000000+0.00000000000000j</td>\n",
              "      <td>0</td>\n",
              "      <td>0.00010000000000</td>\n",
              "    </tr>\n",
              "    <tr>\n",
              "      <th>biseccion</th>\n",
              "      <td>0.49993896484375+0.00000000000000j</td>\n",
              "      <td>13</td>\n",
              "      <td>0.49993896484375</td>\n",
              "    </tr>\n",
              "    <tr>\n",
              "      <th>newton</th>\n",
              "      <td>26787715178890905004250371415952550230987877101...</td>\n",
              "      <td>1000</td>\n",
              "      <td>26787715178890905004250371415952550230987877101...</td>\n",
              "    </tr>\n",
              "    <tr>\n",
              "      <th>secante</th>\n",
              "      <td>0.00000000000000+0.00000000000000j</td>\n",
              "      <td>0</td>\n",
              "      <td>0.00000000000000</td>\n",
              "    </tr>\n",
              "  </tbody>\n",
              "</table>\n",
              "</div>"
            ],
            "text/plain": [
              "                                                          Raiz  ...                                            error %\n",
              "incremental                 0.00010000000000+0.00000000000000j  ...                                   0.00010000000000\n",
              "biseccion                   0.49993896484375+0.00000000000000j  ...                                   0.49993896484375\n",
              "newton      26787715178890905004250371415952550230987877101...  ... 26787715178890905004250371415952550230987877101...\n",
              "secante                     0.00000000000000+0.00000000000000j  ...                                   0.00000000000000\n",
              "\n",
              "[4 rows x 3 columns]"
            ]
          },
          "metadata": {
            "tags": []
          },
          "execution_count": 57
        }
      ]
    },
    {
      "cell_type": "markdown",
      "metadata": {
        "id": "yCqn99qzZls-"
      },
      "source": [
        "Puesto que esta función no es continua en valores negativos ni derivable en negativos más el cero, podemos decir que los peores métodos son Newton, secante y Readers porque no se pueden usar en este caso.\n",
        "\n",
        "Dado que este solo lo podemos aproximar por fuerza bruta, el mejor método es el Incremental."
      ]
    },
    {
      "cell_type": "markdown",
      "metadata": {
        "id": "50evtpbJi8us"
      },
      "source": [
        "vii) $f(x)=x-\\cos x=0$ en $(0,\\frac{\\pi}{2})$"
      ]
    },
    {
      "cell_type": "code",
      "metadata": {
        "colab": {
          "base_uri": "https://localhost:8080/",
          "height": 374
        },
        "id": "vKR2ytXXlceV",
        "outputId": "d92e8a78-93d3-4427-a280-8168caed4958"
      },
      "source": [
        "# Gráficamos para ver el comportamiento de la función\n",
        "x = np.linspace(0,np.pi/2); f = lambda x: x - np.cos(x)\n",
        "y = f(x)\n",
        "plt.figure(figsize=(10,6)); plt.grid()\n",
        "plt.plot(x,y, label=\"$f(x)=x-cos(x)$\"); plt.plot(x,y*0, \"r--\", label=\"$g(x)=0$\")\n",
        "plt.legend()\n",
        "plt.show()"
      ],
      "execution_count": null,
      "outputs": [
        {
          "output_type": "display_data",
          "data": {
            "image/png": "[encoded data removed]",
            "text/plain": [
              "<Figure size 720x432 with 1 Axes>"
            ]
          },
          "metadata": {
            "tags": [],
            "needs_background": "light"
          }
        }
      ]
    },
    {
      "cell_type": "markdown",
      "metadata": {
        "id": "7jWJ_ihxag2Q"
      },
      "source": [
        "Por inspección en la gráfica podemos ver que hay una raíz en el intervalo $[0,1]$, en Mathematica se calculó en valor de la raíz que es la siguiente.\n",
        "\n",
        "$$x=0.73908513321516$$"
      ]
    },
    {
      "cell_type": "code",
      "metadata": {
        "colab": {
          "base_uri": "https://localhost:8080/",
          "height": 204
        },
        "id": "LDfIxDwGbT17",
        "outputId": "3162aab7-cf34-489f-88de-6e91502f9d33"
      },
      "source": [
        "f7 = lambda x: x - np.cos(x)\n",
        "df7= lambda x: 1 + np.sin(x)\n",
        "\n",
        "#Para la raíz en [0,1]\n",
        "rm1=[incremental(f7,0.0,1.0,1e-4)[0],biseccion(f7,0.0,1.0,1e-4)[0],newton(f7,df7,0.0,1.0,1e-4)[1],secante(f7,0.0,1.0,1e-4)[0],ridders(f7,0.0,1.0,1e-4)[0]]\n",
        "rm2=[incremental(f7,0.0,1.0,1e-4)[1],biseccion(f7,0.0,1.0,1e-4)[1],newton(f7,df7,0.0,1.0,1e-4)[1],secante(f7,0.0,1.0,1e-4)[1],ridders(f7,0.0,1.0,1e-4)[1]]\n",
        "\n",
        "nm=['incremental','biseccion','newton','secante','ridders']\n",
        "\n",
        "lista_incremental=[]\n",
        "valor_real= 0.73908513321516\n",
        "for i in range(len(rm1)):\n",
        "  error=abs((valor_real-rm1[i])/valor_real)*100\n",
        "  lista_incremental.append([rm1[i],int(rm2[i]),error])\n",
        "cols = [\"Raiz\",\"Pasos\",\"error %\"]\n",
        "pd.DataFrame(lista_incremental, index=nm, columns=cols)"
      ],
      "execution_count": null,
      "outputs": [
        {
          "output_type": "execute_result",
          "data": {
            "text/html": [
              "<div>\n",
              "<style scoped>\n",
              "    .dataframe tbody tr th:only-of-type {\n",
              "        vertical-align: middle;\n",
              "    }\n",
              "\n",
              "    .dataframe tbody tr th {\n",
              "        vertical-align: top;\n",
              "    }\n",
              "\n",
              "    .dataframe thead th {\n",
              "        text-align: right;\n",
              "    }\n",
              "</style>\n",
              "<table border=\"1\" class=\"dataframe\">\n",
              "  <thead>\n",
              "    <tr style=\"text-align: right;\">\n",
              "      <th></th>\n",
              "      <th>Raiz</th>\n",
              "      <th>Pasos</th>\n",
              "      <th>error %</th>\n",
              "    </tr>\n",
              "  </thead>\n",
              "  <tbody>\n",
              "    <tr>\n",
              "      <th>incremental</th>\n",
              "      <td>0.73909999999993</td>\n",
              "      <td>7390</td>\n",
              "      <td>0.00201151181465</td>\n",
              "    </tr>\n",
              "    <tr>\n",
              "      <th>biseccion</th>\n",
              "      <td>0.73907470703125</td>\n",
              "      <td>14</td>\n",
              "      <td>0.00141068781409</td>\n",
              "    </tr>\n",
              "    <tr>\n",
              "      <th>newton</th>\n",
              "      <td>3.00000000000000</td>\n",
              "      <td>3</td>\n",
              "      <td>305.90723113985973</td>\n",
              "    </tr>\n",
              "    <tr>\n",
              "      <th>secante</th>\n",
              "      <td>0.68507335732605</td>\n",
              "      <td>2</td>\n",
              "      <td>7.30792346669909</td>\n",
              "    </tr>\n",
              "    <tr>\n",
              "      <th>ridders</th>\n",
              "      <td>0.73907470738626</td>\n",
              "      <td>14</td>\n",
              "      <td>0.00141063978066</td>\n",
              "    </tr>\n",
              "  </tbody>\n",
              "</table>\n",
              "</div>"
            ],
            "text/plain": [
              "                        Raiz  Pasos            error %\n",
              "incremental 0.73909999999993   7390   0.00201151181465\n",
              "biseccion   0.73907470703125     14   0.00141068781409\n",
              "newton      3.00000000000000      3 305.90723113985973\n",
              "secante     0.68507335732605      2   7.30792346669909\n",
              "ridders     0.73907470738626     14   0.00141063978066"
            ]
          },
          "metadata": {
            "tags": []
          },
          "execution_count": 59
        }
      ]
    },
    {
      "cell_type": "markdown",
      "metadata": {
        "id": "dbX_kiRJbUY7"
      },
      "source": [
        "En este caso, el peor método es el de Newton ya que estamos trabajando con funciones periodicas.\n",
        "\n",
        "Y el mejor método sería el de Ridders o de bisección."
      ]
    },
    {
      "cell_type": "markdown",
      "metadata": {
        "id": "eT4R3HNOUtl_"
      },
      "source": [
        "viii) $f(x)=\\cos(x)-x^{3}$ con un valor inicial en $x_0=0.5$"
      ]
    },
    {
      "cell_type": "code",
      "metadata": {
        "colab": {
          "base_uri": "https://localhost:8080/",
          "height": 378
        },
        "id": "cpfrYuBVU7YM",
        "outputId": "42a6e335-2471-4a49-abdd-aef917abd9c9"
      },
      "source": [
        "x = np.linspace(-3.0,3.0); f = lambda x: np.cos(x)-x**3\n",
        "y = f(x)\n",
        "plt.figure(figsize=(10,6)); plt.grid()\n",
        "plt.plot(x,y, label=\"$f(x)=cos(x)-x^{3}$\"); plt.plot(x,y*0+0.5, \"r--\", label=\"$g(x)=0.5$\")\n",
        "plt.legend(); plt.ylim(-15,15); plt.xlim(-2.5,2.5)\n",
        "plt.show()"
      ],
      "execution_count": null,
      "outputs": [
        {
          "output_type": "display_data",
          "data": {
            "image/png": "[encoded data removed]",
            "text/plain": [
              "<Figure size 720x432 with 1 Axes>"
            ]
          },
          "metadata": {
            "tags": [],
            "needs_background": "light"
          }
        }
      ]
    },
    {
      "cell_type": "markdown",
      "metadata": {
        "id": "wqaWeFEMVXd2"
      },
      "source": [
        "Para el valor inicial $x_0=0.5$, tenemos la ecuación: $\\cos(x)-x^3=0.0$ la ecuación tiene solución en $x=0.86547403310161444662$ y no tamos que está en el intervalo [0.5,0.9]."
      ]
    },
    {
      "cell_type": "code",
      "metadata": {
        "id": "bbnTGZoLV6Fl"
      },
      "source": [
        "f8 = lambda x: np.cos(x)-x**3\n",
        "df8= lambda x: -np.sin(x)-3*x**2"
      ],
      "execution_count": null,
      "outputs": []
    },
    {
      "cell_type": "code",
      "metadata": {
        "colab": {
          "base_uri": "https://localhost:8080/",
          "height": 204
        },
        "id": "3upuD5K4VWko",
        "outputId": "e2331224-1a07-47bf-e3fc-3c79de48ebd8"
      },
      "source": [
        "#Para la raíz en [0.7,0.9]\n",
        "rm1=[incremental(f8,0.7,0.9,1e-4)[0],biseccion(f8,0.7,0.9,1e-4)[0],newton(f8,df8,0.7,0.9,1e-4)[0],secante(f8,0.7,0.9,1e-4)[0],ridders(f8,0.7,0.9,1e-4)[0]]\n",
        "rm2=[incremental(f8,0.7,0.9,1e-4)[1],biseccion(f8,0.7,0.9,1e-4)[1],newton(f8,df8,0.7,0.9,1e-4)[1],secante(f8,0.7,0.9,1e-4)[1],ridders(f8,0.7,0.9,1e-4)[1]]\n",
        "nm=['incremental','biseccion','newton','secante','ridders']\n",
        "\n",
        "lista_incremental=[]\n",
        "valor_real= 0.86547403310161444662\n",
        "for i in range(len(rm1)):\n",
        "  error=abs((valor_real-rm1[i])/valor_real)*100\n",
        "  lista_incremental.append([rm1[i],int(rm2[i]),error])\n",
        "cols = [\"Raiz\",\"Pasos\",\"error %\"]\n",
        "pd.DataFrame(lista_incremental, index=nm, columns=cols)"
      ],
      "execution_count": null,
      "outputs": [
        {
          "output_type": "execute_result",
          "data": {
            "text/html": [
              "<div>\n",
              "<style scoped>\n",
              "    .dataframe tbody tr th:only-of-type {\n",
              "        vertical-align: middle;\n",
              "    }\n",
              "\n",
              "    .dataframe tbody tr th {\n",
              "        vertical-align: top;\n",
              "    }\n",
              "\n",
              "    .dataframe thead th {\n",
              "        text-align: right;\n",
              "    }\n",
              "</style>\n",
              "<table border=\"1\" class=\"dataframe\">\n",
              "  <thead>\n",
              "    <tr style=\"text-align: right;\">\n",
              "      <th></th>\n",
              "      <th>Raiz</th>\n",
              "      <th>Pasos</th>\n",
              "      <th>error %</th>\n",
              "    </tr>\n",
              "  </thead>\n",
              "  <tbody>\n",
              "    <tr>\n",
              "      <th>incremental</th>\n",
              "      <td>0.86549999999998</td>\n",
              "      <td>1654</td>\n",
              "      <td>0.00300030935351</td>\n",
              "    </tr>\n",
              "    <tr>\n",
              "      <th>biseccion</th>\n",
              "      <td>0.86552734375000</td>\n",
              "      <td>11</td>\n",
              "      <td>0.00615970512652</td>\n",
              "    </tr>\n",
              "    <tr>\n",
              "      <th>newton</th>\n",
              "      <td>0.86547403349260</td>\n",
              "      <td>3</td>\n",
              "      <td>0.00000004517629</td>\n",
              "    </tr>\n",
              "    <tr>\n",
              "      <th>secante</th>\n",
              "      <td>0.85941666895132</td>\n",
              "      <td>2</td>\n",
              "      <td>0.69988976198276</td>\n",
              "    </tr>\n",
              "    <tr>\n",
              "      <th>ridders</th>\n",
              "      <td>0.86552733852879</td>\n",
              "      <td>11</td>\n",
              "      <td>0.00615910184952</td>\n",
              "    </tr>\n",
              "  </tbody>\n",
              "</table>\n",
              "</div>"
            ],
            "text/plain": [
              "                        Raiz  Pasos          error %\n",
              "incremental 0.86549999999998   1654 0.00300030935351\n",
              "biseccion   0.86552734375000     11 0.00615970512652\n",
              "newton      0.86547403349260      3 0.00000004517629\n",
              "secante     0.85941666895132      2 0.69988976198276\n",
              "ridders     0.86552733852879     11 0.00615910184952"
            ]
          },
          "metadata": {
            "tags": []
          },
          "execution_count": 11
        }
      ]
    },
    {
      "cell_type": "markdown",
      "metadata": {
        "id": "mw94o6uN74S1"
      },
      "source": [
        "Realizaremos el análisis comparativo en terminos de dos cosas, numero de pasos y error.\n",
        "\n",
        "En términos de **numero de pasos** el mejor método fue el de la **secante** pues en dos iteraciones,converge a un resultado y el peor método fue el metodo **incremental**, pues aunque presenta un error pequeño, llega a este en 1654 pasos, haciéndolo muy caro en términos computacionales.\n",
        "\n",
        "En términos de **error** notamos que el mejor método fue el de **Newton-Rapson** pues presenta el error más pequeño de todos y el peor método fue el método de la **secante** pues presenta el error más grande de todos.\n",
        "\n",
        "Concluyo que para la raíz $x=0.86547403310161444662$ de la función $f(x)=\\cos(x)-x^{3}$, el mejor método fue el de **Newton** por su relativo bajo costo computacional(solo realiza 3 iteraciones) y presenta un error pequeño."
      ]
    },
    {
      "cell_type": "markdown",
      "metadata": {
        "id": "Iu5ORCoXjMOT"
      },
      "source": [
        "ix) $f(x)=\\tan(\\pi x)-6=0$ en $(0,1)$"
      ]
    },
    {
      "cell_type": "code",
      "metadata": {
        "colab": {
          "base_uri": "https://localhost:8080/",
          "height": 378
        },
        "id": "RBdhQ7Nfekbb",
        "outputId": "1088d185-c2de-4ad8-9b44-285810ef23bb"
      },
      "source": [
        "# Gráficamos para ver el comportamiento de la función\n",
        "x = np.linspace(0,1,1000); f = lambda x: np.tan(np.pi*x) -6\n",
        "y = f(x)\n",
        "plt.figure(figsize=(10,6)); plt.grid()\n",
        "plt.plot(x,y, label=\"$f(x)=tan(\\pi x) - 6$\"); plt.plot(x,y*0, \"r--\", label=\"$g(x)=0$\")\n",
        "plt.legend(); plt.ylim((-100, 100)); plt.xlim((0.3, 0.7))\n",
        "plt.show()"
      ],
      "execution_count": null,
      "outputs": [
        {
          "output_type": "display_data",
          "data": {
            "image/png": "[encoded data removed]",
            "text/plain": [
              "<Figure size 720x432 with 1 Axes>"
            ]
          },
          "metadata": {
            "tags": [],
            "needs_background": "light"
          }
        }
      ]
    },
    {
      "cell_type": "markdown",
      "metadata": {
        "id": "lAuf7gOAgiH-"
      },
      "source": [
        "De manera visual, se puede aproximar la raíz dentro del intervalo $[0.4,0.6]$. Según Mathematica, el valor númerico de la raiz es\n",
        "\n",
        "$$x=0.447431542821239$$\n",
        "\n",
        "Para evitar la parte donde no es continua la función evaluamos en el intervalo $[0.4,0.49]$."
      ]
    },
    {
      "cell_type": "code",
      "metadata": {
        "colab": {
          "base_uri": "https://localhost:8080/",
          "height": 204
        },
        "id": "fTU9BzNeg1-m",
        "outputId": "76c533fe-2632-4fbb-a06f-17f2d2f9515e"
      },
      "source": [
        "f9 = lambda x: np.tan(np.pi*x)-6\n",
        "df9= lambda x: np.pi/(np.cos(np.pi*x)**2)\n",
        "\n",
        "#Para la raíz en [0.4,0.5]\n",
        "rm1=[incremental(f9,0.4,0.49,1e-6)[0],biseccion(f9,0.4,0.49,1e-6)[0],newton(f9,df9,0.4,0.49,1e-6)[0],secante(f9,0.4,0.49,1e-6)[0],ridders(f9,0.4,0.49,1e-6)[0]]\n",
        "rm2=[incremental(f9,0.4,0.49,1e-6)[1],biseccion(f9,0.4,0.49,1e-6)[1],newton(f9,df9,0.4,0.49,1e-6)[1],secante(f9,0.4,0.49,1e-6)[1],ridders(f9,0.4,0.49,1e-6)[1]]\n",
        "nm=['incremental','biseccion','newton','secante','ridders']\n",
        "\n",
        "lista_incremental=[]\n",
        "valor_real= 0.447431542821239\n",
        "for i in range(len(rm1)):\n",
        "  error=abs((valor_real-rm1[i])/valor_real)*100\n",
        "  lista_incremental.append([rm1[i],int(rm2[i]),error])\n",
        "cols = [\"Raiz\",\"Pasos\",\"error %\"]\n",
        "pd.DataFrame(lista_incremental, index=nm, columns=cols)"
      ],
      "execution_count": null,
      "outputs": [
        {
          "output_type": "execute_result",
          "data": {
            "text/html": [
              "<div>\n",
              "<style scoped>\n",
              "    .dataframe tbody tr th:only-of-type {\n",
              "        vertical-align: middle;\n",
              "    }\n",
              "\n",
              "    .dataframe tbody tr th {\n",
              "        vertical-align: top;\n",
              "    }\n",
              "\n",
              "    .dataframe thead th {\n",
              "        text-align: right;\n",
              "    }\n",
              "</style>\n",
              "<table border=\"1\" class=\"dataframe\">\n",
              "  <thead>\n",
              "    <tr style=\"text-align: right;\">\n",
              "      <th></th>\n",
              "      <th>Raiz</th>\n",
              "      <th>Pasos</th>\n",
              "      <th>error %</th>\n",
              "    </tr>\n",
              "  </thead>\n",
              "  <tbody>\n",
              "    <tr>\n",
              "      <th>incremental</th>\n",
              "      <td>0.44743199999873</td>\n",
              "      <td>47431</td>\n",
              "      <td>0.00010217819895</td>\n",
              "    </tr>\n",
              "    <tr>\n",
              "      <th>biseccion</th>\n",
              "      <td>0.44743141174316</td>\n",
              "      <td>17</td>\n",
              "      <td>0.00002929567149</td>\n",
              "    </tr>\n",
              "    <tr>\n",
              "      <th>newton</th>\n",
              "      <td>0.44743154328978</td>\n",
              "      <td>3</td>\n",
              "      <td>0.00000010471708</td>\n",
              "    </tr>\n",
              "    <tr>\n",
              "      <th>secante</th>\n",
              "      <td>0.44730412112167</td>\n",
              "      <td>8</td>\n",
              "      <td>0.02847847935850</td>\n",
              "    </tr>\n",
              "    <tr>\n",
              "      <th>ridders</th>\n",
              "      <td>0.44743115830024</td>\n",
              "      <td>17</td>\n",
              "      <td>0.00008593962655</td>\n",
              "    </tr>\n",
              "  </tbody>\n",
              "</table>\n",
              "</div>"
            ],
            "text/plain": [
              "                        Raiz  Pasos          error %\n",
              "incremental 0.44743199999873  47431 0.00010217819895\n",
              "biseccion   0.44743141174316     17 0.00002929567149\n",
              "newton      0.44743154328978      3 0.00000010471708\n",
              "secante     0.44730412112167      8 0.02847847935850\n",
              "ridders     0.44743115830024     17 0.00008593962655"
            ]
          },
          "metadata": {
            "tags": []
          },
          "execution_count": 64
        }
      ]
    },
    {
      "cell_type": "markdown",
      "metadata": {
        "id": "F4hp2c-Tg2X9"
      },
      "source": [
        "En este caso, el mejor es el método de Newton ya que tiene el error más pequeño. Y el peor método sería el método de la secante ya que su error es mucho más grande.\n",
        "\n",
        "Todo esto se hizo con la consideración de evitar la discontinuidad de la función, en dicho caso el mejor método sería el Incremental."
      ]
    },
    {
      "cell_type": "markdown",
      "metadata": {
        "id": "-x4v-VN3VT9p"
      },
      "source": [
        "x) $f(x)=\\frac{1}{(x-0.3)^2+0.01}+\\frac{1}{(x-0.8)^2+0.04}$"
      ]
    },
    {
      "cell_type": "code",
      "metadata": {
        "colab": {
          "base_uri": "https://localhost:8080/",
          "height": 374
        },
        "id": "-CShglrKVnU9",
        "outputId": "a72736ae-9067-462f-be6a-2162871a27ca"
      },
      "source": [
        "x = np.linspace(-2.3,5,1000); f = lambda x: 1/((x-0.3)**2+0.01)-1/((x-0.8)**2+0.04)\n",
        "y = f(x)\n",
        "plt.figure(figsize=(10,6)); plt.grid()\n",
        "plt.plot(x,y, label=\"$f(x)=\\frac{1}{(x-0.3)^2+0.01}+\\frac{1}{(x-0.8)^2+0.04}$\"); plt.plot(x,y*0, \"r--\", label=\"$g(x)=0$\")\n",
        "plt.legend(); plt.xlim(-1,2);\n",
        "plt.show()"
      ],
      "execution_count": null,
      "outputs": [
        {
          "output_type": "display_data",
          "data": {
            "image/png": "[encoded data removed]",
            "text/plain": [
              "<Figure size 720x432 with 1 Axes>"
            ]
          },
          "metadata": {
            "tags": [],
            "needs_background": "light"
          }
        }
      ]
    },
    {
      "cell_type": "markdown",
      "metadata": {
        "id": "_UGHHCg5aIgj"
      },
      "source": [
        "$f(x)=\\frac{1}{(x-0.3)^2+0.01}+\\frac{1}{(x-0.8)^2+0.04}$ tiene solución en $x=\\frac{29}{50}$"
      ]
    },
    {
      "cell_type": "code",
      "metadata": {
        "id": "FGuD0TPaZ62G"
      },
      "source": [
        "f10 = lambda x: 1/((x-0.3)**2+0.01)-1/((x-0.8)**2+0.04)\n",
        "df10= lambda x: ((2*(-0.8+x))/(0.04+(x-0.8)**2)**2)-((2*(x-0.3))/(0.01+(x-0.3)**2)**2)"
      ],
      "execution_count": null,
      "outputs": []
    },
    {
      "cell_type": "code",
      "metadata": {
        "colab": {
          "base_uri": "https://localhost:8080/",
          "height": 204
        },
        "id": "60EypV_saloh",
        "outputId": "a39dbdbe-eab3-4b2b-ef47-a28b28a97214"
      },
      "source": [
        "#Para la raíz en [0.5,0.9]\n",
        "rm1=[incremental(f10,0.5,0.6,1e-4)[0],biseccion(f10,0.5,0.6,1e-4)[0],newton(f10,df10,0.5,0.6,1e-4)[0],secante(f10,0.5,0.6,1e-4)[0],ridders(f10,0.5,0.6,1e-4)[0]]\n",
        "rm2=[incremental(f10,0.5,0.6,1e-4)[1],biseccion(f10,0.5,0.6,1e-4)[1],newton(f10,df10,0.5,0.6,1e-4)[1],secante(f10,0.5,0.6,1e-4)[1],ridders(f10,0.5,0.6,1e-4)[1]]\n",
        "nm=['incremental','biseccion','newton','secante','ridders']\n",
        "\n",
        "lista_incremental=[]\n",
        "valor_real= 0.58\n",
        "for i in range(len(rm1)):\n",
        "  error=abs((valor_real-rm1[i])/valor_real)*100\n",
        "  lista_incremental.append([rm1[i],int(rm2[i]),error])\n",
        "cols = [\"Raiz\",\"Pasos\",\"error %\"]\n",
        "pd.DataFrame(lista_incremental, index=nm, columns=cols)"
      ],
      "execution_count": null,
      "outputs": [
        {
          "output_type": "execute_result",
          "data": {
            "text/html": [
              "<div>\n",
              "<style scoped>\n",
              "    .dataframe tbody tr th:only-of-type {\n",
              "        vertical-align: middle;\n",
              "    }\n",
              "\n",
              "    .dataframe tbody tr th {\n",
              "        vertical-align: top;\n",
              "    }\n",
              "\n",
              "    .dataframe thead th {\n",
              "        text-align: right;\n",
              "    }\n",
              "</style>\n",
              "<table border=\"1\" class=\"dataframe\">\n",
              "  <thead>\n",
              "    <tr style=\"text-align: right;\">\n",
              "      <th></th>\n",
              "      <th>Raiz</th>\n",
              "      <th>Pasos</th>\n",
              "      <th>error %</th>\n",
              "    </tr>\n",
              "  </thead>\n",
              "  <tbody>\n",
              "    <tr>\n",
              "      <th>incremental</th>\n",
              "      <td>0.58009999999999</td>\n",
              "      <td>800</td>\n",
              "      <td>0.01724137930883</td>\n",
              "    </tr>\n",
              "    <tr>\n",
              "      <th>biseccion</th>\n",
              "      <td>0.57998046875000</td>\n",
              "      <td>10</td>\n",
              "      <td>0.00336745689657</td>\n",
              "    </tr>\n",
              "    <tr>\n",
              "      <th>newton</th>\n",
              "      <td>0.57999999997748</td>\n",
              "      <td>3</td>\n",
              "      <td>0.00000000388243</td>\n",
              "    </tr>\n",
              "    <tr>\n",
              "      <th>secante</th>\n",
              "      <td>0.58311688311688</td>\n",
              "      <td>2</td>\n",
              "      <td>0.53739364084193</td>\n",
              "    </tr>\n",
              "    <tr>\n",
              "      <th>ridders</th>\n",
              "      <td>0.57994494221153</td>\n",
              "      <td>10</td>\n",
              "      <td>0.00949272215041</td>\n",
              "    </tr>\n",
              "  </tbody>\n",
              "</table>\n",
              "</div>"
            ],
            "text/plain": [
              "                        Raiz  Pasos          error %\n",
              "incremental 0.58009999999999    800 0.01724137930883\n",
              "biseccion   0.57998046875000     10 0.00336745689657\n",
              "newton      0.57999999997748      3 0.00000000388243\n",
              "secante     0.58311688311688      2 0.53739364084193\n",
              "ridders     0.57994494221153     10 0.00949272215041"
            ]
          },
          "metadata": {
            "tags": []
          },
          "execution_count": 14
        }
      ]
    },
    {
      "cell_type": "markdown",
      "metadata": {
        "id": "4jJ41HGr_JdS"
      },
      "source": [
        "Realizaremos el análisis comparativo en terminos de dos cosas, numero de pasos y error.\n",
        "\n",
        "En términos de **numero de pasos** el mejor método fue el de la **secante** pues en dos iteraciones,converge a un resultado y el peor método fue el metodo **incremental**, pues aunque presenta un error pequeño, llega a este en 800 pasos, haciéndolo muy caro en términos computacionales.\n",
        "\n",
        "En términos de **error** notamos que el mejor método fue el de **Newton-Rapson** pues presenta el error más pequeño de todos y el peor método fue el método de la **secante** pues presenta el error más grande de todos.\n",
        "\n",
        "Concluyo que para la raíz $x=0.58$ de la función $f(x)=\\frac{1}{(x-0.3)^2+0.01}+\\frac{1}{(x-0.8)^2+0.04}$, el mejor método fue el de **Newton** por su relativo bajo costo computacional(solo realiza 3 iteraciones) y presenta un error pequeño."
      ]
    },
    {
      "cell_type": "markdown",
      "metadata": {
        "id": "aTMo7GzMjdXI"
      },
      "source": [
        "xi) $f(x)=x^4-(6.4)x^3+(6.45)x^2+(20.538)x-31.752$"
      ]
    },
    {
      "cell_type": "code",
      "metadata": {
        "colab": {
          "base_uri": "https://localhost:8080/",
          "height": 374
        },
        "id": "mB-KTDYDfHu4",
        "outputId": "3088df59-064a-4803-a5fc-ae7044534d5f"
      },
      "source": [
        "# Gráficamos para ver el comportamiento de la función\n",
        "x = np.linspace(-2.3,5); f = lambda x: x**4-(6.4)*x**3+(6.45)*x**2+(20.538)*x-31.752\n",
        "y = f(x)\n",
        "plt.figure(figsize=(10,6)); plt.grid()\n",
        "plt.plot(x,y, label=\"$f(x)=x^4-(6.4)x^3+(6.45)x^2+(20.538)x-31.752$\"); plt.plot(x,y*0, \"r--\", label=\"$g(x)=0$\")\n",
        "plt.legend()\n",
        "plt.show()"
      ],
      "execution_count": null,
      "outputs": [
        {
          "output_type": "display_data",
          "data": {
            "image/png": "[encoded data removed]",
            "text/plain": [
              "<Figure size 720x432 with 1 Axes>"
            ]
          },
          "metadata": {
            "tags": [],
            "needs_background": "light"
          }
        }
      ]
    },
    {
      "cell_type": "markdown",
      "metadata": {
        "id": "eMkdYFPPh8XQ"
      },
      "source": [
        "En esta ecuación tenemos tres raices diferentes\n",
        "\n",
        "$$x_1=-1.8,\\quad x_2=2.1,\\quad x_3=4$$"
      ]
    },
    {
      "cell_type": "code",
      "metadata": {
        "id": "_2iX1kV-lvDF",
        "colab": {
          "base_uri": "https://localhost:8080/",
          "height": 204
        },
        "outputId": "54951bf1-4402-439e-d275-9c17912c1a99"
      },
      "source": [
        "f11 = lambda x: x**4-(6.4)*x**3+(6.45)*x**2+(20.538)*x-31.752\n",
        "df11= lambda x: 4*x**3-(19.2)*x**2+(12.9)*x+(20.538)\n",
        "\n",
        "#Para la raíz en [-2,-1]\n",
        "rm1=[incremental(f11,-2.0,-1.0,1e-4)[0],biseccion(f11,-2.0,-1.0,1e-4)[0],newton(f11,df11,-2.0,-1.0,1e-4)[0],secante(f11,-2.0,-1.0,1e-4)[0],ridders(f11,-2.0,-1.0,1e-4)[0]]\n",
        "rm2=[incremental(f11,-2.0,-1.0,1e-4)[1],biseccion(f11,-2.0,-1.0,1e-4)[1],newton(f11,df11,-2.0,-1.0,1e-4)[1],secante(f11,-2.0,-1.0,1e-4)[1],ridders(f11,-2.0,-1.0,1e-4)[1]]\n",
        "nm=['incremental','biseccion','newton','secante','ridders']\n",
        "\n",
        "lista_incremental=[]\n",
        "valor_real= -1.8\n",
        "for i in range(len(rm1)):\n",
        "  error=abs((valor_real-rm1[i])/valor_real)*100\n",
        "  lista_incremental.append([rm1[i],int(rm2[i]),error])\n",
        "cols = [\"Raiz\",\"Pasos\",\"error %\"]\n",
        "pd.DataFrame(lista_incremental, index=nm, columns=cols)"
      ],
      "execution_count": null,
      "outputs": [
        {
          "output_type": "execute_result",
          "data": {
            "text/html": [
              "<div>\n",
              "<style scoped>\n",
              "    .dataframe tbody tr th:only-of-type {\n",
              "        vertical-align: middle;\n",
              "    }\n",
              "\n",
              "    .dataframe tbody tr th {\n",
              "        vertical-align: top;\n",
              "    }\n",
              "\n",
              "    .dataframe thead th {\n",
              "        text-align: right;\n",
              "    }\n",
              "</style>\n",
              "<table border=\"1\" class=\"dataframe\">\n",
              "  <thead>\n",
              "    <tr style=\"text-align: right;\">\n",
              "      <th></th>\n",
              "      <th>Raiz</th>\n",
              "      <th>Pasos</th>\n",
              "      <th>error %</th>\n",
              "    </tr>\n",
              "  </thead>\n",
              "  <tbody>\n",
              "    <tr>\n",
              "      <th>incremental</th>\n",
              "      <td>-1.79990000000002</td>\n",
              "      <td>2000</td>\n",
              "      <td>0.00555555555433</td>\n",
              "    </tr>\n",
              "    <tr>\n",
              "      <th>biseccion</th>\n",
              "      <td>-1.79998779296875</td>\n",
              "      <td>14</td>\n",
              "      <td>0.00067816840278</td>\n",
              "    </tr>\n",
              "    <tr>\n",
              "      <th>newton</th>\n",
              "      <td>-1.80000000014458</td>\n",
              "      <td>4</td>\n",
              "      <td>0.00000000803217</td>\n",
              "    </tr>\n",
              "    <tr>\n",
              "      <th>secante</th>\n",
              "      <td>-1.79881678639898</td>\n",
              "      <td>5</td>\n",
              "      <td>0.06573408894576</td>\n",
              "    </tr>\n",
              "    <tr>\n",
              "      <th>ridders</th>\n",
              "      <td>-1.79991253521145</td>\n",
              "      <td>12</td>\n",
              "      <td>0.00485915491931</td>\n",
              "    </tr>\n",
              "  </tbody>\n",
              "</table>\n",
              "</div>"
            ],
            "text/plain": [
              "                         Raiz  Pasos          error %\n",
              "incremental -1.79990000000002   2000 0.00555555555433\n",
              "biseccion   -1.79998779296875     14 0.00067816840278\n",
              "newton      -1.80000000014458      4 0.00000000803217\n",
              "secante     -1.79881678639898      5 0.06573408894576\n",
              "ridders     -1.79991253521145     12 0.00485915491931"
            ]
          },
          "metadata": {
            "tags": []
          },
          "execution_count": 69
        }
      ]
    },
    {
      "cell_type": "code",
      "metadata": {
        "colab": {
          "base_uri": "https://localhost:8080/",
          "height": 204
        },
        "id": "5dRaHO-5qMRG",
        "outputId": "976ffd3f-399f-413b-aaae-d2fe44188a7b"
      },
      "source": [
        "#Para la raíz en [1.5,2.5]\n",
        "rm1=[incremental(f11,1.5,2.5,1e-4)[0],biseccion(f11,1.5,2.5,1e-4)[0],newton(f11,df11,1.5,2.5,1e-4)[0],secante(f11,1.5,2.5,1e-4)[0],ridders(f11,1.5,2.5,1e-4)[0]]\n",
        "rm2=[incremental(f11,1.5,2.5,1e-4)[1],biseccion(f11,1.5,2.5,1e-4)[1],newton(f11,df11,1.5,2.5,1e-4)[1],secante(f11,1.5,2.5,1e-4)[1],ridders(f11,1.5,2.5,1e-4)[1]]\n",
        "nm=['incremental','biseccion','newton','secante','ridders']\n",
        "\n",
        "lista_incremental=[]\n",
        "valor_real= 2.1\n",
        "for i in range(len(rm1)):\n",
        "  error=abs((valor_real-rm1[i])/valor_real)*100\n",
        "  lista_incremental.append([rm1[i],int(rm2[i]),error])\n",
        "cols = [\"Raiz\",\"Pasos\",\"error %\"]\n",
        "pd.DataFrame(lista_incremental, index=nm, columns=cols)"
      ],
      "execution_count": null,
      "outputs": [
        {
          "output_type": "execute_result",
          "data": {
            "text/html": [
              "<div>\n",
              "<style scoped>\n",
              "    .dataframe tbody tr th:only-of-type {\n",
              "        vertical-align: middle;\n",
              "    }\n",
              "\n",
              "    .dataframe tbody tr th {\n",
              "        vertical-align: top;\n",
              "    }\n",
              "\n",
              "    .dataframe thead th {\n",
              "        text-align: right;\n",
              "    }\n",
              "</style>\n",
              "<table border=\"1\" class=\"dataframe\">\n",
              "  <thead>\n",
              "    <tr style=\"text-align: right;\">\n",
              "      <th></th>\n",
              "      <th>Raiz</th>\n",
              "      <th>Pasos</th>\n",
              "      <th>error %</th>\n",
              "    </tr>\n",
              "  </thead>\n",
              "  <tbody>\n",
              "    <tr>\n",
              "      <th>incremental</th>\n",
              "      <td>2.50000000000100</td>\n",
              "      <td>9999</td>\n",
              "      <td>19.04761904766667</td>\n",
              "    </tr>\n",
              "    <tr>\n",
              "      <th>biseccion</th>\n",
              "      <td>2.49993896484375</td>\n",
              "      <td>14</td>\n",
              "      <td>19.04471261160714</td>\n",
              "    </tr>\n",
              "    <tr>\n",
              "      <th>newton</th>\n",
              "      <td>2.09994995213784</td>\n",
              "      <td>11</td>\n",
              "      <td>0.00238323153123</td>\n",
              "    </tr>\n",
              "    <tr>\n",
              "      <th>secante</th>\n",
              "      <td>2.10788974840329</td>\n",
              "      <td>10</td>\n",
              "      <td>0.37570230491851</td>\n",
              "    </tr>\n",
              "    <tr>\n",
              "      <th>ridders</th>\n",
              "      <td>2.49991661113092</td>\n",
              "      <td>14</td>\n",
              "      <td>19.04364814909125</td>\n",
              "    </tr>\n",
              "  </tbody>\n",
              "</table>\n",
              "</div>"
            ],
            "text/plain": [
              "                        Raiz  Pasos           error %\n",
              "incremental 2.50000000000100   9999 19.04761904766667\n",
              "biseccion   2.49993896484375     14 19.04471261160714\n",
              "newton      2.09994995213784     11  0.00238323153123\n",
              "secante     2.10788974840329     10  0.37570230491851\n",
              "ridders     2.49991661113092     14 19.04364814909125"
            ]
          },
          "metadata": {
            "tags": []
          },
          "execution_count": 77
        }
      ]
    },
    {
      "cell_type": "code",
      "metadata": {
        "id": "e1-0AvMTlv1p",
        "colab": {
          "base_uri": "https://localhost:8080/",
          "height": 204
        },
        "outputId": "e87df90f-ad54-4937-9a03-6c4a15ebcd0d"
      },
      "source": [
        "#Para la raíz en [3.5,4.5]\n",
        "rm1=[incremental(f11,3.5,4.5,1e-4)[0],biseccion(f11,3.5,4.5,1e-4)[0],newton(f11,df11,3.5,4.5,1e-4)[0],secante(f11,3.5,4.5,1e-4)[0],ridders(f11,3.5,4.5,1e-4)[0]]\n",
        "rm2=[incremental(f11,3.5,4.5,1e-4)[1],biseccion(f11,3.5,4.5,1e-4)[1],newton(f11,df11,3.5,4.5,1e-4)[1],secante(f11,3.5,4.5,1e-4)[1],ridders(f11,3.5,4.5,1e-4)[1]]\n",
        "nm=['incremental','biseccion','newton','secante','ridders']\n",
        "\n",
        "lista_incremental=[]\n",
        "valor_real= 4\n",
        "for i in range(len(rm1)):\n",
        "  error=abs((valor_real-rm1[i])/valor_real)*100\n",
        "  lista_incremental.append([rm1[i],int(rm2[i]),error])\n",
        "cols = [\"Raiz\",\"Pasos\",\"error %\"]\n",
        "pd.DataFrame(lista_incremental, index=nm, columns=cols)"
      ],
      "execution_count": null,
      "outputs": [
        {
          "output_type": "execute_result",
          "data": {
            "text/html": [
              "<div>\n",
              "<style scoped>\n",
              "    .dataframe tbody tr th:only-of-type {\n",
              "        vertical-align: middle;\n",
              "    }\n",
              "\n",
              "    .dataframe tbody tr th {\n",
              "        vertical-align: top;\n",
              "    }\n",
              "\n",
              "    .dataframe thead th {\n",
              "        text-align: right;\n",
              "    }\n",
              "</style>\n",
              "<table border=\"1\" class=\"dataframe\">\n",
              "  <thead>\n",
              "    <tr style=\"text-align: right;\">\n",
              "      <th></th>\n",
              "      <th>Raiz</th>\n",
              "      <th>Pasos</th>\n",
              "      <th>error %</th>\n",
              "    </tr>\n",
              "  </thead>\n",
              "  <tbody>\n",
              "    <tr>\n",
              "      <th>incremental</th>\n",
              "      <td>4.00000000000106</td>\n",
              "      <td>4999</td>\n",
              "      <td>0.00000000002638</td>\n",
              "    </tr>\n",
              "    <tr>\n",
              "      <th>biseccion</th>\n",
              "      <td>4.00006103515625</td>\n",
              "      <td>14</td>\n",
              "      <td>0.00152587890625</td>\n",
              "    </tr>\n",
              "    <tr>\n",
              "      <th>newton</th>\n",
              "      <td>4.00000000000000</td>\n",
              "      <td>1</td>\n",
              "      <td>0.00000000000002</td>\n",
              "    </tr>\n",
              "    <tr>\n",
              "      <th>secante</th>\n",
              "      <td>3.99896378062332</td>\n",
              "      <td>6</td>\n",
              "      <td>0.02590548441703</td>\n",
              "    </tr>\n",
              "    <tr>\n",
              "      <th>ridders</th>\n",
              "      <td>4.00000780512692</td>\n",
              "      <td>15</td>\n",
              "      <td>0.00019512817306</td>\n",
              "    </tr>\n",
              "  </tbody>\n",
              "</table>\n",
              "</div>"
            ],
            "text/plain": [
              "                        Raiz  Pasos          error %\n",
              "incremental 4.00000000000106   4999 0.00000000002638\n",
              "biseccion   4.00006103515625     14 0.00152587890625\n",
              "newton      4.00000000000000      1 0.00000000000002\n",
              "secante     3.99896378062332      6 0.02590548441703\n",
              "ridders     4.00000780512692     15 0.00019512817306"
            ]
          },
          "metadata": {
            "tags": []
          },
          "execution_count": 73
        }
      ]
    },
    {
      "cell_type": "markdown",
      "metadata": {
        "id": "FY-RSmsdbB32"
      },
      "source": [
        "En el calculo para estas tres raíces, el mejor método fue el de Newton ya que estaba bien definida la función en este intervalo y tambien tuvo el menor número de paso.\n",
        "\n",
        "El peor fue el Incremental ya que no sabía como encontrar una raices que era máximo local con $f(x_2)=0$, por lo que no habia región negativa."
      ]
    },
    {
      "cell_type": "markdown",
      "metadata": {
        "id": "LR8C_Ido-Zg_"
      },
      "source": [
        "#### En conclusión..."
      ]
    },
    {
      "cell_type": "markdown",
      "metadata": {
        "id": "kGzfA1u5ADFU"
      },
      "source": [
        "...se tiene que en la gran mayoría de los casos, el método de **Newton-Rapson**, presenta resultados con un error relativamente bajo y en un numero de pasos \"aceptable\" que podría representar un término medio entre los cinco métodos que se presentan y que se analizaron.\n",
        "\n",
        "Si se busca un resultado con un error mucho más bajo (mas preciso), recomendamos el método **incremental**, bajo el costo de que realiza muchas iteraciones para llegar al resultado, ie, tarda más en converger.\n",
        "\n",
        "Si se busca un metodo que converga más rapido a una solución, recomendamos entre el método de **Newton-Rapson** y el método de la **secante** pues convergen a un resultado en un numero pequeño de pasos.\n",
        "\n",
        "También estamos concientes de que para hacer esto una competencia mucho más justa, recomendamos que en el momento de evaluar los métodos en alguna función, se escoja la misma tolerancia (o parámetros afines) para los métodos, se escojan funciones derivables y continuas en el intervalo donde se desea encontrar la raíz y que el intervalo sea relativamente pequeño pues la eficiencia de métodos como el **incremental** dependen enteramente de parámetros como la tolerancia y el tamaño del intervalo."
      ]
    },
    {
      "cell_type": "code",
      "metadata": {
        "id": "e3jAf9sw-iPG"
      },
      "source": [
        ""
      ],
      "execution_count": null,
      "outputs": []
    }
  ]
}