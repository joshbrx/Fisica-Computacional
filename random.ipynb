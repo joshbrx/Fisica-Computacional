{
 "cells": [
  {
   "cell_type": "markdown",
   "metadata": {},
   "source": [
    "# Números aleatorios en Python"
   ]
  },
  {
   "cell_type": "markdown",
   "metadata": {},
   "source": [
    "Los números completamente aleatorios (no determinísticos) son fáciles de imaginar conceptualmente, por ejemplo podemos imaginar lanzar una moneda, lanzar un dado o una lotería."
   ]
  },
  {
   "cell_type": "markdown",
   "metadata": {},
   "source": [
    "Quizás se hayan preguntado cómo las máquinas predecibles como las computadoras pueden generar aleatoriedad. En realidad, la mayoría de los números aleatorios utilizados en los programas de computadora son pseudoaleatorios, lo que significa que se generan de manera predecible utilizando una fórmula matemática."
   ]
  },
  {
   "cell_type": "markdown",
   "metadata": {},
   "source": [
    "Un número pseudo-aleatorio es un número generado en un proceso que parece producir números al azar, pero no lo hace realmente. Las secuencias de números pseudo-aleatorios no muestran ningún patrón o regularidad aparente desde un punto de vista estadístico, a pesar de haber sido generadas por un algoritmo completamente determinista, en el que las mismas condiciones iniciales producen siempre el mismo resultado. La condición inicial se llama semilla (seed)"
   ]
  },
  {
   "cell_type": "markdown",
   "metadata": {},
   "source": [
    "El Mersenne twister es un Generador de números pseudoaleatorios desarrollado en 1997 por Makoto Matsumoto y Takuji Nishimura reputado por su calidad.\n",
    "\n",
    "Su nombre proviene del hecho de que la longitud del periodo corresponde a un Número primo de Mersenne. Existen al menos dos variantes de este algoritmo, distinguiéndose únicamente en el tamaño de primos Mersenne utilizados. El más reciente y más utilizado es el Mersenne Twister MT19937, con un tamaño de palabra de 32-bit. Existe otra variante con palabras de 64 bits, el MT19937-64, la cual genera otra secuencia.\n",
    "\n",
    "Un número de Mersenne es un número entero positivo m que es una unidad menor que una potencia entera positiva de 2:\n",
    "$$\n",
    "M_n=2^n-1\n",
    "$$\n",
    "\n",
    "A diciembre de 2018, solo se conocen 51 números primos de Mersenne, siendo el mayor de ellos $M_{82 589 933} = 2^{82 589 933}−1$, un número de más de 24 millones de cifras. El número primo más grande que se conocía en una fecha dada casi siempre ha sido un número primo de Mersenne."
   ]
  },
  {
   "cell_type": "code",
   "execution_count": 1,
   "metadata": {},
   "outputs": [],
   "source": [
    "from random import *"
   ]
  },
  {
   "cell_type": "code",
   "execution_count": 5,
   "metadata": {},
   "outputs": [
    {
     "name": "stdout",
     "output_type": "stream",
     "text": [
      "0 0.013501362082231627\n",
      "1 0.6404898203719978\n",
      "2 0.7150440872616698\n",
      "3 0.24404578900303786\n",
      "4 0.7184259035823145\n",
      "5 0.590556759439464\n",
      "6 0.1692823900865854\n",
      "7 0.09956752121174517\n",
      "8 0.9444654098212717\n",
      "9 0.3796029387368408\n"
     ]
    }
   ],
   "source": [
    "for i in range(10):\n",
    "    print(i,random()) \n",
    "#Generamos un números aleatorio entre 0 y 1, flotante"
   ]
  },
  {
   "cell_type": "code",
   "execution_count": 9,
   "metadata": {},
   "outputs": [
    {
     "name": "stdout",
     "output_type": "stream",
     "text": [
      "0 4\n",
      "1 2\n",
      "2 3\n",
      "3 3\n",
      "4 6\n",
      "5 7\n",
      "6 7\n",
      "7 7\n",
      "8 1\n",
      "9 4\n"
     ]
    }
   ],
   "source": [
    "for i in range(10):\n",
    "    print(i,randint(1,10))  #es el analogo a range(x0,xf) [x0,xf)\n",
    "#Generamos un números aleatorio entre un rango, entero"
   ]
  },
  {
   "cell_type": "code",
   "execution_count": 15,
   "metadata": {},
   "outputs": [
    {
     "name": "stdout",
     "output_type": "stream",
     "text": [
      "Sorteo 1 : balón\n",
      "Sorteo 2 : mp4\n",
      "Sorteo 3 : tv\n",
      "Sorteo 4 : patín\n",
      "Sorteo 5 : tv\n"
     ]
    }
   ],
   "source": [
    "from random import *\n",
    "#Esta función randint nos sive para hacer un sorteo\n",
    "regalos = ['sartén', 'jamón', 'mp4', 'muñeca', 'tv',\n",
    "           'patín', 'balón', 'reloj', 'bicicleta', 'anillo']\n",
    "for sorteo in range(5): #el sorteo se hace 5 veces\n",
    "    regalo = regalos[randint(0, 9)] # encuentro el i-esimo elemento i=aleatorio\n",
    "    print('Sorteo', sorteo + 1, ':', regalo)"
   ]
  },
  {
   "cell_type": "code",
   "execution_count": 26,
   "metadata": {},
   "outputs": [
    {
     "name": "stdout",
     "output_type": "stream",
     "text": [
      "-1\n",
      "-1\n",
      "0\n",
      "2\n",
      "-3\n",
      "0\n",
      "0\n",
      "2\n",
      "-2\n",
      "-1\n"
     ]
    }
   ],
   "source": [
    "#también podemos generar números negativos\n",
    "for numero in range(10):\n",
    "    print(randint(-3, 3))"
   ]
  },
  {
   "cell_type": "markdown",
   "metadata": {},
   "source": [
    "La función randrange() devuelve enteros que van desde un valor inicial a otro final separados entre sí un número de valores determinados. Esta separación (o paso) se utiliza en primer lugar con el valor inicial para calcular el siguiente valor y los sucesivos hasta llegar al valor final o al más cercano posible.\n",
    "\n",
    "Ejemplo: Obtén 25 números aleatorios que van desde el 3 al 16. Sin incluir el número 16. Es decir, usa la lista (3, 6, 9, 12, 15) y obten 25 números aletorios dentro de esta lista"
   ]
  },
  {
   "cell_type": "code",
   "execution_count": 31,
   "metadata": {},
   "outputs": [
    {
     "name": "stdout",
     "output_type": "stream",
     "text": [
      "\n",
      "Valores posibles: 3, 6, 9, 12, 15\n",
      "6\t3\t15\t6\t15\t12\t6\t15\t3\t6\t12\t9\t6\t12\t9\t6\t12\t9\t9\t3\t12\t12\t15\t9\t6\t"
     ]
    }
   ],
   "source": [
    "print('\\nValores posibles: 3, 6, 9, 12, 15')\n",
    "for i in range(25):\n",
    "    print(randrange(3, 16, 3), end='\\t') # \\t tabulacion, \\n salto de lineas"
   ]
  },
  {
   "cell_type": "code",
   "execution_count": 41,
   "metadata": {},
   "outputs": [
    {
     "name": "stdout",
     "output_type": "stream",
     "text": [
      "104.53378093935696 102.27510719776883 103.07422116563941 "
     ]
    }
   ],
   "source": [
    "for numero in range(3):\n",
    "    print(uniform(100, 105), end=' ')\n",
    "#La función uniform() devuelve un número float incluido entre los valores indicados."
   ]
  },
  {
   "cell_type": "markdown",
   "metadata": {},
   "source": [
    "Cuando queremos hackear el sorteo y obtener la misma secuencia de números pseudoaleatoria se puede utilizar la función seed() que fija mediante una \"semilla\" el mismo comienzo en cada secuencia, permitiendo con ello obtener series con los mismos valores.\n",
    "\n",
    "A continuación, se muestra un ejemplo donde se realizan dos series de cinco sorteos; y en cada serie se obtienen los mismos regalos y en el mismo orden.\n",
    "\n",
    "La semilla en este caso se fija con un valor numérico (0 en este caso) pero también se puede utilizar una cadena o una unidad de tiempo obtenida con la función time() del módulo time; o incluso puede expresarse con cualquier objeto \"hashable\" de Python.\n"
   ]
  },
  {
   "cell_type": "code",
   "execution_count": 52,
   "metadata": {},
   "outputs": [
    {
     "name": "stdout",
     "output_type": "stream",
     "text": [
      "\n",
      "serie: 1\n",
      "Sorteo 1 : mp4\n",
      "Sorteo 2 : anillo\n",
      "Sorteo 3 : jamón\n",
      "Sorteo 4 : tv\n",
      "Sorteo 5 : jamón\n",
      "\n",
      "serie: 2\n",
      "Sorteo 1 : mp4\n",
      "Sorteo 2 : anillo\n",
      "Sorteo 3 : jamón\n",
      "Sorteo 4 : tv\n",
      "Sorteo 5 : jamón\n"
     ]
    }
   ],
   "source": [
    "regalos = ['sartén', 'jamón', 'mp4', 'muñeca', 'tv',\n",
    "           'patín', 'balón', 'reloj', 'bicicleta', 'anillo']\n",
    "\n",
    "for serie in range(2): #repeticion de la serie de sorteo\n",
    "    print('\\nserie:', serie + 1)\n",
    "    seed(1) #iniciando la sucesion con M0=0\n",
    "    for sorteo in range(5):\n",
    "        regalo = regalos[randint(0, 9)]\n",
    "        print('Sorteo', sorteo + 1, ':', regalo)"
   ]
  },
  {
   "cell_type": "markdown",
   "metadata": {},
   "source": [
    "## Aula virtual\n",
    "Elabora un programa que genere una sucesión de números aleatorios en el intervalo (1,20) cuya suma sea menor que 150."
   ]
  },
  {
   "cell_type": "code",
   "execution_count": 1,
   "metadata": {},
   "outputs": [],
   "source": [
    "#Aqui va tu código"
   ]
  },
  {
   "cell_type": "markdown",
   "metadata": {},
   "source": [
    "# Listas y Aleatoriedad"
   ]
  },
  {
   "cell_type": "markdown",
   "metadata": {},
   "source": [
    "choice()\n",
    "\n",
    "La función choice() se utiliza para seleccionar elementos al azar de una lista.\n",
    "\n",
    "En el siguiente ejemplo se obtiene un elemento de los cinco existentes en una lista.\n"
   ]
  },
  {
   "cell_type": "code",
   "execution_count": 8,
   "metadata": {},
   "outputs": [
    {
     "name": "stdout",
     "output_type": "stream",
     "text": [
      "Hoy viajaré en: tren\n"
     ]
    }
   ],
   "source": [
    "from random import *\n",
    "transporte = ['bici', 'moto', 'coche', 'tren', 'avión']\n",
    "print('Hoy viajaré en:', choice(transporte))"
   ]
  },
  {
   "cell_type": "markdown",
   "metadata": {},
   "source": [
    "shuffle()\n",
    "\n",
    "La función shuffle() 'mezcla' o cambia aleatoriamente el orden de los elementos de una lista antes de realizar la selección de alguno de ellos. Esta mezcla recuerda en el caso de los juegos de cartas la acción de barajar un número de veces antes de repartir o seleccionar cartas.\n",
    "\n",
    "En el siguiente ejemplo se realizan dos 'mezclas' antes de que se obtenga el elemento."
   ]
  },
  {
   "cell_type": "code",
   "execution_count": 12,
   "metadata": {},
   "outputs": [
    {
     "name": "stdout",
     "output_type": "stream",
     "text": [
      "mezcla1 ['verde', 'amarillo', 'rojo']\n",
      "mezcla2 ['rojo', 'verde', 'amarillo']\n",
      "rojo\n"
     ]
    }
   ],
   "source": [
    "lista = ['rojo', 'verde', 'amarillo']\n",
    "\n",
    "shuffle(lista)\n",
    "print('mezcla1', lista)\n",
    "\n",
    "shuffle(lista)\n",
    "print('mezcla2', lista)\n",
    "print(lista[randint(0,2)])"
   ]
  },
  {
   "cell_type": "code",
   "execution_count": 84,
   "metadata": {},
   "outputs": [
    {
     "name": "stdout",
     "output_type": "stream",
     "text": [
      "Escoge: entre piedra, papel o tijera:\ttijera\n",
      "tijera papel\n",
      "2:tu ganas\n"
     ]
    }
   ],
   "source": [
    "from random import choice\n",
    "x=input('Escoge: entre piedra, papel o tijera:\\t')\n",
    "l=['piedra','papel','tijera'] #lagarto, spock\n",
    "'''\n",
    "for i in range(10):\n",
    "    opcion=choice(l)\n",
    "    print(opcion)\n",
    "    las comillas indican un bloque en comentario\n",
    "'''\n",
    "opcion=choice(l) #seleccion computadora\n",
    "print(x,opcion)\n",
    "if x==opcion:\n",
    "    print('Tu: %s, yo: %s, hay empate' %(x, opcion))\n",
    "if x!=opcion:\n",
    "    if x=='papel': \n",
    "        if opcion=='piedra':\n",
    "            print('1:Tu ganas')\n",
    "        else:\n",
    "            print('1:yo gano')\n",
    "    if x=='tijera':\n",
    "        if opcion=='piedra':\n",
    "            print('2:yo gano')\n",
    "        if opcion=='papel':\n",
    "            print('2:tu ganas')\n",
    "    if x=='piedra':\n",
    "        if opcion=='tijera':\n",
    "            print('3:tu ganas')\n",
    "        if opcion=='papel':\n",
    "            print('3:yo gano')"
   ]
  },
  {
   "cell_type": "code",
   "execution_count": null,
   "metadata": {},
   "outputs": [],
   "source": []
  }
 ],
 "metadata": {
  "kernelspec": {
   "display_name": "Python 3",
   "language": "python",
   "name": "python3"
  },
  "language_info": {
   "codemirror_mode": {
    "name": "ipython",
    "version": 3
   },
   "file_extension": ".py",
   "mimetype": "text/x-python",
   "name": "python",
   "nbconvert_exporter": "python",
   "pygments_lexer": "ipython3",
   "version": "3.8.3"
  }
 },
 "nbformat": 4,
 "nbformat_minor": 2
}
