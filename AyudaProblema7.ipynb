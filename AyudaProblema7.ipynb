{
 "cells": [
  {
   "cell_type": "code",
   "execution_count": null,
   "metadata": {},
   "outputs": [],
   "source": [
    "eB = 0.02\n",
    "Lambda = 2\n",
    "OmegaQ = 3\n",
    "\n",
    "#Definimos las funciones de Bessel modificadas de primera clase\n",
    "def Bessel_Modificada_0(x):\n",
    "    def integrando_0(y):\n",
    "        return exp(x*cos(y))\n",
    "    \n",
    "    return (1/pi)*simpson(integrando_0, 0, pi, 1000)\n",
    "\n",
    "def Bessel_Modificada_1(x):\n",
    "    def integrando_1(y):\n",
    "        return cos(y)*exp(x*cos(y))\n",
    "    \n",
    "    return (1/pi)*simpson(integrando_1, 0, pi, 1000)\n",
    "\n",
    "#Definamos a la funcion gf(wp, wq)\n",
    "def gf(x):\n",
    "    return (x**2 + OmegaQ**2 - x*OmegaQ)/(2*eB)\n",
    "\n",
    "#Definamos la función n(w)\n",
    "def n(x):\n",
    "    return (3)/(exp(x/Lambda) - 1)\n",
    "\n",
    "def F(x):\n",
    "    T1 = (2*(x**2) + OmegaQ**2 - x*OmegaQ);\n",
    "    T2 = exp(-gf(x));\n",
    "    T3 = n(x);\n",
    "    T4 = (1 + 2*n(abs(OmegaQ - x)));\n",
    "    T5 = (Bessel_Modificada_0(gf(x)) - Bessel_Modificada_1(gf(x)))\n",
    "    \n",
    "    return T1*T2*T3*T4*T5"
   ]
  }
 ],
 "metadata": {
  "kernelspec": {
   "display_name": "Python 3",
   "language": "python",
   "name": "python3"
  },
  "language_info": {
   "codemirror_mode": {
    "name": "ipython",
    "version": 3
   },
   "file_extension": ".py",
   "mimetype": "text/x-python",
   "name": "python",
   "nbconvert_exporter": "python",
   "pygments_lexer": "ipython3",
   "version": "3.8.3"
  }
 },
 "nbformat": 4,
 "nbformat_minor": 4
}
